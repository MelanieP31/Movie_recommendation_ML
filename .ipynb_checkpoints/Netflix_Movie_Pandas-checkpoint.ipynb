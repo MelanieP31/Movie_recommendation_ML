{
 "cells": [
  {
   "cell_type": "markdown",
   "id": "5d5aeb35-bf23-4042-9f76-90662c5b1aee",
   "metadata": {
    "tags": []
   },
   "source": [
    "# Movie Recommendation Systeme"
   ]
  },
  {
   "cell_type": "markdown",
   "id": "9d83cf1f-bb6e-44f7-b45d-437e90d5b74a",
   "metadata": {},
   "source": [
    "A REFAIRE \n",
    "\n",
    "This project aims to develop a movie recommendation system using a dataset of Netflix movies.  \n",
    "Source : https://www.kaggle.com/datasets/victorsoeiro/netflix-tv-shows-and-movies?select=titles.csv , Data collected from JustWatch.   \n",
    "The data includes various features such as titles, genres, release years, and user ratings.   \n",
    "\n",
    "The goal is to clean and preprocess the data, handle missing values, and build a recommendation engine that can suggest movies based on user preferences.   \n",
    "\n",
    "1. Data Loading and Preparation : Loading the dataset, filtering for movies, and drop unnecessary columns.  \n",
    "2. Data Transformation: Extracting genres and main production countries from the data.  \n",
    "3. Handling Missing Values: Identifying and filling missing values using techniques such as imputation and prediction.  \n",
    "4. Feature Engineering: Creating additional features like normalized scores and weighted ratings.  \n",
    "5. Keyword Extraction: Extracting keywords from movie titles and descriptions using the YAKE algorithm.  \n",
    "6. Visualization: Visualizing the distribution of movie ratings.  \n",
    "7. Recommendation System: Implementing a recommendation system using content-based filtering and machine learning algorithms.  \n",
    "\n",
    "Methods and Algorithms Used:\n",
    "* Data Cleaning and Preprocessing  \n",
    "* Feature Engineering\n",
    "* Missing Value Imputation using Random Forest Regressor\n",
    "* Keyword Extraction using YAKE (Yet Another Keyword Extractor)\n",
    "* Data Visualization with Matplotlib and Seaborn\n",
    "* Content-Based Filtering for Recommendations\n",
    "* Nearest Neighbors Algorithm for Finding Similar Movies"
   ]
  },
  {
   "cell_type": "code",
   "execution_count": 15,
   "id": "5e93e38f-efcb-4331-820e-95ede58867ab",
   "metadata": {
    "tags": []
   },
   "outputs": [],
   "source": [
    "# Import necessary libraries\n",
    "import numpy as np\n",
    "import pandas as pd\n",
    "import matplotlib.pyplot as plt\n",
    "import seaborn as sns\n",
    "import ast\n",
    "\n",
    "from gensim.models import Word2Vec\n",
    "from sklearn.cluster import KMeans\n",
    "\n",
    "from sklearn.base import BaseEstimator, TransformerMixin\n",
    "from sklearn.preprocessing import MultiLabelBinarizer\n",
    "from sklearn.model_selection import train_test_split, GridSearchCV\n",
    "from sklearn.neighbors import KNeighborsRegressor\n",
    "from sklearn.neighbors import NearestNeighbors\n",
    "from sklearn.metrics import confusion_matrix, classification_report\n",
    "from sklearn.ensemble import RandomForestRegressor\n",
    "\n",
    "import yake\n",
    "\n",
    "import nltk\n",
    "from nltk.corpus import stopwords\n",
    "from nltk.tokenize import word_tokenize\n",
    "import string\n",
    "from nltk.stem import WordNetLemmatizer"
   ]
  },
  {
   "cell_type": "code",
   "execution_count": 17,
   "id": "d4e777f4-061b-48bb-bfbc-4c5ccab87684",
   "metadata": {
    "tags": []
   },
   "outputs": [
    {
     "name": "stderr",
     "output_type": "stream",
     "text": [
      "[nltk_data] Downloading package stopwords to\n",
      "[nltk_data]     C:\\Users\\melan\\AppData\\Roaming\\nltk_data...\n",
      "[nltk_data]   Package stopwords is already up-to-date!\n",
      "[nltk_data] Downloading package punkt to\n",
      "[nltk_data]     C:\\Users\\melan\\AppData\\Roaming\\nltk_data...\n",
      "[nltk_data]   Package punkt is already up-to-date!\n",
      "[nltk_data] Downloading package wordnet to\n",
      "[nltk_data]     C:\\Users\\melan\\AppData\\Roaming\\nltk_data...\n",
      "[nltk_data]   Package wordnet is already up-to-date!\n"
     ]
    },
    {
     "data": {
      "text/plain": [
       "True"
      ]
     },
     "execution_count": 17,
     "metadata": {},
     "output_type": "execute_result"
    }
   ],
   "source": [
    "nltk.download('stopwords')\n",
    "nltk.download('punkt')\n",
    "nltk.download('wordnet')"
   ]
  },
  {
   "cell_type": "markdown",
   "id": "b73d9581-5422-47ef-adaf-8f10409d29a4",
   "metadata": {
    "tags": []
   },
   "source": [
    "## Section 1 : Data Loading and Preparation"
   ]
  },
  {
   "cell_type": "code",
   "execution_count": 19,
   "id": "cb5d019a-7ed7-47e6-9d8f-c7f38af6e627",
   "metadata": {
    "tags": []
   },
   "outputs": [],
   "source": [
    "# Loading Data\n",
    "df = pd.read_csv('input/titles.csv')"
   ]
  },
  {
   "cell_type": "code",
   "execution_count": 23,
   "id": "e0eac2bf-2130-4275-b8d9-bbc7d118fbe0",
   "metadata": {
    "tags": []
   },
   "outputs": [
    {
     "data": {
      "text/html": [
       "<div>\n",
       "<style scoped>\n",
       "    .dataframe tbody tr th:only-of-type {\n",
       "        vertical-align: middle;\n",
       "    }\n",
       "\n",
       "    .dataframe tbody tr th {\n",
       "        vertical-align: top;\n",
       "    }\n",
       "\n",
       "    .dataframe thead th {\n",
       "        text-align: right;\n",
       "    }\n",
       "</style>\n",
       "<table border=\"1\" class=\"dataframe\">\n",
       "  <thead>\n",
       "    <tr style=\"text-align: right;\">\n",
       "      <th></th>\n",
       "      <th>id</th>\n",
       "      <th>title</th>\n",
       "      <th>type</th>\n",
       "      <th>description</th>\n",
       "      <th>release_year</th>\n",
       "      <th>age_certification</th>\n",
       "      <th>runtime</th>\n",
       "      <th>genres</th>\n",
       "      <th>production_countries</th>\n",
       "      <th>seasons</th>\n",
       "      <th>imdb_id</th>\n",
       "      <th>imdb_score</th>\n",
       "      <th>imdb_votes</th>\n",
       "      <th>tmdb_popularity</th>\n",
       "      <th>tmdb_score</th>\n",
       "    </tr>\n",
       "  </thead>\n",
       "  <tbody>\n",
       "    <tr>\n",
       "      <th>0</th>\n",
       "      <td>ts300399</td>\n",
       "      <td>Five Came Back: The Reference Films</td>\n",
       "      <td>SHOW</td>\n",
       "      <td>This collection includes 12 World War II-era p...</td>\n",
       "      <td>1945</td>\n",
       "      <td>TV-MA</td>\n",
       "      <td>51</td>\n",
       "      <td>['documentation']</td>\n",
       "      <td>['US']</td>\n",
       "      <td>1.0</td>\n",
       "      <td>NaN</td>\n",
       "      <td>NaN</td>\n",
       "      <td>NaN</td>\n",
       "      <td>0.600</td>\n",
       "      <td>NaN</td>\n",
       "    </tr>\n",
       "    <tr>\n",
       "      <th>1</th>\n",
       "      <td>tm84618</td>\n",
       "      <td>Taxi Driver</td>\n",
       "      <td>MOVIE</td>\n",
       "      <td>A mentally unstable Vietnam War veteran works ...</td>\n",
       "      <td>1976</td>\n",
       "      <td>R</td>\n",
       "      <td>114</td>\n",
       "      <td>['drama', 'crime']</td>\n",
       "      <td>['US']</td>\n",
       "      <td>NaN</td>\n",
       "      <td>tt0075314</td>\n",
       "      <td>8.2</td>\n",
       "      <td>808582.0</td>\n",
       "      <td>40.965</td>\n",
       "      <td>8.179</td>\n",
       "    </tr>\n",
       "    <tr>\n",
       "      <th>2</th>\n",
       "      <td>tm154986</td>\n",
       "      <td>Deliverance</td>\n",
       "      <td>MOVIE</td>\n",
       "      <td>Intent on seeing the Cahulawassee River before...</td>\n",
       "      <td>1972</td>\n",
       "      <td>R</td>\n",
       "      <td>109</td>\n",
       "      <td>['drama', 'action', 'thriller', 'european']</td>\n",
       "      <td>['US']</td>\n",
       "      <td>NaN</td>\n",
       "      <td>tt0068473</td>\n",
       "      <td>7.7</td>\n",
       "      <td>107673.0</td>\n",
       "      <td>10.010</td>\n",
       "      <td>7.300</td>\n",
       "    </tr>\n",
       "  </tbody>\n",
       "</table>\n",
       "</div>"
      ],
      "text/plain": [
       "         id                                title   type  \\\n",
       "0  ts300399  Five Came Back: The Reference Films   SHOW   \n",
       "1   tm84618                          Taxi Driver  MOVIE   \n",
       "2  tm154986                          Deliverance  MOVIE   \n",
       "\n",
       "                                         description  release_year  \\\n",
       "0  This collection includes 12 World War II-era p...          1945   \n",
       "1  A mentally unstable Vietnam War veteran works ...          1976   \n",
       "2  Intent on seeing the Cahulawassee River before...          1972   \n",
       "\n",
       "  age_certification  runtime                                       genres  \\\n",
       "0             TV-MA       51                            ['documentation']   \n",
       "1                 R      114                           ['drama', 'crime']   \n",
       "2                 R      109  ['drama', 'action', 'thriller', 'european']   \n",
       "\n",
       "  production_countries  seasons    imdb_id  imdb_score  imdb_votes  \\\n",
       "0               ['US']      1.0        NaN         NaN         NaN   \n",
       "1               ['US']      NaN  tt0075314         8.2    808582.0   \n",
       "2               ['US']      NaN  tt0068473         7.7    107673.0   \n",
       "\n",
       "   tmdb_popularity  tmdb_score  \n",
       "0            0.600         NaN  \n",
       "1           40.965       8.179  \n",
       "2           10.010       7.300  "
      ]
     },
     "execution_count": 23,
     "metadata": {},
     "output_type": "execute_result"
    }
   ],
   "source": [
    "df.head(3)"
   ]
  },
  {
   "cell_type": "code",
   "execution_count": 25,
   "id": "f8286849-b233-407f-b6f7-2244243d2dc7",
   "metadata": {
    "tags": []
   },
   "outputs": [],
   "source": [
    "# Filtering Movies and Dropping Unnecessary Columns\n",
    "df = df[df['type']=='MOVIE'].drop(['type','seasons','age_certification','imdb_id'], axis=1).reset_index(drop=True)"
   ]
  },
  {
   "cell_type": "code",
   "execution_count": 27,
   "id": "53c11034-18b7-4aad-9115-ae83d1292ae2",
   "metadata": {
    "tags": []
   },
   "outputs": [
    {
     "data": {
      "text/html": [
       "<div>\n",
       "<style scoped>\n",
       "    .dataframe tbody tr th:only-of-type {\n",
       "        vertical-align: middle;\n",
       "    }\n",
       "\n",
       "    .dataframe tbody tr th {\n",
       "        vertical-align: top;\n",
       "    }\n",
       "\n",
       "    .dataframe thead th {\n",
       "        text-align: right;\n",
       "    }\n",
       "</style>\n",
       "<table border=\"1\" class=\"dataframe\">\n",
       "  <thead>\n",
       "    <tr style=\"text-align: right;\">\n",
       "      <th></th>\n",
       "      <th>id</th>\n",
       "      <th>title</th>\n",
       "      <th>description</th>\n",
       "      <th>release_year</th>\n",
       "      <th>runtime</th>\n",
       "      <th>genres</th>\n",
       "      <th>production_countries</th>\n",
       "      <th>imdb_score</th>\n",
       "      <th>imdb_votes</th>\n",
       "      <th>tmdb_popularity</th>\n",
       "      <th>tmdb_score</th>\n",
       "    </tr>\n",
       "  </thead>\n",
       "  <tbody>\n",
       "    <tr>\n",
       "      <th>0</th>\n",
       "      <td>tm84618</td>\n",
       "      <td>Taxi Driver</td>\n",
       "      <td>A mentally unstable Vietnam War veteran works ...</td>\n",
       "      <td>1976</td>\n",
       "      <td>114</td>\n",
       "      <td>['drama', 'crime']</td>\n",
       "      <td>['US']</td>\n",
       "      <td>8.2</td>\n",
       "      <td>808582.0</td>\n",
       "      <td>40.965</td>\n",
       "      <td>8.179</td>\n",
       "    </tr>\n",
       "    <tr>\n",
       "      <th>1</th>\n",
       "      <td>tm154986</td>\n",
       "      <td>Deliverance</td>\n",
       "      <td>Intent on seeing the Cahulawassee River before...</td>\n",
       "      <td>1972</td>\n",
       "      <td>109</td>\n",
       "      <td>['drama', 'action', 'thriller', 'european']</td>\n",
       "      <td>['US']</td>\n",
       "      <td>7.7</td>\n",
       "      <td>107673.0</td>\n",
       "      <td>10.010</td>\n",
       "      <td>7.300</td>\n",
       "    </tr>\n",
       "    <tr>\n",
       "      <th>2</th>\n",
       "      <td>tm127384</td>\n",
       "      <td>Monty Python and the Holy Grail</td>\n",
       "      <td>King Arthur, accompanied by his squire, recrui...</td>\n",
       "      <td>1975</td>\n",
       "      <td>91</td>\n",
       "      <td>['fantasy', 'action', 'comedy']</td>\n",
       "      <td>['GB']</td>\n",
       "      <td>8.2</td>\n",
       "      <td>534486.0</td>\n",
       "      <td>15.461</td>\n",
       "      <td>7.811</td>\n",
       "    </tr>\n",
       "  </tbody>\n",
       "</table>\n",
       "</div>"
      ],
      "text/plain": [
       "         id                            title  \\\n",
       "0   tm84618                      Taxi Driver   \n",
       "1  tm154986                      Deliverance   \n",
       "2  tm127384  Monty Python and the Holy Grail   \n",
       "\n",
       "                                         description  release_year  runtime  \\\n",
       "0  A mentally unstable Vietnam War veteran works ...          1976      114   \n",
       "1  Intent on seeing the Cahulawassee River before...          1972      109   \n",
       "2  King Arthur, accompanied by his squire, recrui...          1975       91   \n",
       "\n",
       "                                        genres production_countries  \\\n",
       "0                           ['drama', 'crime']               ['US']   \n",
       "1  ['drama', 'action', 'thriller', 'european']               ['US']   \n",
       "2              ['fantasy', 'action', 'comedy']               ['GB']   \n",
       "\n",
       "   imdb_score  imdb_votes  tmdb_popularity  tmdb_score  \n",
       "0         8.2    808582.0           40.965       8.179  \n",
       "1         7.7    107673.0           10.010       7.300  \n",
       "2         8.2    534486.0           15.461       7.811  "
      ]
     },
     "execution_count": 27,
     "metadata": {},
     "output_type": "execute_result"
    }
   ],
   "source": [
    "df.head(3)"
   ]
  },
  {
   "cell_type": "code",
   "execution_count": 29,
   "id": "2e58b33f-a7bf-431d-a435-39fd92b3cecf",
   "metadata": {
    "tags": []
   },
   "outputs": [
    {
     "data": {
      "text/plain": [
       "3744"
      ]
     },
     "execution_count": 29,
     "metadata": {},
     "output_type": "execute_result"
    }
   ],
   "source": [
    "len(df)"
   ]
  },
  {
   "cell_type": "markdown",
   "id": "ec3fa28c-c058-4a0e-ba7d-5b520bf09c19",
   "metadata": {
    "jp-MarkdownHeadingCollapsed": true,
    "tags": []
   },
   "source": [
    "# Df final : celui qui accueillera les nouvelles data \n",
    "## L'utilisateur rentrera : \n",
    "* id  \n",
    "* title  \n",
    "* description  \n",
    "* release_year  \n",
    "* runtime  \n",
    "* list of genre\n",
    "* list of country production\n",
    "* scores of differents plateforme "
   ]
  },
  {
   "cell_type": "markdown",
   "id": "d656cad2-6a78-4a08-9979-0aa63f025b25",
   "metadata": {},
   "source": [
    "## Mise en forme des data - Preparation df pour Pipeline"
   ]
  },
  {
   "cell_type": "markdown",
   "id": "8cb724d5-4275-4ab0-87ed-cdbd4e261c98",
   "metadata": {
    "jp-MarkdownHeadingCollapsed": true,
    "tags": []
   },
   "source": [
    "### Missing Value"
   ]
  },
  {
   "cell_type": "code",
   "execution_count": 108,
   "id": "030ba381-bb53-4958-b80d-85e2a55463b6",
   "metadata": {
    "tags": []
   },
   "outputs": [],
   "source": [
    "# Missing value\n",
    "class MissingValueHandler(BaseEstimator,TransformerMixin):\n",
    "    def __init__(self):\n",
    "        pass        \n",
    "        \n",
    "    def fit(self, X,y=None):\n",
    "        return self\n",
    "    \n",
    "    def transform(self, X,y=None):\n",
    "        df = X.copy()\n",
    "        \n",
    "        # Les lignes dont title ou description sont vide\n",
    "        df = df.dropna(subset=['title', 'description','genres'])\n",
    "        \n",
    "        # Les lignes dont plus de 3 colonnes ont des valeurs nulles\n",
    "        missing_value_line = df[df.isnull().sum(axis=1) >3]\n",
    "        df = df.drop(missing_value_line.index)\n",
    "        \n",
    "        # Remplir les pays manquant pas unknown country\n",
    "        df['production_countries'].fillna('unknown_country', inplace=True)\n",
    "        \n",
    "        # Supprimer les lignes où les deux scores sont manquants\n",
    "        drop_line = df[(df['imdb_score'].isnull())&(df['tmdb_score'].isnull())]\n",
    "        df = df.drop(drop_line.index)\n",
    "        \n",
    "        # Remplir les valeurs manquantes des scores en se basant sur l'autre score\n",
    "        df['tmdb_score'] = df['tmdb_score'].fillna(df['imdb_score'])\n",
    "        df['imdb_score'] = df['imdb_score'].fillna(df['tmdb_score'])\n",
    "        \n",
    "\n",
    "        \n",
    "        # Predire les valeures manquante des scores  \n",
    "        def predict_missing_values(df, target_column):\n",
    "            df_model = df[[\"release_year\", \"runtime\", \"imdb_score\", \"tmdb_score\", target_column]]\n",
    "\n",
    "            train_data = df_model.dropna(subset=[target_column])\n",
    "            test_data = df_model[df_model[target_column].isnull()]\n",
    "            X_train = train_data.drop(target_column, axis=1)\n",
    "            y_train = train_data[target_column]\n",
    "\n",
    "            model = RandomForestRegressor(n_estimators=100, random_state=0)\n",
    "            model.fit(X_train, y_train)\n",
    "\n",
    "            X_test = test_data.drop(target_column, axis=1)\n",
    "            predictions = model.predict(X_test)\n",
    "\n",
    "            df.loc[df[target_column].isnull(), target_column] = predictions\n",
    "            \n",
    "        #Appliquer sur les colonnes cible\n",
    "        target_columns = ['tmdb_popularity','imdb_votes']\n",
    "        for column in target_columns: \n",
    "            predict_missing_values(df, column)\n",
    "            \n",
    "        return df            "
   ]
  },
  {
   "cell_type": "markdown",
   "id": "9d078c79-0f44-49f1-850a-b5fcfb345c68",
   "metadata": {
    "jp-MarkdownHeadingCollapsed": true,
    "tags": []
   },
   "source": [
    "### Score unique"
   ]
  },
  {
   "cell_type": "code",
   "execution_count": 110,
   "id": "e610788c-6368-4ae1-b5e9-f2c67b934480",
   "metadata": {
    "tags": []
   },
   "outputs": [],
   "source": [
    "# calculated weighted score\n",
    "class ScoreCalculator(BaseEstimator, TransformerMixin):\n",
    "    def __init__(self):\n",
    "        pass\n",
    "        \n",
    "    def fit(self, X,y=None):\n",
    "        return self\n",
    "        \n",
    "    def transform(self, X, y=None):\n",
    "        df = X.copy()\n",
    "        \n",
    "        # Normalizing Scores\n",
    "        df['tmdb_popularity_norm'] = (df['tmdb_popularity'] - df['tmdb_popularity'].min()) / (df['tmdb_popularity'].max() - df['tmdb_popularity'].min())\n",
    "        df['imdb_votes_norm'] = (df['imdb_votes'] - df['imdb_votes'].min()) / (df['imdb_votes'].max() - df['imdb_votes'].min())\n",
    "\n",
    "        # Calculating Weighted Scores\n",
    "        df['weighted_imdb_score'] = df['imdb_score'] * df['imdb_votes_norm']\n",
    "        df['weighted_tmdb_score'] = df['tmdb_score'] * df['tmdb_popularity_norm']\n",
    "\n",
    "        df['my_rating'] = (df['weighted_imdb_score'] + df['weighted_tmdb_score']) / (df['imdb_votes_norm'] + df['tmdb_popularity_norm'])\n",
    "        \n",
    "        #drop colonnes : \n",
    "        df = df.drop(\n",
    "            ['tmdb_popularity_norm','tmdb_popularity','tmdb_score','weighted_tmdb_score',\n",
    "             'imdb_votes','imdb_votes_norm','imdb_score','weighted_imdb_score']\n",
    "            , axis=1)\n",
    "        \n",
    "        return df"
   ]
  },
  {
   "cell_type": "markdown",
   "id": "8bb33b10-ab87-4376-b095-c5c4adcdb68c",
   "metadata": {
    "jp-MarkdownHeadingCollapsed": true,
    "tags": []
   },
   "source": [
    "### Nettoyer la description"
   ]
  },
  {
   "cell_type": "code",
   "execution_count": 106,
   "id": "ec31f6dd-53bc-4215-bbf5-aead0cb69153",
   "metadata": {
    "tags": []
   },
   "outputs": [],
   "source": [
    "class TextCleaner(BaseEstimator, TransformerMixin):\n",
    "    def __init__(self):\n",
    "        self.stop_words = set(stopwords.words('english'))\n",
    "        self.punctuation = set(string.punctuation)\n",
    "        \n",
    "    def fit(self, X,y=None):\n",
    "        return self\n",
    "        \n",
    "    def transform(self, X, y=None):\n",
    "        df = X.copy()\n",
    "        \n",
    "        words_description  = df['description'].apply(lambda x: x.lower())\n",
    "        words_description = words_description.apply(word_tokenize)\n",
    "\n",
    "        # filtrer les mots de la description qui ne sont pas dans stop_words (pourrais etre fait plus simplement!\n",
    "        def filter_stop_words(words, stop_words,punctuation):\n",
    "            filtered_words = []\n",
    "            for word in words:\n",
    "                clean_word = ''.join([char for char in word if char not in punctuation ])\n",
    "               # Vérifie que clean_word n'est pas vide et n'est pas dans les stop words\n",
    "                if clean_word and clean_word.lower() not in stop_words:\n",
    "                    filtered_words.append(clean_word)\n",
    "            return filtered_words\n",
    "\n",
    "        #appliquer le filtre\n",
    "        df['description_filtered'] = words_description.apply(lambda x : filter_stop_words(x, self.stop_words, self.punctuation))\n",
    "\n",
    "        lemmatizer = WordNetLemmatizer()\n",
    "        \n",
    "        #lemmentizer les mots (tous la meme racine)\n",
    "        def apply_lemmatization(words):           \n",
    "            lemmatized_words = [lemmatizer.lemmatize(word) for word in words]\n",
    "            return lemmatized_words \n",
    "\n",
    "        df['description_lem'] = df['description_filtered'].apply(lambda x : apply_lemmatization(x))\n",
    "\n",
    "        #les joindre ensemble\n",
    "        df['description_join'] = df['description_lem'].apply(lambda x : ' '.join(x))\n",
    "        \n",
    "        #drop colonnes : \n",
    "        df = df.drop(['description_lem','description_filtered'], axis=1)\n",
    "        \n",
    "        return df"
   ]
  },
  {
   "cell_type": "markdown",
   "id": "a3abe428-6b60-4689-96a6-3d062e4544bf",
   "metadata": {
    "jp-MarkdownHeadingCollapsed": true,
    "tags": []
   },
   "source": [
    "## Verification du df"
   ]
  },
  {
   "cell_type": "code",
   "execution_count": 112,
   "id": "db6bdd12-3f02-4e3f-b22b-26c87ff040e1",
   "metadata": {
    "tags": []
   },
   "outputs": [],
   "source": [
    "from sklearn.pipeline import Pipeline"
   ]
  },
  {
   "cell_type": "code",
   "execution_count": 114,
   "id": "471f9e38-9396-45db-8d04-f3cc1ecd8482",
   "metadata": {
    "tags": []
   },
   "outputs": [],
   "source": [
    "pipeline = Pipeline([\n",
    "    ('missing_values', MissingValueHandler()),\n",
    "    ('score_calculation', ScoreCalculator()),\n",
    "    ('text_cleaning', TextCleaner())\n",
    "])"
   ]
  },
  {
   "cell_type": "code",
   "execution_count": 116,
   "id": "3c342b5a-7bfc-4126-a18a-0d5f43462466",
   "metadata": {
    "tags": []
   },
   "outputs": [],
   "source": [
    "df_transformed = pipeline.fit_transform(df)"
   ]
  },
  {
   "cell_type": "code",
   "execution_count": 118,
   "id": "257415e6-3bc8-4e6a-b509-cd8e644abca3",
   "metadata": {
    "tags": []
   },
   "outputs": [
    {
     "data": {
      "text/html": [
       "<div>\n",
       "<style scoped>\n",
       "    .dataframe tbody tr th:only-of-type {\n",
       "        vertical-align: middle;\n",
       "    }\n",
       "\n",
       "    .dataframe tbody tr th {\n",
       "        vertical-align: top;\n",
       "    }\n",
       "\n",
       "    .dataframe thead th {\n",
       "        text-align: right;\n",
       "    }\n",
       "</style>\n",
       "<table border=\"1\" class=\"dataframe\">\n",
       "  <thead>\n",
       "    <tr style=\"text-align: right;\">\n",
       "      <th></th>\n",
       "      <th>id</th>\n",
       "      <th>title</th>\n",
       "      <th>description</th>\n",
       "      <th>release_year</th>\n",
       "      <th>runtime</th>\n",
       "      <th>genres</th>\n",
       "      <th>production_countries</th>\n",
       "      <th>my_rating</th>\n",
       "      <th>description_join</th>\n",
       "    </tr>\n",
       "  </thead>\n",
       "  <tbody>\n",
       "    <tr>\n",
       "      <th>0</th>\n",
       "      <td>tm84618</td>\n",
       "      <td>Taxi Driver</td>\n",
       "      <td>A mentally unstable Vietnam War veteran works ...</td>\n",
       "      <td>1976</td>\n",
       "      <td>114</td>\n",
       "      <td>['drama', 'crime']</td>\n",
       "      <td>['US']</td>\n",
       "      <td>8.198980</td>\n",
       "      <td>mentally unstable vietnam war veteran work nig...</td>\n",
       "    </tr>\n",
       "    <tr>\n",
       "      <th>1</th>\n",
       "      <td>tm154986</td>\n",
       "      <td>Deliverance</td>\n",
       "      <td>Intent on seeing the Cahulawassee River before...</td>\n",
       "      <td>1972</td>\n",
       "      <td>109</td>\n",
       "      <td>['drama', 'action', 'thriller', 'european']</td>\n",
       "      <td>['US']</td>\n",
       "      <td>7.665871</td>\n",
       "      <td>intent seeing cahulawassee river turned one hu...</td>\n",
       "    </tr>\n",
       "    <tr>\n",
       "      <th>2</th>\n",
       "      <td>tm127384</td>\n",
       "      <td>Monty Python and the Holy Grail</td>\n",
       "      <td>King Arthur, accompanied by his squire, recrui...</td>\n",
       "      <td>1975</td>\n",
       "      <td>91</td>\n",
       "      <td>['fantasy', 'action', 'comedy']</td>\n",
       "      <td>['GB']</td>\n",
       "      <td>8.189007</td>\n",
       "      <td>king arthur accompanied squire recruit knight ...</td>\n",
       "    </tr>\n",
       "  </tbody>\n",
       "</table>\n",
       "</div>"
      ],
      "text/plain": [
       "         id                            title  \\\n",
       "0   tm84618                      Taxi Driver   \n",
       "1  tm154986                      Deliverance   \n",
       "2  tm127384  Monty Python and the Holy Grail   \n",
       "\n",
       "                                         description  release_year  runtime  \\\n",
       "0  A mentally unstable Vietnam War veteran works ...          1976      114   \n",
       "1  Intent on seeing the Cahulawassee River before...          1972      109   \n",
       "2  King Arthur, accompanied by his squire, recrui...          1975       91   \n",
       "\n",
       "                                        genres production_countries  \\\n",
       "0                           ['drama', 'crime']               ['US']   \n",
       "1  ['drama', 'action', 'thriller', 'european']               ['US']   \n",
       "2              ['fantasy', 'action', 'comedy']               ['GB']   \n",
       "\n",
       "   my_rating                                   description_join  \n",
       "0   8.198980  mentally unstable vietnam war veteran work nig...  \n",
       "1   7.665871  intent seeing cahulawassee river turned one hu...  \n",
       "2   8.189007  king arthur accompanied squire recruit knight ...  "
      ]
     },
     "execution_count": 118,
     "metadata": {},
     "output_type": "execute_result"
    }
   ],
   "source": [
    "df_transformed.head(3)"
   ]
  },
  {
   "cell_type": "code",
   "execution_count": 120,
   "id": "4dfb9c83-1cf2-4ee4-a685-eaf5f8442005",
   "metadata": {
    "tags": []
   },
   "outputs": [],
   "source": [
    "def percent_missing(df):\n",
    "    per_nan = 100*df.isnull().sum() /len(df)\n",
    "    per_nan = per_nan[per_nan >0].sort_values()    \n",
    "    return per_nan"
   ]
  },
  {
   "cell_type": "code",
   "execution_count": 122,
   "id": "35028a12-b073-4285-b16a-ddf35ad96e4f",
   "metadata": {
    "tags": []
   },
   "outputs": [
    {
     "data": {
      "text/plain": [
       "Series([], dtype: float64)"
      ]
     },
     "execution_count": 122,
     "metadata": {},
     "output_type": "execute_result"
    }
   ],
   "source": [
    "percent_missing(df_transformed)"
   ]
  },
  {
   "cell_type": "markdown",
   "id": "bcdccaed-edeb-4d26-b388-935125105068",
   "metadata": {
    "tags": []
   },
   "source": [
    "## Preprocessing"
   ]
  },
  {
   "cell_type": "markdown",
   "id": "63b79de1-ab11-4153-b89e-3a5fc01ed7ad",
   "metadata": {
    "tags": []
   },
   "source": [
    "# J'en suis là  de la v2!!!!!!"
   ]
  },
  {
   "cell_type": "markdown",
   "id": "211a422d-30c9-4a63-aab0-c0a024f86c6d",
   "metadata": {},
   "source": [
    "### Genre et contry : Binariser genre et country"
   ]
  },
  {
   "cell_type": "code",
   "execution_count": null,
   "id": "41b717f1-0c6e-4218-bca8-c41e92090c10",
   "metadata": {},
   "outputs": [],
   "source": [
    "# Extractiondata : multilabelBinarizer\n",
    "class GenreCountryExtractor(BaseEstimator,TransformerMixin):\n",
    "        def __init__(self):\n",
    "            self.genre_binarizer = MultiLabelBinarizer()\n",
    "            self.country_binarizer = MultiLabelBinarizer()            \n",
    "        \n",
    "        def fit(self, X, y=None):\n",
    "            self.genre_binarizer.fit(['genre'])\n",
    "            self.country_binarizer.fit(['country'])\n",
    "            return self\n",
    "        \n",
    "        def transform(self,X,y=None):\n",
    "            genre_encoded = self.genre_binarizer.transform(X['genre'])\n",
    "            country_encoded = self.country_binarizer.transform(X['country'])\n",
    "            \n",
    "            genre_df = pd.DataFrame(genre_encoded, index=X.index, columns=self.genre_binarizer.classes_)\n",
    "            country_df = pd.DataFrame(country_encoded, index=X.index, columns=self.country_binarizer.classes_)\n",
    "            return pd.concat([genre_df, country_df], axis=1)"
   ]
  },
  {
   "cell_type": "markdown",
   "id": "b3c8ff04-a465-47a5-a0bb-4823afb6a944",
   "metadata": {},
   "source": [
    "### Transfo description clean en vecteur"
   ]
  },
  {
   "cell_type": "code",
   "execution_count": null,
   "id": "5e82c091-12ef-4b78-8693-05a43ac7921b",
   "metadata": {},
   "outputs": [],
   "source": [
    "word2vec_model = Word2Vec(df['description_join'], vector_size=100, window=5, min_count=1, sg=1)\n",
    "\n",
    "# Calculating mean vectors for each movies\n",
    "def get_mean_vector(words):\n",
    "    words = [word for word in words if word in word2vec_model.wv]\n",
    "    if len(words) >= 1:\n",
    "        return np.mean(word2vec_model.wv[words], axis=0)\n",
    "    else:\n",
    "        return np.zeros(word2vec_model.vector_size)\n",
    "    \n",
    "df['vector'] = df['description_join'].apply(get_mean_vector)"
   ]
  },
  {
   "cell_type": "markdown",
   "id": "08a31f83-b28b-4c58-b316-bc8a365a221d",
   "metadata": {},
   "source": [
    "## Dummies"
   ]
  },
  {
   "cell_type": "code",
   "execution_count": null,
   "id": "30d7e7bd-be57-47fa-bf8b-7e78a7e0e6b3",
   "metadata": {},
   "outputs": [],
   "source": []
  },
  {
   "cell_type": "markdown",
   "id": "017ac911-5d9f-49e8-bd83-30c5fcb99f1e",
   "metadata": {},
   "source": [
    "## Scaling"
   ]
  },
  {
   "cell_type": "markdown",
   "id": "539b2272-3a58-4d66-88fe-cc0d50afe036",
   "metadata": {
    "jp-MarkdownHeadingCollapsed": true,
    "tags": []
   },
   "source": [
    "## Section 6 : Saving Cleaned Data"
   ]
  },
  {
   "cell_type": "code",
   "execution_count": 262,
   "id": "f89539bb-c7c7-4b39-a240-83a4d0da787e",
   "metadata": {
    "tags": []
   },
   "outputs": [],
   "source": [
    "df = df[['id', 'title', 'description', 'release_year', 'runtime', 'first_genre', 'second_genre', 'country', 'description_join', 'my_rating']] "
   ]
  },
  {
   "cell_type": "code",
   "execution_count": 5,
   "id": "335250f0-f023-4c08-84a0-ecdbec5f8a9c",
   "metadata": {
    "tags": []
   },
   "outputs": [
    {
     "name": "stdout",
     "output_type": "stream",
     "text": [
      "<class 'pandas.core.frame.DataFrame'>\n",
      "RangeIndex: 3677 entries, 0 to 3676\n",
      "Data columns (total 10 columns):\n",
      " #   Column            Non-Null Count  Dtype  \n",
      "---  ------            --------------  -----  \n",
      " 0   id                3677 non-null   object \n",
      " 1   title             3677 non-null   object \n",
      " 2   description       3677 non-null   object \n",
      " 3   release_year      3677 non-null   int64  \n",
      " 4   runtime           3677 non-null   int64  \n",
      " 5   first_genre       3677 non-null   object \n",
      " 6   second_genre      3677 non-null   object \n",
      " 7   country           3677 non-null   object \n",
      " 8   description_join  3677 non-null   object \n",
      " 9   my_rating         3677 non-null   float64\n",
      "dtypes: float64(1), int64(2), object(7)\n",
      "memory usage: 287.4+ KB\n"
     ]
    }
   ],
   "source": [
    "df.info()"
   ]
  },
  {
   "cell_type": "code",
   "execution_count": 266,
   "id": "de365a83-8e28-4f7e-8e90-137be53d1197",
   "metadata": {
    "tags": []
   },
   "outputs": [],
   "source": [
    "df.to_csv(\"input/movie_recom_pandas.csv\", index=False)"
   ]
  },
  {
   "cell_type": "code",
   "execution_count": 3,
   "id": "fe8501a1-fa66-4581-9565-7b1669747256",
   "metadata": {
    "tags": []
   },
   "outputs": [],
   "source": [
    "df = pd.read_csv(\"input/movie_recom_pandas.csv\")"
   ]
  },
  {
   "cell_type": "code",
   "execution_count": 274,
   "id": "16c28e90-03ea-4174-aefe-ddf83b6618f7",
   "metadata": {
    "tags": []
   },
   "outputs": [],
   "source": [
    "df.to_json('data/films_clean.json', orient='records')"
   ]
  },
  {
   "cell_type": "markdown",
   "id": "c06adc5e-c587-43de-b69f-189a98ea8ad1",
   "metadata": {},
   "source": [
    "## Section 7 : Movie Recommendation System"
   ]
  },
  {
   "cell_type": "markdown",
   "id": "6ae9cc25-36b1-4349-bb5b-9651f88068b9",
   "metadata": {
    "tags": []
   },
   "source": [
    "### Similarity-Based Recommendation"
   ]
  },
  {
   "cell_type": "markdown",
   "id": "7cc6a70a-dfb6-4370-971c-a9de94c126b3",
   "metadata": {
    "tags": []
   },
   "source": [
    "#### Preprocessing : Vectorization Keywords"
   ]
  },
  {
   "cell_type": "code",
   "execution_count": 15,
   "id": "b6859187-cff8-4dd7-8a67-4e8d2230b22e",
   "metadata": {},
   "outputs": [],
   "source": [
    "word2vec_model = Word2Vec(df['description_join'], vector_size=100, window=5, min_count=1, sg=1)"
   ]
  },
  {
   "cell_type": "code",
   "execution_count": 17,
   "id": "85467f69-8af5-47f6-a89d-5c91648cbdd7",
   "metadata": {
    "tags": []
   },
   "outputs": [],
   "source": [
    "# Calculating mean vectors for each movies\n",
    "def get_mean_vector(words):\n",
    "    words = [word for word in words if word in word2vec_model.wv]\n",
    "    if len(words) >= 1:\n",
    "        return np.mean(word2vec_model.wv[words], axis=0)\n",
    "    else:\n",
    "        return np.zeros(word2vec_model.vector_size)"
   ]
  },
  {
   "cell_type": "code",
   "execution_count": 19,
   "id": "89948501-8384-4ea5-9422-3c8645bf5db1",
   "metadata": {},
   "outputs": [],
   "source": [
    "df['vector'] = df['description_join'].apply(get_mean_vector)"
   ]
  },
  {
   "cell_type": "code",
   "execution_count": 21,
   "id": "5b26a194-da71-42f8-a1c5-cd930eff44b2",
   "metadata": {
    "tags": []
   },
   "outputs": [
    {
     "data": {
      "text/html": [
       "<div>\n",
       "<style scoped>\n",
       "    .dataframe tbody tr th:only-of-type {\n",
       "        vertical-align: middle;\n",
       "    }\n",
       "\n",
       "    .dataframe tbody tr th {\n",
       "        vertical-align: top;\n",
       "    }\n",
       "\n",
       "    .dataframe thead th {\n",
       "        text-align: right;\n",
       "    }\n",
       "</style>\n",
       "<table border=\"1\" class=\"dataframe\">\n",
       "  <thead>\n",
       "    <tr style=\"text-align: right;\">\n",
       "      <th></th>\n",
       "      <th>id</th>\n",
       "      <th>title</th>\n",
       "      <th>description</th>\n",
       "      <th>release_year</th>\n",
       "      <th>runtime</th>\n",
       "      <th>first_genre</th>\n",
       "      <th>second_genre</th>\n",
       "      <th>country</th>\n",
       "      <th>description_join</th>\n",
       "      <th>my_rating</th>\n",
       "      <th>vector</th>\n",
       "    </tr>\n",
       "  </thead>\n",
       "  <tbody>\n",
       "    <tr>\n",
       "      <th>0</th>\n",
       "      <td>tm84618</td>\n",
       "      <td>Taxi Driver</td>\n",
       "      <td>a mentally unstable vietnam war veteran works ...</td>\n",
       "      <td>1976</td>\n",
       "      <td>114</td>\n",
       "      <td>drama</td>\n",
       "      <td>crime</td>\n",
       "      <td>US</td>\n",
       "      <td>mentally unstable vietnam war veteran work nig...</td>\n",
       "      <td>8.198980</td>\n",
       "      <td>[-0.09833875, 0.18513083, 0.062483143, 0.06308...</td>\n",
       "    </tr>\n",
       "    <tr>\n",
       "      <th>1</th>\n",
       "      <td>tm154986</td>\n",
       "      <td>Deliverance</td>\n",
       "      <td>intent on seeing the cahulawassee river before...</td>\n",
       "      <td>1972</td>\n",
       "      <td>109</td>\n",
       "      <td>drama</td>\n",
       "      <td>action</td>\n",
       "      <td>US</td>\n",
       "      <td>intent seeing cahulawassee river turned one hu...</td>\n",
       "      <td>7.665871</td>\n",
       "      <td>[-0.104093514, 0.17885852, 0.057409924, 0.0549...</td>\n",
       "    </tr>\n",
       "    <tr>\n",
       "      <th>2</th>\n",
       "      <td>tm127384</td>\n",
       "      <td>Monty Python and the Holy Grail</td>\n",
       "      <td>king arthur, accompanied by his squire, recrui...</td>\n",
       "      <td>1975</td>\n",
       "      <td>91</td>\n",
       "      <td>fantasy</td>\n",
       "      <td>action</td>\n",
       "      <td>GB</td>\n",
       "      <td>king arthur accompanied squire recruit knight ...</td>\n",
       "      <td>8.189007</td>\n",
       "      <td>[-0.10537343, 0.1804194, 0.063013054, 0.061206...</td>\n",
       "    </tr>\n",
       "    <tr>\n",
       "      <th>3</th>\n",
       "      <td>tm120801</td>\n",
       "      <td>The Dirty Dozen</td>\n",
       "      <td>12 american military prisoners in world war ii...</td>\n",
       "      <td>1967</td>\n",
       "      <td>150</td>\n",
       "      <td>war</td>\n",
       "      <td>action</td>\n",
       "      <td>GB</td>\n",
       "      <td>12 american military prisoner world war ii ord...</td>\n",
       "      <td>7.677974</td>\n",
       "      <td>[-0.1000509, 0.18254818, 0.0591866, 0.06253671...</td>\n",
       "    </tr>\n",
       "    <tr>\n",
       "      <th>4</th>\n",
       "      <td>tm70993</td>\n",
       "      <td>Life of Brian</td>\n",
       "      <td>brian cohen is an average young jewish man, bu...</td>\n",
       "      <td>1979</td>\n",
       "      <td>94</td>\n",
       "      <td>comedy</td>\n",
       "      <td>no_second-genre</td>\n",
       "      <td>GB</td>\n",
       "      <td>brian cohen average young jewish man series ri...</td>\n",
       "      <td>7.991343</td>\n",
       "      <td>[-0.10681966, 0.17896973, 0.060149003, 0.06195...</td>\n",
       "    </tr>\n",
       "    <tr>\n",
       "      <th>...</th>\n",
       "      <td>...</td>\n",
       "      <td>...</td>\n",
       "      <td>...</td>\n",
       "      <td>...</td>\n",
       "      <td>...</td>\n",
       "      <td>...</td>\n",
       "      <td>...</td>\n",
       "      <td>...</td>\n",
       "      <td>...</td>\n",
       "      <td>...</td>\n",
       "      <td>...</td>\n",
       "    </tr>\n",
       "    <tr>\n",
       "      <th>3672</th>\n",
       "      <td>tm1066324</td>\n",
       "      <td>Super Monsters: Once Upon a Rhyme</td>\n",
       "      <td>the super monsters rethink exemplary fantasies...</td>\n",
       "      <td>2021</td>\n",
       "      <td>25</td>\n",
       "      <td>animation</td>\n",
       "      <td>family</td>\n",
       "      <td>unknown_country</td>\n",
       "      <td>super monster rethink exemplary fantasy loved ...</td>\n",
       "      <td>6.299574</td>\n",
       "      <td>[-0.09043901, 0.1746572, 0.061467055, 0.065398...</td>\n",
       "    </tr>\n",
       "    <tr>\n",
       "      <th>3673</th>\n",
       "      <td>tm1097142</td>\n",
       "      <td>My Bride</td>\n",
       "      <td>the story follows a young man and woman who go...</td>\n",
       "      <td>2021</td>\n",
       "      <td>93</td>\n",
       "      <td>romance</td>\n",
       "      <td>comedy</td>\n",
       "      <td>EG</td>\n",
       "      <td>story follows young man woman go various situa...</td>\n",
       "      <td>5.265915</td>\n",
       "      <td>[-0.1138273, 0.18390398, 0.058553066, 0.052136...</td>\n",
       "    </tr>\n",
       "    <tr>\n",
       "      <th>3674</th>\n",
       "      <td>tm1014599</td>\n",
       "      <td>Fine Wine</td>\n",
       "      <td>a beautiful love story that can happen between...</td>\n",
       "      <td>2021</td>\n",
       "      <td>100</td>\n",
       "      <td>romance</td>\n",
       "      <td>drama</td>\n",
       "      <td>NG</td>\n",
       "      <td>beautiful love story happen two people regardl...</td>\n",
       "      <td>6.800000</td>\n",
       "      <td>[-0.112132974, 0.18680863, 0.0631173, 0.074510...</td>\n",
       "    </tr>\n",
       "    <tr>\n",
       "      <th>3675</th>\n",
       "      <td>tm898842</td>\n",
       "      <td>C/O Kaadhal</td>\n",
       "      <td>a heart warming film that explores the concept...</td>\n",
       "      <td>2021</td>\n",
       "      <td>134</td>\n",
       "      <td>drama</td>\n",
       "      <td>no_second-genre</td>\n",
       "      <td>unknown_country</td>\n",
       "      <td>heart warming film explores concept romance ep...</td>\n",
       "      <td>7.700000</td>\n",
       "      <td>[-0.105311394, 0.18741384, 0.06420465, 0.07070...</td>\n",
       "    </tr>\n",
       "    <tr>\n",
       "      <th>3676</th>\n",
       "      <td>tm1059008</td>\n",
       "      <td>Lokillo</td>\n",
       "      <td>a controversial tv host and comedian who has b...</td>\n",
       "      <td>2021</td>\n",
       "      <td>90</td>\n",
       "      <td>comedy</td>\n",
       "      <td>no_second-genre</td>\n",
       "      <td>CO</td>\n",
       "      <td>controversial tv host comedian built career se...</td>\n",
       "      <td>6.293999</td>\n",
       "      <td>[-0.10363264, 0.1823416, 0.062418185, 0.063917...</td>\n",
       "    </tr>\n",
       "  </tbody>\n",
       "</table>\n",
       "<p>3677 rows × 11 columns</p>\n",
       "</div>"
      ],
      "text/plain": [
       "             id                              title  \\\n",
       "0       tm84618                        Taxi Driver   \n",
       "1      tm154986                        Deliverance   \n",
       "2      tm127384    Monty Python and the Holy Grail   \n",
       "3      tm120801                    The Dirty Dozen   \n",
       "4       tm70993                      Life of Brian   \n",
       "...         ...                                ...   \n",
       "3672  tm1066324  Super Monsters: Once Upon a Rhyme   \n",
       "3673  tm1097142                           My Bride   \n",
       "3674  tm1014599                          Fine Wine   \n",
       "3675   tm898842                        C/O Kaadhal   \n",
       "3676  tm1059008                            Lokillo   \n",
       "\n",
       "                                            description  release_year  \\\n",
       "0     a mentally unstable vietnam war veteran works ...          1976   \n",
       "1     intent on seeing the cahulawassee river before...          1972   \n",
       "2     king arthur, accompanied by his squire, recrui...          1975   \n",
       "3     12 american military prisoners in world war ii...          1967   \n",
       "4     brian cohen is an average young jewish man, bu...          1979   \n",
       "...                                                 ...           ...   \n",
       "3672  the super monsters rethink exemplary fantasies...          2021   \n",
       "3673  the story follows a young man and woman who go...          2021   \n",
       "3674  a beautiful love story that can happen between...          2021   \n",
       "3675  a heart warming film that explores the concept...          2021   \n",
       "3676  a controversial tv host and comedian who has b...          2021   \n",
       "\n",
       "      runtime first_genre     second_genre          country  \\\n",
       "0         114       drama            crime               US   \n",
       "1         109       drama           action               US   \n",
       "2          91     fantasy           action               GB   \n",
       "3         150         war           action               GB   \n",
       "4          94      comedy  no_second-genre               GB   \n",
       "...       ...         ...              ...              ...   \n",
       "3672       25   animation           family  unknown_country   \n",
       "3673       93     romance           comedy               EG   \n",
       "3674      100     romance            drama               NG   \n",
       "3675      134       drama  no_second-genre  unknown_country   \n",
       "3676       90      comedy  no_second-genre               CO   \n",
       "\n",
       "                                       description_join  my_rating  \\\n",
       "0     mentally unstable vietnam war veteran work nig...   8.198980   \n",
       "1     intent seeing cahulawassee river turned one hu...   7.665871   \n",
       "2     king arthur accompanied squire recruit knight ...   8.189007   \n",
       "3     12 american military prisoner world war ii ord...   7.677974   \n",
       "4     brian cohen average young jewish man series ri...   7.991343   \n",
       "...                                                 ...        ...   \n",
       "3672  super monster rethink exemplary fantasy loved ...   6.299574   \n",
       "3673  story follows young man woman go various situa...   5.265915   \n",
       "3674  beautiful love story happen two people regardl...   6.800000   \n",
       "3675  heart warming film explores concept romance ep...   7.700000   \n",
       "3676  controversial tv host comedian built career se...   6.293999   \n",
       "\n",
       "                                                 vector  \n",
       "0     [-0.09833875, 0.18513083, 0.062483143, 0.06308...  \n",
       "1     [-0.104093514, 0.17885852, 0.057409924, 0.0549...  \n",
       "2     [-0.10537343, 0.1804194, 0.063013054, 0.061206...  \n",
       "3     [-0.1000509, 0.18254818, 0.0591866, 0.06253671...  \n",
       "4     [-0.10681966, 0.17896973, 0.060149003, 0.06195...  \n",
       "...                                                 ...  \n",
       "3672  [-0.09043901, 0.1746572, 0.061467055, 0.065398...  \n",
       "3673  [-0.1138273, 0.18390398, 0.058553066, 0.052136...  \n",
       "3674  [-0.112132974, 0.18680863, 0.0631173, 0.074510...  \n",
       "3675  [-0.105311394, 0.18741384, 0.06420465, 0.07070...  \n",
       "3676  [-0.10363264, 0.1823416, 0.062418185, 0.063917...  \n",
       "\n",
       "[3677 rows x 11 columns]"
      ]
     },
     "execution_count": 21,
     "metadata": {},
     "output_type": "execute_result"
    }
   ],
   "source": [
    "df"
   ]
  },
  {
   "cell_type": "markdown",
   "id": "65508c8a-b583-436e-94e6-8a3807cf684d",
   "metadata": {
    "tags": []
   },
   "source": [
    "#### Preprocessing : Dummies and features"
   ]
  },
  {
   "cell_type": "code",
   "execution_count": 23,
   "id": "4684db59-7c7b-40fe-8866-795ad2c9c06c",
   "metadata": {},
   "outputs": [],
   "source": [
    "# Encoding genres and country\n",
    "df = pd.get_dummies(df, columns=['first_genre', 'second_genre', 'country'])"
   ]
  },
  {
   "cell_type": "code",
   "execution_count": 25,
   "id": "29689668-334c-40e8-b575-4365d5cb5ce5",
   "metadata": {},
   "outputs": [],
   "source": [
    "# Adding other features\n",
    "features = df[['release_year', 'runtime'] \n",
    "                     + list(df.columns[df.columns.str.startswith('first_genre_')]) \n",
    "                     + list(df.columns[df.columns.str.startswith('second_genre_')]) \n",
    "                     + list(df.columns[df.columns.str.startswith('country_')])]"
   ]
  },
  {
   "cell_type": "code",
   "execution_count": 27,
   "id": "1c84507d-ed71-4f07-b8a1-d0099376cdb6",
   "metadata": {},
   "outputs": [
    {
     "data": {
      "text/html": [
       "<div>\n",
       "<style scoped>\n",
       "    .dataframe tbody tr th:only-of-type {\n",
       "        vertical-align: middle;\n",
       "    }\n",
       "\n",
       "    .dataframe tbody tr th {\n",
       "        vertical-align: top;\n",
       "    }\n",
       "\n",
       "    .dataframe thead th {\n",
       "        text-align: right;\n",
       "    }\n",
       "</style>\n",
       "<table border=\"1\" class=\"dataframe\">\n",
       "  <thead>\n",
       "    <tr style=\"text-align: right;\">\n",
       "      <th></th>\n",
       "      <th>release_year</th>\n",
       "      <th>runtime</th>\n",
       "      <th>first_genre_action</th>\n",
       "      <th>first_genre_animation</th>\n",
       "      <th>first_genre_comedy</th>\n",
       "      <th>first_genre_crime</th>\n",
       "      <th>first_genre_documentation</th>\n",
       "      <th>first_genre_drama</th>\n",
       "      <th>first_genre_family</th>\n",
       "      <th>first_genre_fantasy</th>\n",
       "      <th>...</th>\n",
       "      <th>country_TZ</th>\n",
       "      <th>country_UA</th>\n",
       "      <th>country_US</th>\n",
       "      <th>country_UY</th>\n",
       "      <th>country_VE</th>\n",
       "      <th>country_VN</th>\n",
       "      <th>country_XX</th>\n",
       "      <th>country_ZA</th>\n",
       "      <th>country_ZW</th>\n",
       "      <th>country_unknown_country</th>\n",
       "    </tr>\n",
       "  </thead>\n",
       "  <tbody>\n",
       "    <tr>\n",
       "      <th>0</th>\n",
       "      <td>1976</td>\n",
       "      <td>114</td>\n",
       "      <td>False</td>\n",
       "      <td>False</td>\n",
       "      <td>False</td>\n",
       "      <td>False</td>\n",
       "      <td>False</td>\n",
       "      <td>True</td>\n",
       "      <td>False</td>\n",
       "      <td>False</td>\n",
       "      <td>...</td>\n",
       "      <td>False</td>\n",
       "      <td>False</td>\n",
       "      <td>True</td>\n",
       "      <td>False</td>\n",
       "      <td>False</td>\n",
       "      <td>False</td>\n",
       "      <td>False</td>\n",
       "      <td>False</td>\n",
       "      <td>False</td>\n",
       "      <td>False</td>\n",
       "    </tr>\n",
       "    <tr>\n",
       "      <th>1</th>\n",
       "      <td>1972</td>\n",
       "      <td>109</td>\n",
       "      <td>False</td>\n",
       "      <td>False</td>\n",
       "      <td>False</td>\n",
       "      <td>False</td>\n",
       "      <td>False</td>\n",
       "      <td>True</td>\n",
       "      <td>False</td>\n",
       "      <td>False</td>\n",
       "      <td>...</td>\n",
       "      <td>False</td>\n",
       "      <td>False</td>\n",
       "      <td>True</td>\n",
       "      <td>False</td>\n",
       "      <td>False</td>\n",
       "      <td>False</td>\n",
       "      <td>False</td>\n",
       "      <td>False</td>\n",
       "      <td>False</td>\n",
       "      <td>False</td>\n",
       "    </tr>\n",
       "    <tr>\n",
       "      <th>2</th>\n",
       "      <td>1975</td>\n",
       "      <td>91</td>\n",
       "      <td>False</td>\n",
       "      <td>False</td>\n",
       "      <td>False</td>\n",
       "      <td>False</td>\n",
       "      <td>False</td>\n",
       "      <td>False</td>\n",
       "      <td>False</td>\n",
       "      <td>True</td>\n",
       "      <td>...</td>\n",
       "      <td>False</td>\n",
       "      <td>False</td>\n",
       "      <td>False</td>\n",
       "      <td>False</td>\n",
       "      <td>False</td>\n",
       "      <td>False</td>\n",
       "      <td>False</td>\n",
       "      <td>False</td>\n",
       "      <td>False</td>\n",
       "      <td>False</td>\n",
       "    </tr>\n",
       "    <tr>\n",
       "      <th>3</th>\n",
       "      <td>1967</td>\n",
       "      <td>150</td>\n",
       "      <td>False</td>\n",
       "      <td>False</td>\n",
       "      <td>False</td>\n",
       "      <td>False</td>\n",
       "      <td>False</td>\n",
       "      <td>False</td>\n",
       "      <td>False</td>\n",
       "      <td>False</td>\n",
       "      <td>...</td>\n",
       "      <td>False</td>\n",
       "      <td>False</td>\n",
       "      <td>False</td>\n",
       "      <td>False</td>\n",
       "      <td>False</td>\n",
       "      <td>False</td>\n",
       "      <td>False</td>\n",
       "      <td>False</td>\n",
       "      <td>False</td>\n",
       "      <td>False</td>\n",
       "    </tr>\n",
       "    <tr>\n",
       "      <th>4</th>\n",
       "      <td>1979</td>\n",
       "      <td>94</td>\n",
       "      <td>False</td>\n",
       "      <td>False</td>\n",
       "      <td>True</td>\n",
       "      <td>False</td>\n",
       "      <td>False</td>\n",
       "      <td>False</td>\n",
       "      <td>False</td>\n",
       "      <td>False</td>\n",
       "      <td>...</td>\n",
       "      <td>False</td>\n",
       "      <td>False</td>\n",
       "      <td>False</td>\n",
       "      <td>False</td>\n",
       "      <td>False</td>\n",
       "      <td>False</td>\n",
       "      <td>False</td>\n",
       "      <td>False</td>\n",
       "      <td>False</td>\n",
       "      <td>False</td>\n",
       "    </tr>\n",
       "    <tr>\n",
       "      <th>...</th>\n",
       "      <td>...</td>\n",
       "      <td>...</td>\n",
       "      <td>...</td>\n",
       "      <td>...</td>\n",
       "      <td>...</td>\n",
       "      <td>...</td>\n",
       "      <td>...</td>\n",
       "      <td>...</td>\n",
       "      <td>...</td>\n",
       "      <td>...</td>\n",
       "      <td>...</td>\n",
       "      <td>...</td>\n",
       "      <td>...</td>\n",
       "      <td>...</td>\n",
       "      <td>...</td>\n",
       "      <td>...</td>\n",
       "      <td>...</td>\n",
       "      <td>...</td>\n",
       "      <td>...</td>\n",
       "      <td>...</td>\n",
       "      <td>...</td>\n",
       "    </tr>\n",
       "    <tr>\n",
       "      <th>3672</th>\n",
       "      <td>2021</td>\n",
       "      <td>25</td>\n",
       "      <td>False</td>\n",
       "      <td>True</td>\n",
       "      <td>False</td>\n",
       "      <td>False</td>\n",
       "      <td>False</td>\n",
       "      <td>False</td>\n",
       "      <td>False</td>\n",
       "      <td>False</td>\n",
       "      <td>...</td>\n",
       "      <td>False</td>\n",
       "      <td>False</td>\n",
       "      <td>False</td>\n",
       "      <td>False</td>\n",
       "      <td>False</td>\n",
       "      <td>False</td>\n",
       "      <td>False</td>\n",
       "      <td>False</td>\n",
       "      <td>False</td>\n",
       "      <td>True</td>\n",
       "    </tr>\n",
       "    <tr>\n",
       "      <th>3673</th>\n",
       "      <td>2021</td>\n",
       "      <td>93</td>\n",
       "      <td>False</td>\n",
       "      <td>False</td>\n",
       "      <td>False</td>\n",
       "      <td>False</td>\n",
       "      <td>False</td>\n",
       "      <td>False</td>\n",
       "      <td>False</td>\n",
       "      <td>False</td>\n",
       "      <td>...</td>\n",
       "      <td>False</td>\n",
       "      <td>False</td>\n",
       "      <td>False</td>\n",
       "      <td>False</td>\n",
       "      <td>False</td>\n",
       "      <td>False</td>\n",
       "      <td>False</td>\n",
       "      <td>False</td>\n",
       "      <td>False</td>\n",
       "      <td>False</td>\n",
       "    </tr>\n",
       "    <tr>\n",
       "      <th>3674</th>\n",
       "      <td>2021</td>\n",
       "      <td>100</td>\n",
       "      <td>False</td>\n",
       "      <td>False</td>\n",
       "      <td>False</td>\n",
       "      <td>False</td>\n",
       "      <td>False</td>\n",
       "      <td>False</td>\n",
       "      <td>False</td>\n",
       "      <td>False</td>\n",
       "      <td>...</td>\n",
       "      <td>False</td>\n",
       "      <td>False</td>\n",
       "      <td>False</td>\n",
       "      <td>False</td>\n",
       "      <td>False</td>\n",
       "      <td>False</td>\n",
       "      <td>False</td>\n",
       "      <td>False</td>\n",
       "      <td>False</td>\n",
       "      <td>False</td>\n",
       "    </tr>\n",
       "    <tr>\n",
       "      <th>3675</th>\n",
       "      <td>2021</td>\n",
       "      <td>134</td>\n",
       "      <td>False</td>\n",
       "      <td>False</td>\n",
       "      <td>False</td>\n",
       "      <td>False</td>\n",
       "      <td>False</td>\n",
       "      <td>True</td>\n",
       "      <td>False</td>\n",
       "      <td>False</td>\n",
       "      <td>...</td>\n",
       "      <td>False</td>\n",
       "      <td>False</td>\n",
       "      <td>False</td>\n",
       "      <td>False</td>\n",
       "      <td>False</td>\n",
       "      <td>False</td>\n",
       "      <td>False</td>\n",
       "      <td>False</td>\n",
       "      <td>False</td>\n",
       "      <td>True</td>\n",
       "    </tr>\n",
       "    <tr>\n",
       "      <th>3676</th>\n",
       "      <td>2021</td>\n",
       "      <td>90</td>\n",
       "      <td>False</td>\n",
       "      <td>False</td>\n",
       "      <td>True</td>\n",
       "      <td>False</td>\n",
       "      <td>False</td>\n",
       "      <td>False</td>\n",
       "      <td>False</td>\n",
       "      <td>False</td>\n",
       "      <td>...</td>\n",
       "      <td>False</td>\n",
       "      <td>False</td>\n",
       "      <td>False</td>\n",
       "      <td>False</td>\n",
       "      <td>False</td>\n",
       "      <td>False</td>\n",
       "      <td>False</td>\n",
       "      <td>False</td>\n",
       "      <td>False</td>\n",
       "      <td>False</td>\n",
       "    </tr>\n",
       "  </tbody>\n",
       "</table>\n",
       "<p>3677 rows × 133 columns</p>\n",
       "</div>"
      ],
      "text/plain": [
       "      release_year  runtime  first_genre_action  first_genre_animation  \\\n",
       "0             1976      114               False                  False   \n",
       "1             1972      109               False                  False   \n",
       "2             1975       91               False                  False   \n",
       "3             1967      150               False                  False   \n",
       "4             1979       94               False                  False   \n",
       "...            ...      ...                 ...                    ...   \n",
       "3672          2021       25               False                   True   \n",
       "3673          2021       93               False                  False   \n",
       "3674          2021      100               False                  False   \n",
       "3675          2021      134               False                  False   \n",
       "3676          2021       90               False                  False   \n",
       "\n",
       "      first_genre_comedy  first_genre_crime  first_genre_documentation  \\\n",
       "0                  False              False                      False   \n",
       "1                  False              False                      False   \n",
       "2                  False              False                      False   \n",
       "3                  False              False                      False   \n",
       "4                   True              False                      False   \n",
       "...                  ...                ...                        ...   \n",
       "3672               False              False                      False   \n",
       "3673               False              False                      False   \n",
       "3674               False              False                      False   \n",
       "3675               False              False                      False   \n",
       "3676                True              False                      False   \n",
       "\n",
       "      first_genre_drama  first_genre_family  first_genre_fantasy  ...  \\\n",
       "0                  True               False                False  ...   \n",
       "1                  True               False                False  ...   \n",
       "2                 False               False                 True  ...   \n",
       "3                 False               False                False  ...   \n",
       "4                 False               False                False  ...   \n",
       "...                 ...                 ...                  ...  ...   \n",
       "3672              False               False                False  ...   \n",
       "3673              False               False                False  ...   \n",
       "3674              False               False                False  ...   \n",
       "3675               True               False                False  ...   \n",
       "3676              False               False                False  ...   \n",
       "\n",
       "      country_TZ  country_UA  country_US  country_UY  country_VE  country_VN  \\\n",
       "0          False       False        True       False       False       False   \n",
       "1          False       False        True       False       False       False   \n",
       "2          False       False       False       False       False       False   \n",
       "3          False       False       False       False       False       False   \n",
       "4          False       False       False       False       False       False   \n",
       "...          ...         ...         ...         ...         ...         ...   \n",
       "3672       False       False       False       False       False       False   \n",
       "3673       False       False       False       False       False       False   \n",
       "3674       False       False       False       False       False       False   \n",
       "3675       False       False       False       False       False       False   \n",
       "3676       False       False       False       False       False       False   \n",
       "\n",
       "      country_XX  country_ZA  country_ZW  country_unknown_country  \n",
       "0          False       False       False                    False  \n",
       "1          False       False       False                    False  \n",
       "2          False       False       False                    False  \n",
       "3          False       False       False                    False  \n",
       "4          False       False       False                    False  \n",
       "...          ...         ...         ...                      ...  \n",
       "3672       False       False       False                     True  \n",
       "3673       False       False       False                    False  \n",
       "3674       False       False       False                    False  \n",
       "3675       False       False       False                     True  \n",
       "3676       False       False       False                    False  \n",
       "\n",
       "[3677 rows x 133 columns]"
      ]
     },
     "execution_count": 27,
     "metadata": {},
     "output_type": "execute_result"
    }
   ],
   "source": [
    "features"
   ]
  },
  {
   "cell_type": "markdown",
   "id": "97866d36-5f88-4997-8700-2f74db7fdc23",
   "metadata": {
    "tags": []
   },
   "source": [
    "#### Preprocessing : Scaling and combined all features"
   ]
  },
  {
   "cell_type": "code",
   "execution_count": 29,
   "id": "30066bf4-1cb9-46d2-908e-69654aaf9b70",
   "metadata": {},
   "outputs": [],
   "source": [
    "# normalized / scale \n",
    "from sklearn.preprocessing import StandardScaler\n",
    "scaler = StandardScaler()\n",
    "features_scaled = scaler.fit_transform(features)"
   ]
  },
  {
   "cell_type": "code",
   "execution_count": 31,
   "id": "8f121526-e293-4ea3-b044-f9cbb69ac788",
   "metadata": {},
   "outputs": [],
   "source": [
    "# Adding the keywords vectors\n",
    "vectors = np.array(df['vector'].tolist())\n",
    "combined_features = np.hstack((vectors, features_scaled))"
   ]
  },
  {
   "cell_type": "markdown",
   "id": "a017ff22-4f56-4de9-9f9f-21ec8a932937",
   "metadata": {},
   "source": [
    "#### Implementing KNN"
   ]
  },
  {
   "cell_type": "code",
   "execution_count": 33,
   "id": "c601e959-9530-4602-b755-b7347581eec1",
   "metadata": {
    "tags": []
   },
   "outputs": [],
   "source": [
    "knn = NearestNeighbors(n_neighbors=10, metric='cosine').fit(combined_features)"
   ]
  },
  {
   "cell_type": "markdown",
   "id": "beb6743e-c010-4a43-83fe-c3a9133d3d97",
   "metadata": {},
   "source": [
    "## Section 8 : Testing Similarity-Based Recommendation"
   ]
  },
  {
   "cell_type": "code",
   "execution_count": 35,
   "id": "2255caea-4efb-4a70-ba1e-824372a9f3c4",
   "metadata": {},
   "outputs": [],
   "source": [
    "def recommend_movies(movie_id, n_recommendations=5):\n",
    "    movie_index = df.index[df['id'] == movie_id][0]\n",
    "    distances, indices = knn.kneighbors([combined_features[movie_index]])\n",
    "    recommended_movies = df.iloc[indices[0][1:n_recommendations+1]]\n",
    "    return recommended_movies[['id', 'title']]"
   ]
  },
  {
   "cell_type": "code",
   "execution_count": 37,
   "id": "6d5e4d00-bfdd-49d9-85a8-f6e2f27b834e",
   "metadata": {},
   "outputs": [],
   "source": [
    "movie_id = 'tm1097142'  # ID du film que l'utilisateur a aimé\n",
    "recommendations = recommend_movies(movie_id)"
   ]
  },
  {
   "cell_type": "code",
   "execution_count": 39,
   "id": "c83dedb2-3e05-4a14-8712-558f89b34209",
   "metadata": {},
   "outputs": [
    {
     "data": {
      "text/html": [
       "<div>\n",
       "<style scoped>\n",
       "    .dataframe tbody tr th:only-of-type {\n",
       "        vertical-align: middle;\n",
       "    }\n",
       "\n",
       "    .dataframe tbody tr th {\n",
       "        vertical-align: top;\n",
       "    }\n",
       "\n",
       "    .dataframe thead th {\n",
       "        text-align: right;\n",
       "    }\n",
       "</style>\n",
       "<table border=\"1\" class=\"dataframe\">\n",
       "  <thead>\n",
       "    <tr style=\"text-align: right;\">\n",
       "      <th></th>\n",
       "      <th>id</th>\n",
       "      <th>title</th>\n",
       "    </tr>\n",
       "  </thead>\n",
       "  <tbody>\n",
       "    <tr>\n",
       "      <th>1857</th>\n",
       "      <td>tm311193</td>\n",
       "      <td>Seeking a Man</td>\n",
       "    </tr>\n",
       "    <tr>\n",
       "      <th>1126</th>\n",
       "      <td>tm235232</td>\n",
       "      <td>Misunderstanding</td>\n",
       "    </tr>\n",
       "    <tr>\n",
       "      <th>2908</th>\n",
       "      <td>tm853091</td>\n",
       "      <td>The American Game</td>\n",
       "    </tr>\n",
       "    <tr>\n",
       "      <th>3001</th>\n",
       "      <td>tm815438</td>\n",
       "      <td>Sab el-Burumbah</td>\n",
       "    </tr>\n",
       "    <tr>\n",
       "      <th>2916</th>\n",
       "      <td>tm823848</td>\n",
       "      <td>Mohamed Hussein</td>\n",
       "    </tr>\n",
       "  </tbody>\n",
       "</table>\n",
       "</div>"
      ],
      "text/plain": [
       "            id              title\n",
       "1857  tm311193      Seeking a Man\n",
       "1126  tm235232   Misunderstanding\n",
       "2908  tm853091  The American Game\n",
       "3001  tm815438    Sab el-Burumbah\n",
       "2916  tm823848    Mohamed Hussein"
      ]
     },
     "execution_count": 39,
     "metadata": {},
     "output_type": "execute_result"
    }
   ],
   "source": [
    "recommendations"
   ]
  },
  {
   "cell_type": "code",
   "execution_count": 41,
   "id": "f1511759-dc23-4adb-bc0e-0e53d7a668a3",
   "metadata": {},
   "outputs": [],
   "source": [
    "def recommend_movies(liked_movie_ids, n_recommendations=5):\n",
    "    movie_indices = [df.index[df['id'] == movie_id][0] for movie_id in liked_movie_ids]\n",
    "    liked_movie_vectors = [combined_features[movie_index] for movie_index in movie_indices]\n",
    "    average_vector = np.mean(liked_movie_vectors, axis=0)\n",
    "    \n",
    "    distances, indices = knn.kneighbors([average_vector])\n",
    "    \n",
    "    # Exclude already liked movies from the recommendations\n",
    "    recommended_indices = []\n",
    "    for index in indices[0]:\n",
    "        movie_id = df.iloc[index]['id']\n",
    "        if movie_id not in liked_movie_ids:\n",
    "            recommended_indices.append(index)\n",
    "        if len(recommended_indices) == n_recommendations:\n",
    "            break\n",
    "    \n",
    "    recommended_movies = df.iloc[recommended_indices]\n",
    "    \n",
    "    \n",
    "    return recommended_movies[['id', 'title']]\n"
   ]
  },
  {
   "cell_type": "code",
   "execution_count": 43,
   "id": "33937360-9a1e-435d-b6aa-0e6ac242b0d0",
   "metadata": {
    "tags": []
   },
   "outputs": [],
   "source": [
    "liked_movie_ids = ['tm84618', 'tm15897', 'tm25947', 'tm70807']  # IDs of the movies the user liked\n"
   ]
  },
  {
   "cell_type": "code",
   "execution_count": 45,
   "id": "c2d4c9cc-b97d-4b1f-9c0d-0963ff8c865b",
   "metadata": {
    "tags": []
   },
   "outputs": [],
   "source": [
    "recommendations = recommend_movies(liked_movie_ids)"
   ]
  },
  {
   "cell_type": "code",
   "execution_count": 47,
   "id": "6a942a92-9c96-462b-b792-eb6c1eaebcac",
   "metadata": {
    "tags": []
   },
   "outputs": [
    {
     "data": {
      "text/html": [
       "<div>\n",
       "<style scoped>\n",
       "    .dataframe tbody tr th:only-of-type {\n",
       "        vertical-align: middle;\n",
       "    }\n",
       "\n",
       "    .dataframe tbody tr th {\n",
       "        vertical-align: top;\n",
       "    }\n",
       "\n",
       "    .dataframe thead th {\n",
       "        text-align: right;\n",
       "    }\n",
       "</style>\n",
       "<table border=\"1\" class=\"dataframe\">\n",
       "  <thead>\n",
       "    <tr style=\"text-align: right;\">\n",
       "      <th></th>\n",
       "      <th>id</th>\n",
       "      <th>title</th>\n",
       "    </tr>\n",
       "  </thead>\n",
       "  <tbody>\n",
       "    <tr>\n",
       "      <th>117</th>\n",
       "      <td>tm192431</td>\n",
       "      <td>The Devil's Own</td>\n",
       "    </tr>\n",
       "    <tr>\n",
       "      <th>38</th>\n",
       "      <td>tm177480</td>\n",
       "      <td>Police Academy</td>\n",
       "    </tr>\n",
       "    <tr>\n",
       "      <th>26</th>\n",
       "      <td>tm336403</td>\n",
       "      <td>Khoon Khoon</td>\n",
       "    </tr>\n",
       "    <tr>\n",
       "      <th>6</th>\n",
       "      <td>tm119281</td>\n",
       "      <td>Bonnie and Clyde</td>\n",
       "    </tr>\n",
       "    <tr>\n",
       "      <th>34</th>\n",
       "      <td>tm180542</td>\n",
       "      <td>Once Upon a Time in America</td>\n",
       "    </tr>\n",
       "  </tbody>\n",
       "</table>\n",
       "</div>"
      ],
      "text/plain": [
       "           id                        title\n",
       "117  tm192431              The Devil's Own\n",
       "38   tm177480               Police Academy\n",
       "26   tm336403                  Khoon Khoon\n",
       "6    tm119281             Bonnie and Clyde\n",
       "34   tm180542  Once Upon a Time in America"
      ]
     },
     "execution_count": 47,
     "metadata": {},
     "output_type": "execute_result"
    }
   ],
   "source": [
    "recommendations"
   ]
  }
 ],
 "metadata": {
  "kernelspec": {
   "display_name": "Python 3 (ipykernel)",
   "language": "python",
   "name": "python3"
  },
  "language_info": {
   "codemirror_mode": {
    "name": "ipython",
    "version": 3
   },
   "file_extension": ".py",
   "mimetype": "text/x-python",
   "name": "python",
   "nbconvert_exporter": "python",
   "pygments_lexer": "ipython3",
   "version": "3.11.7"
  }
 },
 "nbformat": 4,
 "nbformat_minor": 5
}
