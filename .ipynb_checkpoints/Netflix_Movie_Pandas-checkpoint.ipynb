{
 "cells": [
  {
   "cell_type": "markdown",
   "id": "5d5aeb35-bf23-4042-9f76-90662c5b1aee",
   "metadata": {
    "tags": []
   },
   "source": [
    "# Movie Recommendation Systeme"
   ]
  },
  {
   "cell_type": "markdown",
   "id": "9d83cf1f-bb6e-44f7-b45d-437e90d5b74a",
   "metadata": {},
   "source": [
    "In this notebook, we are building a movie recommendation system based on a dataset, found on Kaggle, and presenting Netflix movies and shows.\n",
    "https://www.kaggle.com/datasets/victorsoeiro/netflix-tv-shows-and-movies?select=titles.csv , Data collected from JustWatch.\n",
    "\n",
    "For performance purpose, only movies where kept (still: 3744 movies!) - SECTION 1 : Dataset\n",
    "\n",
    "Finally, the datset include movie title, descriptions, genres, production countries, and imdb and tmdb ratings. Our goal is to create a content-based recommendation system using techniques such as natural language processing (NLP) and machine learning. We will leverage various preprocessing steps, followed by a K-Nearest Neighbors (KNN) algorithm to recommend similar movies based on user preferences.\n",
    "\n",
    "Key components of this project include:\n",
    "- Handling Missing Values.\n",
    "- Cleaning and vectorizing movie descriptions.\n",
    "- Encoding genres and countries.\n",
    "- Weighting scores.\n",
    "- Scaling numerical features such as runtime, release year, ratings.\n",
    "- Using a KNN algorithm for movie recommendations.\n",
    "\n",
    "--------------------------\n",
    "## Dataset Overview\n",
    "\n",
    "The dataset contains the following important features:\n",
    "- `id`: A unique identifier for each movie.\n",
    "- `title`: The title of the movie.\n",
    "- `description`: A textual description of the movie.\n",
    "- `genres`: A list of genres associated with the movie.\n",
    "- `production_countries`: A list of countries where the movie was produced.\n",
    "- `runtime`: The duration of the movie in minutes.\n",
    "- `release_year`: The year the movie was released.\n",
    "- `imdb_score`: The IMDb rating of the movie.\n",
    "- `imdb_vote` : The number of votes received on the movie.\n",
    "- `tmdb_score`: The rating of the movie on The Movie Database (TMDb).\n",
    "- `tmdb_popularity`: Number representing the popularity of the movies, calculate by tmdb.\n",
    "\n",
    "--------------------------------\n",
    "## Project Workflow\n",
    "\n",
    "The workflow of this project can be broken down into several key stages:\n",
    "\n",
    "1. **Data Preprocessing**:\n",
    "   - Clean missing values, fill missing countries with `unknown_country`, and predict missing scores using machine learning (Random Forest).\n",
    "   \n",
    "2. **Text Processing**:\n",
    "   - Clean the movie descriptions by removing stopwords, punctuation, and lemmatizing the text to get meaningful tokens.\n",
    "   - Vectorize the cleaned descriptions using TF-IDF to transform the text into numerical features.\n",
    "\n",
    "3. **Feature Engineering**:\n",
    "   - Encode genres and production countries using `MultiLabelBinarizer`.\n",
    "   - Scale numerical features such as `runtime`, `release_year`, and `my_rating`.\n",
    "\n",
    "4. **Model Training**:\n",
    "   - Use the KNN algorithm to recommend movies based on similar features (e.g., description, genres, countries, runtime, release year, and user ratings).\n",
    "\n",
    "5. **Recommendation System**:\n",
    "   - Recommend movies based on either a single movie or a group of selected movies, providing personalized suggestions based on user preferences."
   ]
  },
  {
   "cell_type": "code",
   "execution_count": 3,
   "id": "5e93e38f-efcb-4331-820e-95ede58867ab",
   "metadata": {
    "tags": []
   },
   "outputs": [],
   "source": [
    "# Import necessary libraries\n",
    "import numpy as np\n",
    "import pandas as pd\n",
    "import ast\n",
    "\n",
    "from sklearn.base import BaseEstimator, TransformerMixin\n",
    "from sklearn.preprocessing import MultiLabelBinarizer\n",
    "from sklearn.preprocessing import StandardScaler\n",
    "from sklearn.feature_extraction.text import TfidfVectorizer\n",
    "from sklearn.pipeline import Pipeline\n",
    "from sklearn.neighbors import NearestNeighbors\n",
    "from sklearn.ensemble import RandomForestRegressor\n",
    "\n",
    "import nltk\n",
    "from nltk.corpus import stopwords\n",
    "from nltk.tokenize import word_tokenize\n",
    "import string\n",
    "from nltk.stem import WordNetLemmatizer"
   ]
  },
  {
   "cell_type": "code",
   "execution_count": 4,
   "id": "d4e777f4-061b-48bb-bfbc-4c5ccab87684",
   "metadata": {
    "tags": []
   },
   "outputs": [
    {
     "name": "stderr",
     "output_type": "stream",
     "text": [
      "[nltk_data] Downloading package stopwords to\n",
      "[nltk_data]     C:\\Users\\melan\\AppData\\Roaming\\nltk_data...\n",
      "[nltk_data]   Package stopwords is already up-to-date!\n",
      "[nltk_data] Downloading package punkt to\n",
      "[nltk_data]     C:\\Users\\melan\\AppData\\Roaming\\nltk_data...\n",
      "[nltk_data]   Package punkt is already up-to-date!\n",
      "[nltk_data] Downloading package wordnet to\n",
      "[nltk_data]     C:\\Users\\melan\\AppData\\Roaming\\nltk_data...\n",
      "[nltk_data]   Package wordnet is already up-to-date!\n"
     ]
    },
    {
     "data": {
      "text/plain": [
       "True"
      ]
     },
     "execution_count": 4,
     "metadata": {},
     "output_type": "execute_result"
    }
   ],
   "source": [
    "nltk.download('stopwords')\n",
    "nltk.download('punkt')\n",
    "nltk.download('wordnet')"
   ]
  },
  {
   "cell_type": "markdown",
   "id": "b73d9581-5422-47ef-adaf-8f10409d29a4",
   "metadata": {
    "jp-MarkdownHeadingCollapsed": true,
    "tags": []
   },
   "source": [
    "## Section 1 : Dataset"
   ]
  },
  {
   "cell_type": "code",
   "execution_count": 6,
   "id": "cb5d019a-7ed7-47e6-9d8f-c7f38af6e627",
   "metadata": {
    "tags": []
   },
   "outputs": [],
   "source": [
    "# Loading Data\n",
    "df = pd.read_csv('input/titles.csv')"
   ]
  },
  {
   "cell_type": "code",
   "execution_count": 7,
   "id": "e0eac2bf-2130-4275-b8d9-bbc7d118fbe0",
   "metadata": {
    "tags": []
   },
   "outputs": [
    {
     "data": {
      "text/html": [
       "<div>\n",
       "<style scoped>\n",
       "    .dataframe tbody tr th:only-of-type {\n",
       "        vertical-align: middle;\n",
       "    }\n",
       "\n",
       "    .dataframe tbody tr th {\n",
       "        vertical-align: top;\n",
       "    }\n",
       "\n",
       "    .dataframe thead th {\n",
       "        text-align: right;\n",
       "    }\n",
       "</style>\n",
       "<table border=\"1\" class=\"dataframe\">\n",
       "  <thead>\n",
       "    <tr style=\"text-align: right;\">\n",
       "      <th></th>\n",
       "      <th>id</th>\n",
       "      <th>title</th>\n",
       "      <th>type</th>\n",
       "      <th>description</th>\n",
       "      <th>release_year</th>\n",
       "      <th>age_certification</th>\n",
       "      <th>runtime</th>\n",
       "      <th>genres</th>\n",
       "      <th>production_countries</th>\n",
       "      <th>seasons</th>\n",
       "      <th>imdb_id</th>\n",
       "      <th>imdb_score</th>\n",
       "      <th>imdb_votes</th>\n",
       "      <th>tmdb_popularity</th>\n",
       "      <th>tmdb_score</th>\n",
       "    </tr>\n",
       "  </thead>\n",
       "  <tbody>\n",
       "    <tr>\n",
       "      <th>0</th>\n",
       "      <td>ts300399</td>\n",
       "      <td>Five Came Back: The Reference Films</td>\n",
       "      <td>SHOW</td>\n",
       "      <td>This collection includes 12 World War II-era p...</td>\n",
       "      <td>1945</td>\n",
       "      <td>TV-MA</td>\n",
       "      <td>51</td>\n",
       "      <td>['documentation']</td>\n",
       "      <td>['US']</td>\n",
       "      <td>1.0</td>\n",
       "      <td>NaN</td>\n",
       "      <td>NaN</td>\n",
       "      <td>NaN</td>\n",
       "      <td>0.600</td>\n",
       "      <td>NaN</td>\n",
       "    </tr>\n",
       "    <tr>\n",
       "      <th>1</th>\n",
       "      <td>tm84618</td>\n",
       "      <td>Taxi Driver</td>\n",
       "      <td>MOVIE</td>\n",
       "      <td>A mentally unstable Vietnam War veteran works ...</td>\n",
       "      <td>1976</td>\n",
       "      <td>R</td>\n",
       "      <td>114</td>\n",
       "      <td>['drama', 'crime']</td>\n",
       "      <td>['US']</td>\n",
       "      <td>NaN</td>\n",
       "      <td>tt0075314</td>\n",
       "      <td>8.2</td>\n",
       "      <td>808582.0</td>\n",
       "      <td>40.965</td>\n",
       "      <td>8.179</td>\n",
       "    </tr>\n",
       "    <tr>\n",
       "      <th>2</th>\n",
       "      <td>tm154986</td>\n",
       "      <td>Deliverance</td>\n",
       "      <td>MOVIE</td>\n",
       "      <td>Intent on seeing the Cahulawassee River before...</td>\n",
       "      <td>1972</td>\n",
       "      <td>R</td>\n",
       "      <td>109</td>\n",
       "      <td>['drama', 'action', 'thriller', 'european']</td>\n",
       "      <td>['US']</td>\n",
       "      <td>NaN</td>\n",
       "      <td>tt0068473</td>\n",
       "      <td>7.7</td>\n",
       "      <td>107673.0</td>\n",
       "      <td>10.010</td>\n",
       "      <td>7.300</td>\n",
       "    </tr>\n",
       "  </tbody>\n",
       "</table>\n",
       "</div>"
      ],
      "text/plain": [
       "         id                                title   type  \\\n",
       "0  ts300399  Five Came Back: The Reference Films   SHOW   \n",
       "1   tm84618                          Taxi Driver  MOVIE   \n",
       "2  tm154986                          Deliverance  MOVIE   \n",
       "\n",
       "                                         description  release_year  \\\n",
       "0  This collection includes 12 World War II-era p...          1945   \n",
       "1  A mentally unstable Vietnam War veteran works ...          1976   \n",
       "2  Intent on seeing the Cahulawassee River before...          1972   \n",
       "\n",
       "  age_certification  runtime                                       genres  \\\n",
       "0             TV-MA       51                            ['documentation']   \n",
       "1                 R      114                           ['drama', 'crime']   \n",
       "2                 R      109  ['drama', 'action', 'thriller', 'european']   \n",
       "\n",
       "  production_countries  seasons    imdb_id  imdb_score  imdb_votes  \\\n",
       "0               ['US']      1.0        NaN         NaN         NaN   \n",
       "1               ['US']      NaN  tt0075314         8.2    808582.0   \n",
       "2               ['US']      NaN  tt0068473         7.7    107673.0   \n",
       "\n",
       "   tmdb_popularity  tmdb_score  \n",
       "0            0.600         NaN  \n",
       "1           40.965       8.179  \n",
       "2           10.010       7.300  "
      ]
     },
     "execution_count": 7,
     "metadata": {},
     "output_type": "execute_result"
    }
   ],
   "source": [
    "df.head(3)"
   ]
  },
  {
   "cell_type": "code",
   "execution_count": 8,
   "id": "f8286849-b233-407f-b6f7-2244243d2dc7",
   "metadata": {
    "tags": []
   },
   "outputs": [],
   "source": [
    "# Filtering Movies and Dropping Unnecessary Columns\n",
    "df = df[df['type']=='MOVIE'].drop(['type','seasons','age_certification','imdb_id'], axis=1).reset_index(drop=True)"
   ]
  },
  {
   "cell_type": "code",
   "execution_count": 9,
   "id": "53c11034-18b7-4aad-9115-ae83d1292ae2",
   "metadata": {
    "tags": []
   },
   "outputs": [
    {
     "data": {
      "text/html": [
       "<div>\n",
       "<style scoped>\n",
       "    .dataframe tbody tr th:only-of-type {\n",
       "        vertical-align: middle;\n",
       "    }\n",
       "\n",
       "    .dataframe tbody tr th {\n",
       "        vertical-align: top;\n",
       "    }\n",
       "\n",
       "    .dataframe thead th {\n",
       "        text-align: right;\n",
       "    }\n",
       "</style>\n",
       "<table border=\"1\" class=\"dataframe\">\n",
       "  <thead>\n",
       "    <tr style=\"text-align: right;\">\n",
       "      <th></th>\n",
       "      <th>id</th>\n",
       "      <th>title</th>\n",
       "      <th>description</th>\n",
       "      <th>release_year</th>\n",
       "      <th>runtime</th>\n",
       "      <th>genres</th>\n",
       "      <th>production_countries</th>\n",
       "      <th>imdb_score</th>\n",
       "      <th>imdb_votes</th>\n",
       "      <th>tmdb_popularity</th>\n",
       "      <th>tmdb_score</th>\n",
       "    </tr>\n",
       "  </thead>\n",
       "  <tbody>\n",
       "    <tr>\n",
       "      <th>0</th>\n",
       "      <td>tm84618</td>\n",
       "      <td>Taxi Driver</td>\n",
       "      <td>A mentally unstable Vietnam War veteran works ...</td>\n",
       "      <td>1976</td>\n",
       "      <td>114</td>\n",
       "      <td>['drama', 'crime']</td>\n",
       "      <td>['US']</td>\n",
       "      <td>8.2</td>\n",
       "      <td>808582.0</td>\n",
       "      <td>40.965</td>\n",
       "      <td>8.179</td>\n",
       "    </tr>\n",
       "    <tr>\n",
       "      <th>1</th>\n",
       "      <td>tm154986</td>\n",
       "      <td>Deliverance</td>\n",
       "      <td>Intent on seeing the Cahulawassee River before...</td>\n",
       "      <td>1972</td>\n",
       "      <td>109</td>\n",
       "      <td>['drama', 'action', 'thriller', 'european']</td>\n",
       "      <td>['US']</td>\n",
       "      <td>7.7</td>\n",
       "      <td>107673.0</td>\n",
       "      <td>10.010</td>\n",
       "      <td>7.300</td>\n",
       "    </tr>\n",
       "    <tr>\n",
       "      <th>2</th>\n",
       "      <td>tm127384</td>\n",
       "      <td>Monty Python and the Holy Grail</td>\n",
       "      <td>King Arthur, accompanied by his squire, recrui...</td>\n",
       "      <td>1975</td>\n",
       "      <td>91</td>\n",
       "      <td>['fantasy', 'action', 'comedy']</td>\n",
       "      <td>['GB']</td>\n",
       "      <td>8.2</td>\n",
       "      <td>534486.0</td>\n",
       "      <td>15.461</td>\n",
       "      <td>7.811</td>\n",
       "    </tr>\n",
       "  </tbody>\n",
       "</table>\n",
       "</div>"
      ],
      "text/plain": [
       "         id                            title  \\\n",
       "0   tm84618                      Taxi Driver   \n",
       "1  tm154986                      Deliverance   \n",
       "2  tm127384  Monty Python and the Holy Grail   \n",
       "\n",
       "                                         description  release_year  runtime  \\\n",
       "0  A mentally unstable Vietnam War veteran works ...          1976      114   \n",
       "1  Intent on seeing the Cahulawassee River before...          1972      109   \n",
       "2  King Arthur, accompanied by his squire, recrui...          1975       91   \n",
       "\n",
       "                                        genres production_countries  \\\n",
       "0                           ['drama', 'crime']               ['US']   \n",
       "1  ['drama', 'action', 'thriller', 'european']               ['US']   \n",
       "2              ['fantasy', 'action', 'comedy']               ['GB']   \n",
       "\n",
       "   imdb_score  imdb_votes  tmdb_popularity  tmdb_score  \n",
       "0         8.2    808582.0           40.965       8.179  \n",
       "1         7.7    107673.0           10.010       7.300  \n",
       "2         8.2    534486.0           15.461       7.811  "
      ]
     },
     "execution_count": 9,
     "metadata": {},
     "output_type": "execute_result"
    }
   ],
   "source": [
    "df.head(3)"
   ]
  },
  {
   "cell_type": "code",
   "execution_count": 10,
   "id": "2e58b33f-a7bf-431d-a435-39fd92b3cecf",
   "metadata": {
    "tags": []
   },
   "outputs": [
    {
     "data": {
      "text/plain": [
       "3744"
      ]
     },
     "execution_count": 10,
     "metadata": {},
     "output_type": "execute_result"
    }
   ],
   "source": [
    "len(df)"
   ]
  },
  {
   "cell_type": "code",
   "execution_count": 11,
   "id": "15eb0417-211c-4c89-8055-380ed577f56d",
   "metadata": {
    "tags": []
   },
   "outputs": [
    {
     "data": {
      "text/plain": [
       "array([<class 'str'>], dtype=object)"
      ]
     },
     "execution_count": 11,
     "metadata": {},
     "output_type": "execute_result"
    }
   ],
   "source": [
    "df['genres'].apply(type).unique()"
   ]
  },
  {
   "cell_type": "code",
   "execution_count": 12,
   "id": "6329557d-b7b7-40d9-a914-b8442fa0ff31",
   "metadata": {
    "tags": []
   },
   "outputs": [],
   "source": [
    "df['genres'] = df['genres'].apply(lambda x: ast.literal_eval(x) if isinstance(x, str) else x)\n",
    "df['production_countries'] = df['production_countries'].apply(lambda x: ast.literal_eval(x) if isinstance(x, str) else x)"
   ]
  },
  {
   "cell_type": "code",
   "execution_count": 13,
   "id": "ef76ad37-82a1-40f9-b75c-fcb956f46b50",
   "metadata": {
    "tags": []
   },
   "outputs": [
    {
     "data": {
      "text/plain": [
       "array([<class 'list'>], dtype=object)"
      ]
     },
     "execution_count": 13,
     "metadata": {},
     "output_type": "execute_result"
    }
   ],
   "source": [
    "df['genres'].apply(type).unique()"
   ]
  },
  {
   "cell_type": "markdown",
   "id": "d656cad2-6a78-4a08-9979-0aa63f025b25",
   "metadata": {
    "jp-MarkdownHeadingCollapsed": true,
    "tags": []
   },
   "source": [
    "## Section 2 : Class preparation for Pipeline (Missing values, clean text, weighted score)"
   ]
  },
  {
   "cell_type": "markdown",
   "id": "8cb724d5-4275-4ab0-87ed-cdbd4e261c98",
   "metadata": {
    "jp-MarkdownHeadingCollapsed": true,
    "tags": []
   },
   "source": [
    "### Missing Value"
   ]
  },
  {
   "cell_type": "markdown",
   "id": "00aa4815-19d8-4df2-ac6d-8cc486e44e99",
   "metadata": {},
   "source": [
    "Class responsible for handling missing values :  \n",
    "- Delete lines with no title or description,  \n",
    "- Replace empty genre and country by unknown,  \n",
    "- Fill missing score by prediction with **RandomForestRegressor** algorythm "
   ]
  },
  {
   "cell_type": "code",
   "execution_count": 17,
   "id": "030ba381-bb53-4958-b80d-85e2a55463b6",
   "metadata": {
    "tags": []
   },
   "outputs": [],
   "source": [
    "class MissingValueHandler(BaseEstimator,TransformerMixin):\n",
    "    def __init__(self):\n",
    "        pass        \n",
    "        \n",
    "    def fit(self, X,y=None):\n",
    "        return self\n",
    "    \n",
    "    def transform(self, X,y=None):\n",
    "        df = X.copy()\n",
    "        \n",
    "        # Les lignes dont title ou description sont vide\n",
    "        df = df.dropna(subset=['title', 'description'])     \n",
    "        # Les lignes dont plus de 3 colonnes ont des valeurs nulles\n",
    "        missing_value_line = df[df.isnull().sum(axis=1) >3]\n",
    "        df = df.drop(missing_value_line.index)\n",
    "        \n",
    "        # Gestions des listes\n",
    "        # Remplacer les listes vides par des valeurs par défaut\n",
    "        df['genres'] = df['genres'].apply(lambda x: x if len(x) > 0 else ['unknown'])\n",
    "        df['production_countries'] = df['production_countries'].apply(lambda x: x if len(x) > 0 else ['unknown_country'])\n",
    "\n",
    "        # Supprimer les lignes où les deux scores sont manquants\n",
    "        drop_line = df[(df['imdb_score'].isnull())&(df['tmdb_score'].isnull())]\n",
    "        df = df.drop(drop_line.index)    \n",
    "        # Remplir les valeurs manquantes des scores en se basant sur l'autre score\n",
    "        df['tmdb_score'] = df['tmdb_score'].fillna(df['imdb_score'])\n",
    "        df['imdb_score'] = df['imdb_score'].fillna(df['tmdb_score'])\n",
    "        # Predire les valeures manquante des scores  \n",
    "        def predict_missing_values(df, target_column):\n",
    "            df_model = df[[\"release_year\", \"runtime\", \"imdb_score\", \"tmdb_score\", target_column]]\n",
    "\n",
    "            train_data = df_model.dropna(subset=[target_column])\n",
    "            test_data = df_model[df_model[target_column].isnull()]\n",
    "            X_train = train_data.drop(target_column, axis=1)\n",
    "            y_train = train_data[target_column]\n",
    "\n",
    "            model = RandomForestRegressor(n_estimators=100, random_state=0)\n",
    "            model.fit(X_train, y_train)\n",
    "\n",
    "            X_test = test_data.drop(target_column, axis=1)\n",
    "            predictions = model.predict(X_test)\n",
    "\n",
    "            df.loc[df[target_column].isnull(), target_column] = predictions\n",
    "            \n",
    "        #Appliquer sur les colonnes cible\n",
    "        target_columns = ['tmdb_popularity','imdb_votes']\n",
    "        for column in target_columns: \n",
    "            predict_missing_values(df, column)\n",
    "            \n",
    "        return df            "
   ]
  },
  {
   "cell_type": "markdown",
   "id": "9d078c79-0f44-49f1-850a-b5fcfb345c68",
   "metadata": {
    "jp-MarkdownHeadingCollapsed": true,
    "tags": []
   },
   "source": [
    "### Score unique"
   ]
  },
  {
   "cell_type": "markdown",
   "id": "e93c41a1-0510-4b63-8732-d4426cc33268",
   "metadata": {},
   "source": [
    "Class for calculated a weighted score with imdb and tmdb data (that just a math basically...)\n",
    "Output, in replacement to multiple imdb and tmdb datas, just one rating `my_rating` representing scores and popularity /10."
   ]
  },
  {
   "cell_type": "code",
   "execution_count": 19,
   "id": "e610788c-6368-4ae1-b5e9-f2c67b934480",
   "metadata": {
    "tags": []
   },
   "outputs": [],
   "source": [
    "class ScoreCalculator(BaseEstimator, TransformerMixin):\n",
    "    def __init__(self):\n",
    "        pass\n",
    "        \n",
    "    def fit(self, X,y=None):\n",
    "        return self\n",
    "        \n",
    "    def transform(self, X, y=None):\n",
    "        df = X.copy()\n",
    "        \n",
    "        # Normalizing Scores\n",
    "        df['tmdb_popularity_norm'] = (df['tmdb_popularity'] - df['tmdb_popularity'].min()) / (df['tmdb_popularity'].max() - df['tmdb_popularity'].min())\n",
    "        df['imdb_votes_norm'] = (df['imdb_votes'] - df['imdb_votes'].min()) / (df['imdb_votes'].max() - df['imdb_votes'].min())\n",
    "\n",
    "        # Calculating Weighted Scores\n",
    "        df['weighted_imdb_score'] = df['imdb_score'] * df['imdb_votes_norm']\n",
    "        df['weighted_tmdb_score'] = df['tmdb_score'] * df['tmdb_popularity_norm']\n",
    "\n",
    "        df['my_rating'] = (df['weighted_imdb_score'] + df['weighted_tmdb_score']) / (df['imdb_votes_norm'] + df['tmdb_popularity_norm'])\n",
    "        \n",
    "        #drop colonnes : \n",
    "        df = df.drop(\n",
    "            ['tmdb_popularity_norm','tmdb_popularity','tmdb_score','weighted_tmdb_score',\n",
    "             'imdb_votes','imdb_votes_norm','imdb_score','weighted_imdb_score']\n",
    "            , axis=1)\n",
    "        \n",
    "        return df"
   ]
  },
  {
   "cell_type": "markdown",
   "id": "8bb33b10-ab87-4376-b095-c5c4adcdb68c",
   "metadata": {
    "jp-MarkdownHeadingCollapsed": true,
    "tags": []
   },
   "source": [
    "### Nettoyer la description"
   ]
  },
  {
   "cell_type": "markdown",
   "id": "4727c1cb-5dd7-47d1-aa8f-725f31340a04",
   "metadata": {},
   "source": [
    "Class responsible for cleaning the movie descriptions.  \n",
    "It removes stopwords, punctuation and applies lemmatization to the words with **WordNetLemmatizer()**.  \n",
    "The final output is a cleaned text column that is ready for vectorization."
   ]
  },
  {
   "cell_type": "code",
   "execution_count": 21,
   "id": "ec31f6dd-53bc-4215-bbf5-aead0cb69153",
   "metadata": {
    "tags": []
   },
   "outputs": [],
   "source": [
    "class TextCleaner(BaseEstimator, TransformerMixin):\n",
    "    def __init__(self):\n",
    "        self.stop_words = set(stopwords.words('english'))\n",
    "        self.punctuation = set(string.punctuation)\n",
    "        \n",
    "    def fit(self, X,y=None):\n",
    "        return self\n",
    "        \n",
    "    def transform(self, X, y=None):\n",
    "        df = X.copy()\n",
    "        \n",
    "        words_description  = df['description'].apply(lambda x: x.lower())\n",
    "        words_description = words_description.apply(word_tokenize)\n",
    "\n",
    "        # keep words which are not in stopwords and filter punctuation \n",
    "        def filter_stop_words(words, stop_words,punctuation):\n",
    "            filtered_words = []\n",
    "            for word in words:\n",
    "                clean_word = ''.join([char for char in word if char not in punctuation ])               \n",
    "                if clean_word and clean_word.lower() not in stop_words and len(clean_word) > 2:\n",
    "                    filtered_words.append(clean_word)\n",
    "            return filtered_words\n",
    "\n",
    "        # apply filter\n",
    "        df['description_filtered'] = words_description.apply(lambda x : filter_stop_words(x, self.stop_words, self.punctuation))\n",
    "\n",
    "        # lemmentization\n",
    "        lemmatizer = WordNetLemmatizer()        \n",
    "        def apply_lemmatization(words):           \n",
    "            lemmatized_words = [lemmatizer.lemmatize(word) for word in words]\n",
    "            return lemmatized_words \n",
    "\n",
    "        df['description_lem'] = df['description_filtered'].apply(lambda x : apply_lemmatization(x))\n",
    "\n",
    "        # join\n",
    "        df['description_join'] = df['description_lem'].apply(lambda x : ' '.join(x))\n",
    "        \n",
    "        #drop columns \n",
    "        df = df.drop(['description_lem','description_filtered'], axis=1)\n",
    "        \n",
    "        return df"
   ]
  },
  {
   "cell_type": "markdown",
   "id": "a3abe428-6b60-4689-96a6-3d062e4544bf",
   "metadata": {
    "jp-MarkdownHeadingCollapsed": true,
    "tags": []
   },
   "source": [
    "## Section 3 : Verification df"
   ]
  },
  {
   "cell_type": "markdown",
   "id": "2f0ec1a0-658d-490d-8cde-f7c6d76a73b8",
   "metadata": {},
   "source": [
    "Not 'really' necessary, the purpose of this section is just to verify the dataset.\n",
    "Just to be sure, the ground work is funtionnal"
   ]
  },
  {
   "cell_type": "code",
   "execution_count": 24,
   "id": "471f9e38-9396-45db-8d04-f3cc1ecd8482",
   "metadata": {
    "tags": []
   },
   "outputs": [],
   "source": [
    "pipeline = Pipeline([\n",
    "    ('missing_values', MissingValueHandler()),\n",
    "    ('score_calculation', ScoreCalculator()),\n",
    "    ('text_cleaning', TextCleaner())\n",
    "])"
   ]
  },
  {
   "cell_type": "code",
   "execution_count": 25,
   "id": "3c342b5a-7bfc-4126-a18a-0d5f43462466",
   "metadata": {
    "tags": []
   },
   "outputs": [],
   "source": [
    "df_transformed = pipeline.fit_transform(df)"
   ]
  },
  {
   "cell_type": "code",
   "execution_count": 26,
   "id": "257415e6-3bc8-4e6a-b509-cd8e644abca3",
   "metadata": {
    "tags": []
   },
   "outputs": [
    {
     "data": {
      "text/html": [
       "<div>\n",
       "<style scoped>\n",
       "    .dataframe tbody tr th:only-of-type {\n",
       "        vertical-align: middle;\n",
       "    }\n",
       "\n",
       "    .dataframe tbody tr th {\n",
       "        vertical-align: top;\n",
       "    }\n",
       "\n",
       "    .dataframe thead th {\n",
       "        text-align: right;\n",
       "    }\n",
       "</style>\n",
       "<table border=\"1\" class=\"dataframe\">\n",
       "  <thead>\n",
       "    <tr style=\"text-align: right;\">\n",
       "      <th></th>\n",
       "      <th>id</th>\n",
       "      <th>title</th>\n",
       "      <th>description</th>\n",
       "      <th>release_year</th>\n",
       "      <th>runtime</th>\n",
       "      <th>genres</th>\n",
       "      <th>production_countries</th>\n",
       "      <th>my_rating</th>\n",
       "      <th>description_join</th>\n",
       "    </tr>\n",
       "  </thead>\n",
       "  <tbody>\n",
       "    <tr>\n",
       "      <th>0</th>\n",
       "      <td>tm84618</td>\n",
       "      <td>Taxi Driver</td>\n",
       "      <td>A mentally unstable Vietnam War veteran works ...</td>\n",
       "      <td>1976</td>\n",
       "      <td>114</td>\n",
       "      <td>[drama, crime]</td>\n",
       "      <td>[US]</td>\n",
       "      <td>8.198980</td>\n",
       "      <td>mentally unstable vietnam war veteran work nig...</td>\n",
       "    </tr>\n",
       "    <tr>\n",
       "      <th>1</th>\n",
       "      <td>tm154986</td>\n",
       "      <td>Deliverance</td>\n",
       "      <td>Intent on seeing the Cahulawassee River before...</td>\n",
       "      <td>1972</td>\n",
       "      <td>109</td>\n",
       "      <td>[drama, action, thriller, european]</td>\n",
       "      <td>[US]</td>\n",
       "      <td>7.665871</td>\n",
       "      <td>intent seeing cahulawassee river turned one hu...</td>\n",
       "    </tr>\n",
       "    <tr>\n",
       "      <th>2</th>\n",
       "      <td>tm127384</td>\n",
       "      <td>Monty Python and the Holy Grail</td>\n",
       "      <td>King Arthur, accompanied by his squire, recrui...</td>\n",
       "      <td>1975</td>\n",
       "      <td>91</td>\n",
       "      <td>[fantasy, action, comedy]</td>\n",
       "      <td>[GB]</td>\n",
       "      <td>8.189007</td>\n",
       "      <td>king arthur accompanied squire recruit knight ...</td>\n",
       "    </tr>\n",
       "    <tr>\n",
       "      <th>3</th>\n",
       "      <td>tm120801</td>\n",
       "      <td>The Dirty Dozen</td>\n",
       "      <td>12 American military prisoners in World War II...</td>\n",
       "      <td>1967</td>\n",
       "      <td>150</td>\n",
       "      <td>[war, action]</td>\n",
       "      <td>[GB, US]</td>\n",
       "      <td>7.677974</td>\n",
       "      <td>american military prisoner world war ordered i...</td>\n",
       "    </tr>\n",
       "    <tr>\n",
       "      <th>4</th>\n",
       "      <td>tm70993</td>\n",
       "      <td>Life of Brian</td>\n",
       "      <td>Brian Cohen is an average young Jewish man, bu...</td>\n",
       "      <td>1979</td>\n",
       "      <td>94</td>\n",
       "      <td>[comedy]</td>\n",
       "      <td>[GB]</td>\n",
       "      <td>7.991343</td>\n",
       "      <td>brian cohen average young jewish man series ri...</td>\n",
       "    </tr>\n",
       "  </tbody>\n",
       "</table>\n",
       "</div>"
      ],
      "text/plain": [
       "         id                            title  \\\n",
       "0   tm84618                      Taxi Driver   \n",
       "1  tm154986                      Deliverance   \n",
       "2  tm127384  Monty Python and the Holy Grail   \n",
       "3  tm120801                  The Dirty Dozen   \n",
       "4   tm70993                    Life of Brian   \n",
       "\n",
       "                                         description  release_year  runtime  \\\n",
       "0  A mentally unstable Vietnam War veteran works ...          1976      114   \n",
       "1  Intent on seeing the Cahulawassee River before...          1972      109   \n",
       "2  King Arthur, accompanied by his squire, recrui...          1975       91   \n",
       "3  12 American military prisoners in World War II...          1967      150   \n",
       "4  Brian Cohen is an average young Jewish man, bu...          1979       94   \n",
       "\n",
       "                                genres production_countries  my_rating  \\\n",
       "0                       [drama, crime]                 [US]   8.198980   \n",
       "1  [drama, action, thriller, european]                 [US]   7.665871   \n",
       "2            [fantasy, action, comedy]                 [GB]   8.189007   \n",
       "3                        [war, action]             [GB, US]   7.677974   \n",
       "4                             [comedy]                 [GB]   7.991343   \n",
       "\n",
       "                                    description_join  \n",
       "0  mentally unstable vietnam war veteran work nig...  \n",
       "1  intent seeing cahulawassee river turned one hu...  \n",
       "2  king arthur accompanied squire recruit knight ...  \n",
       "3  american military prisoner world war ordered i...  \n",
       "4  brian cohen average young jewish man series ri...  "
      ]
     },
     "execution_count": 26,
     "metadata": {},
     "output_type": "execute_result"
    }
   ],
   "source": [
    "df_transformed.head()"
   ]
  },
  {
   "cell_type": "code",
   "execution_count": 27,
   "id": "4dfb9c83-1cf2-4ee4-a685-eaf5f8442005",
   "metadata": {
    "tags": []
   },
   "outputs": [],
   "source": [
    "# funtion to verify the empty cells. Output : name columns - %nan (if >0)\n",
    "def percent_missing(df):\n",
    "    per_nan = 100*df.isnull().sum() /len(df)\n",
    "    per_nan = per_nan[per_nan >0].sort_values()    \n",
    "    return per_nan"
   ]
  },
  {
   "cell_type": "code",
   "execution_count": 28,
   "id": "35028a12-b073-4285-b16a-ddf35ad96e4f",
   "metadata": {
    "tags": []
   },
   "outputs": [
    {
     "data": {
      "text/plain": [
       "Series([], dtype: float64)"
      ]
     },
     "execution_count": 28,
     "metadata": {},
     "output_type": "execute_result"
    }
   ],
   "source": [
    "percent_missing(df_transformed)"
   ]
  },
  {
   "cell_type": "code",
   "execution_count": 29,
   "id": "598f7be4-c7b6-4766-b5f2-ac49e605a70b",
   "metadata": {
    "tags": []
   },
   "outputs": [],
   "source": [
    "df_transformed.to_csv(\"input/movie_recom_pandas_vpipeline.csv\", index=False) #just to keep a record"
   ]
  },
  {
   "cell_type": "markdown",
   "id": "bcdccaed-edeb-4d26-b388-935125105068",
   "metadata": {
    "jp-MarkdownHeadingCollapsed": true,
    "tags": []
   },
   "source": [
    "## Section 4 : Preprocessing class"
   ]
  },
  {
   "cell_type": "markdown",
   "id": "211a422d-30c9-4a63-aab0-c0a024f86c6d",
   "metadata": {
    "jp-MarkdownHeadingCollapsed": true,
    "tags": []
   },
   "source": [
    "### Genre et contry : Binariser genre et country"
   ]
  },
  {
   "cell_type": "markdown",
   "id": "a7f116e8-1cea-4fd2-83fe-be0fe119019c",
   "metadata": {},
   "source": [
    "This class encodes the genres and production countries of the movies. It uses **MultiLabelBinarizer()** to create binary columns for each genre and country, allowing the model to capture these categorical features in a meaningful way.  \n",
    "Name of the created columns begin by 'genre_' or 'country_' (usefull for features section later)\n",
    "\n",
    "- **`fit`**: Fits the binarizer on the genres and countries.\n",
    "- **`transform`**: Transforms the genre and country data into binary columns.\n"
   ]
  },
  {
   "cell_type": "code",
   "execution_count": 66,
   "id": "41b717f1-0c6e-4218-bca8-c41e92090c10",
   "metadata": {},
   "outputs": [],
   "source": [
    "# Extractiondata : multilabelBinarizer\n",
    "class GenreCountryExtractor(BaseEstimator,TransformerMixin):\n",
    "        def __init__(self):\n",
    "            self.genre_binarizer = MultiLabelBinarizer()\n",
    "            self.country_binarizer = MultiLabelBinarizer()            \n",
    "        \n",
    "        def fit(self, X, y=None):\n",
    "            self.genre_binarizer.fit(X['genres'])\n",
    "            self.country_binarizer.fit(X['production_countries'])\n",
    "            return self\n",
    "        \n",
    "        def transform(self,X,y=None):\n",
    "            genre_encoded = self.genre_binarizer.transform(X['genres'])\n",
    "            country_encoded = self.country_binarizer.transform(X['production_countries'])\n",
    "            \n",
    "            genre_df = pd.DataFrame(genre_encoded, index=X.index, columns=[f'genre_{g}' for g in self.genre_binarizer.classes_])\n",
    "            country_df = pd.DataFrame(country_encoded, index=X.index, columns=[f'country_{c}' for c in self.country_binarizer.classes_])\n",
    "            \n",
    "            return pd.concat([X, genre_df, country_df], axis=1)"
   ]
  },
  {
   "cell_type": "markdown",
   "id": "b3c8ff04-a465-47a5-a0bb-4823afb6a944",
   "metadata": {
    "jp-MarkdownHeadingCollapsed": true,
    "tags": []
   },
   "source": [
    "### Text Vectorization (TF-IDF)"
   ]
  },
  {
   "cell_type": "markdown",
   "id": "cedf53f3-c747-48d4-89e9-8da052f102a1",
   "metadata": {},
   "source": [
    "This class vectorizes the cleaned text using **TF-IDF** (Term Frequency-Inverse Document Frequency).\n",
    "It transforms the cleaned descriptions into numerical vectors, which capture the importance of words in the descriptions.\n",
    "- **`fit`**: Fits the TF-IDF vectorizer to the descriptions.\n",
    "- **`transform`**: Transforms the cleaned descriptions into numerical vectors."
   ]
  },
  {
   "cell_type": "code",
   "execution_count": 38,
   "id": "5e82c091-12ef-4b78-8693-05a43ac7921b",
   "metadata": {},
   "outputs": [],
   "source": [
    "class TextVectorizer(BaseEstimator, TransformerMixin):\n",
    "    def __init__(self):\n",
    "        self.vectorizer = TfidfVectorizer(max_features=100, min_df=2, max_df=0.8, token_pattern=r'\\b\\w\\w+\\b')\n",
    "        \n",
    "    def fit(self, X, y=None):\n",
    "        self.vectorizer.fit(X['description_join'])\n",
    "        return self\n",
    "        \n",
    "    def transform(self, X,y=None):\n",
    "        df = X.copy()\n",
    "        \n",
    "        tfidf_matrix = self.vectorizer.transform(df['description_join'])\n",
    "        tfidf_df = pd.DataFrame(tfidf_matrix.toarray(), columns=self.vectorizer.get_feature_names_out(), index=df.index)\n",
    "        \n",
    "        # Concaténer le DataFrame d'origine avec les colonnes TF-IDF\n",
    "        return pd.concat([df, tfidf_df], axis=1)\n"
   ]
  },
  {
   "cell_type": "markdown",
   "id": "017ac911-5d9f-49e8-bd83-30c5fcb99f1e",
   "metadata": {
    "jp-MarkdownHeadingCollapsed": true,
    "tags": []
   },
   "source": [
    "### Scaling"
   ]
  },
  {
   "cell_type": "markdown",
   "id": "fbdcce8b-3acf-4c0b-9177-542771e8c49b",
   "metadata": {},
   "source": [
    "The FeatureScaler class scales the numerical features (`runtime`, `release_year`, and `my_rating`) using **StandardScaler()**. Scaling is crucial to ensure that these features contribute equally to the distance calculation in the KNN model.  \n",
    "Reduction of `my_rating` impact. \n",
    "\n",
    "- **`fit`**: Learns the scaling parameters from the training data.\n",
    "- **`transform`**: Scales the numerical features using the learned parameters."
   ]
  },
  {
   "cell_type": "code",
   "execution_count": 129,
   "id": "821f34f1-767d-4000-9489-c7481331e0f3",
   "metadata": {
    "tags": []
   },
   "outputs": [],
   "source": [
    "class FeatureScaler(BaseEstimator, TransformerMixin):\n",
    "    def __init__(self):\n",
    "        self.scaler = StandardScaler()\n",
    "        \n",
    "    def fit(self, X, y=None):\n",
    "        self.scaler.fit(X[['runtime','release_year','my_rating']])\n",
    "        return self\n",
    "        \n",
    "    def transform(self, X,y=None):\n",
    "        df = X.copy()\n",
    "        scaled_values = self.scaler.transform(df[['runtime', 'release_year', 'my_rating']])\n",
    "        df['runtime_scaled'] = scaled_values[:, 0]\n",
    "        df['release_year_scaled'] = scaled_values[:, 1]\n",
    "        df['my_rating_scaled'] = scaled_values[:, 2]\n",
    "        df['my_rating_scaled'] *= 0.5  # Réduire l'impact de my_rating\n",
    "        return df"
   ]
  },
  {
   "cell_type": "markdown",
   "id": "2de1dd19-42cf-494b-958d-a748fa1d84e6",
   "metadata": {
    "jp-MarkdownHeadingCollapsed": true,
    "tags": []
   },
   "source": [
    "### Combined features"
   ]
  },
  {
   "cell_type": "markdown",
   "id": "363bf291-b0ed-4361-92cd-00724adbf00f",
   "metadata": {},
   "source": [
    "Utility class, usefull for the end of the Pipeline to selected the datas we want to used for the machine learning model. "
   ]
  },
  {
   "cell_type": "code",
   "execution_count": 92,
   "id": "a76d8069-4195-4847-b178-7b3b7a1ad35d",
   "metadata": {},
   "outputs": [],
   "source": [
    "class FeatureSelector(BaseEstimator, TransformerMixin):\n",
    "    def __init__(self, feature_prefixes):\n",
    "        self.feature_prefixes = feature_prefixes\n",
    "    \n",
    "    def fit(self, X, y=None):\n",
    "        return self\n",
    "    \n",
    "    def transform(self, X, y=None):\n",
    "        selected_columns = []  # Créer une liste vide pour stocker les colonnes sélectionnées\n",
    "        \n",
    "        # Parcourir toutes les colonnes de X\n",
    "        for col in X.columns:\n",
    "            # Pour chaque colonne, vérifier si elle commence par l'un des préfixes\n",
    "            for prefix in self.feature_prefixes:\n",
    "                if col.startswith(prefix):\n",
    "                    selected_columns.append(col)  # Si oui, ajouter la colonne à la liste\n",
    "                    \n",
    "        selected_columns += ['title', 'description', 'genres', 'production_countries', 'my_rating']\n",
    "        \n",
    "        # Retourner seulement les colonnes sélectionnées\n",
    "        return X[selected_columns]"
   ]
  },
  {
   "cell_type": "markdown",
   "id": "c06adc5e-c587-43de-b69f-189a98ea8ad1",
   "metadata": {
    "jp-MarkdownHeadingCollapsed": true,
    "tags": []
   },
   "source": [
    "## Section 5 : Pipeline and KNN"
   ]
  },
  {
   "cell_type": "markdown",
   "id": "65508c8a-b583-436e-94e6-8a3807cf684d",
   "metadata": {
    "tags": []
   },
   "source": [
    "### Pipeline"
   ]
  },
  {
   "cell_type": "markdown",
   "id": "7c4413ba-126d-45c7-80fe-9bd92c5af5c4",
   "metadata": {},
   "source": [
    "Section 3 was used to \"pre-preprocess\", as such there is a Pipeline for Missing values, Score calculation and Text cleaning.  \n",
    "but, you can skip the section 3, and put this 3 process in this one Pipeline."
   ]
  },
  {
   "cell_type": "code",
   "execution_count": 131,
   "id": "84a24e6b-c7fc-47bb-9722-aae063fff7ed",
   "metadata": {},
   "outputs": [],
   "source": [
    "pipeline = Pipeline([\n",
    "    ('vectorize_text', TextVectorizer()),  # Vectorized the Clean Text\n",
    "    ('binarize_genre_country', GenreCountryExtractor()),  # Binarized country and genre\n",
    "    ('scale_features', FeatureScaler()),  # Scaler runtime, release_year ans rating\n",
    "    ('select_features', FeatureSelector(feature_prefixes=[\n",
    "        'runtime_scaled', 'release_year_scaled', 'my_rating_scaled', # Seclection scaled variables\n",
    "        'genre_', 'country_',  # selection of all country and genre\n",
    "        'vector_'  # TF-IDF vector\n",
    "    ]))\n",
    "])"
   ]
  },
  {
   "cell_type": "code",
   "execution_count": 133,
   "id": "ebabd4b1-fa33-4f84-9e6a-1907cad08cf2",
   "metadata": {
    "tags": []
   },
   "outputs": [],
   "source": [
    "df_preprocessing = pipeline.fit_transform(df_transformed)"
   ]
  },
  {
   "cell_type": "markdown",
   "id": "a017ff22-4f56-4de9-9f9f-21ec8a932937",
   "metadata": {},
   "source": [
    "### Implementing KNN"
   ]
  },
  {
   "cell_type": "markdown",
   "id": "1c795dd4-7502-4cdb-81c2-d6a502b4c372",
   "metadata": {},
   "source": [
    "The KNN algorithm is used to recommend movies based on their similarity in terms of features like movie descriptions, genres, countries, runtime, release year, and user ratings. The cosine distance metric is used to measure similarity between movies.\n",
    "\n",
    "- **Training the KNN model**: The model is trained on the numerical features extracted from the dataset."
   ]
  },
  {
   "cell_type": "code",
   "execution_count": 135,
   "id": "f197f015-1622-41bf-acb0-bfbf3eea0a29",
   "metadata": {
    "tags": []
   },
   "outputs": [],
   "source": [
    "df_numeric = df_preprocessing.select_dtypes(include=['float64', 'int64'])"
   ]
  },
  {
   "cell_type": "code",
   "execution_count": 137,
   "id": "c601e959-9530-4602-b755-b7347581eec1",
   "metadata": {
    "tags": []
   },
   "outputs": [],
   "source": [
    "knn = NearestNeighbors(n_neighbors=10, metric='cosine').fit(df_numeric)"
   ]
  },
  {
   "cell_type": "markdown",
   "id": "acbef0fc-ca3b-47f1-88ab-1b4d6715fee9",
   "metadata": {},
   "source": [
    "## Section 6 : Recommendation"
   ]
  },
  {
   "cell_type": "markdown",
   "id": "99e76a4c-c25f-4a35-93ff-d6ef2881aa61",
   "metadata": {},
   "source": [
    "**Making recommendations**: You can recommend movies based on a single movie or a group of movies by calculating the mean vector of the selected movies' features."
   ]
  },
  {
   "cell_type": "code",
   "execution_count": 139,
   "id": "3c669255-c1a0-4840-a423-6686b4773729",
   "metadata": {
    "tags": []
   },
   "outputs": [
    {
     "name": "stderr",
     "output_type": "stream",
     "text": [
      "C:\\Users\\melan\\anaconda3\\Lib\\site-packages\\sklearn\\base.py:439: UserWarning: X does not have valid feature names, but NearestNeighbors was fitted with feature names\n",
      "  warnings.warn(\n"
     ]
    }
   ],
   "source": [
    "film_index = 0\n",
    "distances, indices = knn.kneighbors(df_numeric.iloc[film_index].values.reshape(1, -1), n_neighbors=10)"
   ]
  },
  {
   "cell_type": "code",
   "execution_count": 141,
   "id": "d0735008-066c-41a4-a3f0-d5b8f420febe",
   "metadata": {
    "tags": []
   },
   "outputs": [
    {
     "name": "stdout",
     "output_type": "stream",
     "text": [
      "Films recommandés :                                          title  \\\n",
      "0                                 Taxi Driver   \n",
      "39                                  Christine   \n",
      "4                               Life of Brian   \n",
      "2             Monty Python and the Holy Grail   \n",
      "1                                 Deliverance   \n",
      "46                                     Vaashi   \n",
      "16                                   The Land   \n",
      "76                          An Egyptian Story   \n",
      "61                   Adam: His Song Continues   \n",
      "48  Mobile Suit Gundam II: Soldiers of Sorrow   \n",
      "\n",
      "                                          description  \\\n",
      "0   A mentally unstable Vietnam War veteran works ...   \n",
      "39  Geeky student Arnie Cunningham falls for Chris...   \n",
      "4   Brian Cohen is an average young Jewish man, bu...   \n",
      "2   King Arthur, accompanied by his squire, recrui...   \n",
      "1   Intent on seeing the Cahulawassee River before...   \n",
      "46  Ebin Mathew, a budding lawyer ambitiously join...   \n",
      "16  Set in 1933, the mayor informs the peasants th...   \n",
      "76  Acclaimed actor Nour El Cherif here plays Egyp...   \n",
      "61  Follows the true story of John and Reve Walsh ...   \n",
      "48  After managing to survive attacks by Zeon's Ch...   \n",
      "\n",
      "                                    genres production_countries  my_rating  \n",
      "0                           [drama, crime]                 [US]   8.198980  \n",
      "39            [horror, thriller, european]                 [US]   6.722345  \n",
      "4                                 [comedy]                 [GB]   7.991343  \n",
      "2                [fantasy, action, comedy]                 [GB]   8.189007  \n",
      "1      [drama, action, thriller, european]                 [US]   7.665871  \n",
      "46                       [drama, thriller]                 [IN]   6.700000  \n",
      "16                                 [drama]                 [EG]   8.253850  \n",
      "76                        [drama, fantasy]                 [EG]   6.935903  \n",
      "61                          [crime, drama]                 [US]   7.000000  \n",
      "48  [animation, scifi, action, drama, war]                 [JP]   7.200000  \n"
     ]
    }
   ],
   "source": [
    "print(\"Films recommandés : \", df_preprocessing.iloc[indices[0]][['title', 'description', 'genres', 'production_countries', 'my_rating']])"
   ]
  },
  {
   "cell_type": "markdown",
   "id": "690a974f-8805-4942-8c93-1c2aebf5c87f",
   "metadata": {},
   "source": [
    "#### With many movies"
   ]
  },
  {
   "cell_type": "code",
   "execution_count": null,
   "id": "2ef43a2e-508d-48d1-809c-59d538e0669c",
   "metadata": {},
   "outputs": [],
   "source": [
    "# 0 : Taxi Driver\n",
    "# 120 :\n",
    "# 38 : Police Academy"
   ]
  },
  {
   "cell_type": "code",
   "execution_count": 143,
   "id": "b1158835-b940-4f10-9bd3-98dfa6d144a6",
   "metadata": {},
   "outputs": [
    {
     "name": "stderr",
     "output_type": "stream",
     "text": [
      "C:\\Users\\melan\\anaconda3\\Lib\\site-packages\\sklearn\\base.py:439: UserWarning: X does not have valid feature names, but NearestNeighbors was fitted with feature names\n",
      "  warnings.warn(\n"
     ]
    }
   ],
   "source": [
    "film_indices = [0, 120, 38]\n",
    "mean_vector = np.mean(df_numeric.iloc[film_indices].values, axis=0)\n",
    "distances, indices = knn.kneighbors(mean_vector.reshape(1, -1), n_neighbors=10)"
   ]
  },
  {
   "cell_type": "code",
   "execution_count": 145,
   "id": "becb967c-b71d-4a53-ba0a-afb4f28b7ee5",
   "metadata": {
    "tags": []
   },
   "outputs": [],
   "source": [
    "recommended_movies = df_preprocessing.iloc[indices[0]][['title', 'description', 'genres', 'production_countries', 'my_rating']]"
   ]
  },
  {
   "cell_type": "code",
   "execution_count": 147,
   "id": "144524ba-5cfd-40c8-aaf0-02576d6d679b",
   "metadata": {
    "tags": []
   },
   "outputs": [
    {
     "data": {
      "text/html": [
       "<div>\n",
       "<style scoped>\n",
       "    .dataframe tbody tr th:only-of-type {\n",
       "        vertical-align: middle;\n",
       "    }\n",
       "\n",
       "    .dataframe tbody tr th {\n",
       "        vertical-align: top;\n",
       "    }\n",
       "\n",
       "    .dataframe thead th {\n",
       "        text-align: right;\n",
       "    }\n",
       "</style>\n",
       "<table border=\"1\" class=\"dataframe\">\n",
       "  <thead>\n",
       "    <tr style=\"text-align: right;\">\n",
       "      <th></th>\n",
       "      <th>title</th>\n",
       "      <th>description</th>\n",
       "      <th>genres</th>\n",
       "      <th>production_countries</th>\n",
       "      <th>my_rating</th>\n",
       "    </tr>\n",
       "  </thead>\n",
       "  <tbody>\n",
       "    <tr>\n",
       "      <th>39</th>\n",
       "      <td>Christine</td>\n",
       "      <td>Geeky student Arnie Cunningham falls for Chris...</td>\n",
       "      <td>[horror, thriller, european]</td>\n",
       "      <td>[US]</td>\n",
       "      <td>6.722345</td>\n",
       "    </tr>\n",
       "    <tr>\n",
       "      <th>38</th>\n",
       "      <td>Police Academy</td>\n",
       "      <td>New rules enforced by the Lady Mayoress mean t...</td>\n",
       "      <td>[crime, comedy]</td>\n",
       "      <td>[US]</td>\n",
       "      <td>6.682930</td>\n",
       "    </tr>\n",
       "    <tr>\n",
       "      <th>62</th>\n",
       "      <td>The George McKenna Story</td>\n",
       "      <td>Washington plays a school principal in a tough...</td>\n",
       "      <td>[drama]</td>\n",
       "      <td>[US]</td>\n",
       "      <td>6.071166</td>\n",
       "    </tr>\n",
       "    <tr>\n",
       "      <th>57</th>\n",
       "      <td>Too Young The Hero</td>\n",
       "      <td>TV movie based upon the true story of Calvin G...</td>\n",
       "      <td>[drama, war]</td>\n",
       "      <td>[US]</td>\n",
       "      <td>6.328117</td>\n",
       "    </tr>\n",
       "    <tr>\n",
       "      <th>67</th>\n",
       "      <td>Alexandria, Again and Forever</td>\n",
       "      <td>Set in 1987 against the backdrop of a hunger s...</td>\n",
       "      <td>[drama]</td>\n",
       "      <td>[FR, EG]</td>\n",
       "      <td>5.851175</td>\n",
       "    </tr>\n",
       "    <tr>\n",
       "      <th>59</th>\n",
       "      <td>The Ryan White Story</td>\n",
       "      <td>The story of Ryan White, a 13-year-old haemoph...</td>\n",
       "      <td>[drama]</td>\n",
       "      <td>[US]</td>\n",
       "      <td>6.298208</td>\n",
       "    </tr>\n",
       "    <tr>\n",
       "      <th>69</th>\n",
       "      <td>Strange Voices</td>\n",
       "      <td>A family begins to fall apart when their eldes...</td>\n",
       "      <td>[drama]</td>\n",
       "      <td>[US]</td>\n",
       "      <td>6.742445</td>\n",
       "    </tr>\n",
       "    <tr>\n",
       "      <th>61</th>\n",
       "      <td>Adam: His Song Continues</td>\n",
       "      <td>Follows the true story of John and Reve Walsh ...</td>\n",
       "      <td>[crime, drama]</td>\n",
       "      <td>[US]</td>\n",
       "      <td>7.000000</td>\n",
       "    </tr>\n",
       "    <tr>\n",
       "      <th>46</th>\n",
       "      <td>Vaashi</td>\n",
       "      <td>Ebin Mathew, a budding lawyer ambitiously join...</td>\n",
       "      <td>[drama, thriller]</td>\n",
       "      <td>[IN]</td>\n",
       "      <td>6.700000</td>\n",
       "    </tr>\n",
       "    <tr>\n",
       "      <th>173</th>\n",
       "      <td>Nightmare in Columbia County</td>\n",
       "      <td>The recounting of a terrible crime that wracke...</td>\n",
       "      <td>[drama, thriller, crime]</td>\n",
       "      <td>[US]</td>\n",
       "      <td>5.943738</td>\n",
       "    </tr>\n",
       "  </tbody>\n",
       "</table>\n",
       "</div>"
      ],
      "text/plain": [
       "                             title  \\\n",
       "39                       Christine   \n",
       "38                  Police Academy   \n",
       "62        The George McKenna Story   \n",
       "57              Too Young The Hero   \n",
       "67   Alexandria, Again and Forever   \n",
       "59            The Ryan White Story   \n",
       "69                  Strange Voices   \n",
       "61        Adam: His Song Continues   \n",
       "46                          Vaashi   \n",
       "173   Nightmare in Columbia County   \n",
       "\n",
       "                                           description  \\\n",
       "39   Geeky student Arnie Cunningham falls for Chris...   \n",
       "38   New rules enforced by the Lady Mayoress mean t...   \n",
       "62   Washington plays a school principal in a tough...   \n",
       "57   TV movie based upon the true story of Calvin G...   \n",
       "67   Set in 1987 against the backdrop of a hunger s...   \n",
       "59   The story of Ryan White, a 13-year-old haemoph...   \n",
       "69   A family begins to fall apart when their eldes...   \n",
       "61   Follows the true story of John and Reve Walsh ...   \n",
       "46   Ebin Mathew, a budding lawyer ambitiously join...   \n",
       "173  The recounting of a terrible crime that wracke...   \n",
       "\n",
       "                           genres production_countries  my_rating  \n",
       "39   [horror, thriller, european]                 [US]   6.722345  \n",
       "38                [crime, comedy]                 [US]   6.682930  \n",
       "62                        [drama]                 [US]   6.071166  \n",
       "57                   [drama, war]                 [US]   6.328117  \n",
       "67                        [drama]             [FR, EG]   5.851175  \n",
       "59                        [drama]                 [US]   6.298208  \n",
       "69                        [drama]                 [US]   6.742445  \n",
       "61                 [crime, drama]                 [US]   7.000000  \n",
       "46              [drama, thriller]                 [IN]   6.700000  \n",
       "173      [drama, thriller, crime]                 [US]   5.943738  "
      ]
     },
     "execution_count": 147,
     "metadata": {},
     "output_type": "execute_result"
    }
   ],
   "source": [
    "recommended_movies"
   ]
  }
 ],
 "metadata": {
  "kernelspec": {
   "display_name": "Python 3 (ipykernel)",
   "language": "python",
   "name": "python3"
  },
  "language_info": {
   "codemirror_mode": {
    "name": "ipython",
    "version": 3
   },
   "file_extension": ".py",
   "mimetype": "text/x-python",
   "name": "python",
   "nbconvert_exporter": "python",
   "pygments_lexer": "ipython3",
   "version": "3.11.7"
  }
 },
 "nbformat": 4,
 "nbformat_minor": 5
}
