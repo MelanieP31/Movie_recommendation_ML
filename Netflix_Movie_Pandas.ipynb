{
 "cells": [
  {
   "cell_type": "markdown",
   "id": "5d5aeb35-bf23-4042-9f76-90662c5b1aee",
   "metadata": {
    "tags": []
   },
   "source": [
    "# Movie recommendation systeme"
   ]
  },
  {
   "cell_type": "markdown",
   "id": "9d83cf1f-bb6e-44f7-b45d-437e90d5b74a",
   "metadata": {},
   "source": [
    "source : https://www.kaggle.com/datasets/victorsoeiro/netflix-tv-shows-and-movies?select=titles.csv , Data collected from JustWatch. "
   ]
  },
  {
   "cell_type": "code",
   "execution_count": 655,
   "id": "5e93e38f-efcb-4331-820e-95ede58867ab",
   "metadata": {
    "tags": []
   },
   "outputs": [],
   "source": [
    "import numpy as np\n",
    "import matplotlib.pyplot as plt\n",
    "import seaborn as sns\n",
    "import pandas as pd\n",
    "import ast\n",
    "\n",
    "from sklearn.model_selection import train_test_split\n",
    "from sklearn.model_selection import GridSearchCV\n",
    "from sklearn.neighbors import KNeighborsRegressor\n",
    "from sklearn.metrics import confusion_matrix, classification_report\n",
    "from sklearn.ensemble import RandomForestRegressor"
   ]
  },
  {
   "cell_type": "markdown",
   "id": "b73d9581-5422-47ef-adaf-8f10409d29a4",
   "metadata": {
    "jp-MarkdownHeadingCollapsed": true,
    "tags": []
   },
   "source": [
    "## Step 1 : Files importation"
   ]
  },
  {
   "cell_type": "code",
   "execution_count": 657,
   "id": "cb5d019a-7ed7-47e6-9d8f-c7f38af6e627",
   "metadata": {
    "tags": []
   },
   "outputs": [],
   "source": [
    "# Read the CSV file\n",
    "df = pd.read_csv('input/titles.csv')"
   ]
  },
  {
   "cell_type": "code",
   "execution_count": 659,
   "id": "e0eac2bf-2130-4275-b8d9-bbc7d118fbe0",
   "metadata": {
    "tags": []
   },
   "outputs": [
    {
     "data": {
      "text/html": [
       "<div>\n",
       "<style scoped>\n",
       "    .dataframe tbody tr th:only-of-type {\n",
       "        vertical-align: middle;\n",
       "    }\n",
       "\n",
       "    .dataframe tbody tr th {\n",
       "        vertical-align: top;\n",
       "    }\n",
       "\n",
       "    .dataframe thead th {\n",
       "        text-align: right;\n",
       "    }\n",
       "</style>\n",
       "<table border=\"1\" class=\"dataframe\">\n",
       "  <thead>\n",
       "    <tr style=\"text-align: right;\">\n",
       "      <th></th>\n",
       "      <th>id</th>\n",
       "      <th>title</th>\n",
       "      <th>type</th>\n",
       "      <th>description</th>\n",
       "      <th>release_year</th>\n",
       "      <th>age_certification</th>\n",
       "      <th>runtime</th>\n",
       "      <th>genres</th>\n",
       "      <th>production_countries</th>\n",
       "      <th>seasons</th>\n",
       "      <th>imdb_id</th>\n",
       "      <th>imdb_score</th>\n",
       "      <th>imdb_votes</th>\n",
       "      <th>tmdb_popularity</th>\n",
       "      <th>tmdb_score</th>\n",
       "    </tr>\n",
       "  </thead>\n",
       "  <tbody>\n",
       "    <tr>\n",
       "      <th>0</th>\n",
       "      <td>ts300399</td>\n",
       "      <td>Five Came Back: The Reference Films</td>\n",
       "      <td>SHOW</td>\n",
       "      <td>This collection includes 12 World War II-era p...</td>\n",
       "      <td>1945</td>\n",
       "      <td>TV-MA</td>\n",
       "      <td>51</td>\n",
       "      <td>['documentation']</td>\n",
       "      <td>['US']</td>\n",
       "      <td>1.0</td>\n",
       "      <td>NaN</td>\n",
       "      <td>NaN</td>\n",
       "      <td>NaN</td>\n",
       "      <td>0.600</td>\n",
       "      <td>NaN</td>\n",
       "    </tr>\n",
       "    <tr>\n",
       "      <th>1</th>\n",
       "      <td>tm84618</td>\n",
       "      <td>Taxi Driver</td>\n",
       "      <td>MOVIE</td>\n",
       "      <td>A mentally unstable Vietnam War veteran works ...</td>\n",
       "      <td>1976</td>\n",
       "      <td>R</td>\n",
       "      <td>114</td>\n",
       "      <td>['drama', 'crime']</td>\n",
       "      <td>['US']</td>\n",
       "      <td>NaN</td>\n",
       "      <td>tt0075314</td>\n",
       "      <td>8.2</td>\n",
       "      <td>808582.0</td>\n",
       "      <td>40.965</td>\n",
       "      <td>8.179</td>\n",
       "    </tr>\n",
       "    <tr>\n",
       "      <th>2</th>\n",
       "      <td>tm154986</td>\n",
       "      <td>Deliverance</td>\n",
       "      <td>MOVIE</td>\n",
       "      <td>Intent on seeing the Cahulawassee River before...</td>\n",
       "      <td>1972</td>\n",
       "      <td>R</td>\n",
       "      <td>109</td>\n",
       "      <td>['drama', 'action', 'thriller', 'european']</td>\n",
       "      <td>['US']</td>\n",
       "      <td>NaN</td>\n",
       "      <td>tt0068473</td>\n",
       "      <td>7.7</td>\n",
       "      <td>107673.0</td>\n",
       "      <td>10.010</td>\n",
       "      <td>7.300</td>\n",
       "    </tr>\n",
       "    <tr>\n",
       "      <th>3</th>\n",
       "      <td>tm127384</td>\n",
       "      <td>Monty Python and the Holy Grail</td>\n",
       "      <td>MOVIE</td>\n",
       "      <td>King Arthur, accompanied by his squire, recrui...</td>\n",
       "      <td>1975</td>\n",
       "      <td>PG</td>\n",
       "      <td>91</td>\n",
       "      <td>['fantasy', 'action', 'comedy']</td>\n",
       "      <td>['GB']</td>\n",
       "      <td>NaN</td>\n",
       "      <td>tt0071853</td>\n",
       "      <td>8.2</td>\n",
       "      <td>534486.0</td>\n",
       "      <td>15.461</td>\n",
       "      <td>7.811</td>\n",
       "    </tr>\n",
       "    <tr>\n",
       "      <th>4</th>\n",
       "      <td>tm120801</td>\n",
       "      <td>The Dirty Dozen</td>\n",
       "      <td>MOVIE</td>\n",
       "      <td>12 American military prisoners in World War II...</td>\n",
       "      <td>1967</td>\n",
       "      <td>NaN</td>\n",
       "      <td>150</td>\n",
       "      <td>['war', 'action']</td>\n",
       "      <td>['GB', 'US']</td>\n",
       "      <td>NaN</td>\n",
       "      <td>tt0061578</td>\n",
       "      <td>7.7</td>\n",
       "      <td>72662.0</td>\n",
       "      <td>20.398</td>\n",
       "      <td>7.600</td>\n",
       "    </tr>\n",
       "  </tbody>\n",
       "</table>\n",
       "</div>"
      ],
      "text/plain": [
       "         id                                title   type  \\\n",
       "0  ts300399  Five Came Back: The Reference Films   SHOW   \n",
       "1   tm84618                          Taxi Driver  MOVIE   \n",
       "2  tm154986                          Deliverance  MOVIE   \n",
       "3  tm127384      Monty Python and the Holy Grail  MOVIE   \n",
       "4  tm120801                      The Dirty Dozen  MOVIE   \n",
       "\n",
       "                                         description  release_year  \\\n",
       "0  This collection includes 12 World War II-era p...          1945   \n",
       "1  A mentally unstable Vietnam War veteran works ...          1976   \n",
       "2  Intent on seeing the Cahulawassee River before...          1972   \n",
       "3  King Arthur, accompanied by his squire, recrui...          1975   \n",
       "4  12 American military prisoners in World War II...          1967   \n",
       "\n",
       "  age_certification  runtime                                       genres  \\\n",
       "0             TV-MA       51                            ['documentation']   \n",
       "1                 R      114                           ['drama', 'crime']   \n",
       "2                 R      109  ['drama', 'action', 'thriller', 'european']   \n",
       "3                PG       91              ['fantasy', 'action', 'comedy']   \n",
       "4               NaN      150                            ['war', 'action']   \n",
       "\n",
       "  production_countries  seasons    imdb_id  imdb_score  imdb_votes  \\\n",
       "0               ['US']      1.0        NaN         NaN         NaN   \n",
       "1               ['US']      NaN  tt0075314         8.2    808582.0   \n",
       "2               ['US']      NaN  tt0068473         7.7    107673.0   \n",
       "3               ['GB']      NaN  tt0071853         8.2    534486.0   \n",
       "4         ['GB', 'US']      NaN  tt0061578         7.7     72662.0   \n",
       "\n",
       "   tmdb_popularity  tmdb_score  \n",
       "0            0.600         NaN  \n",
       "1           40.965       8.179  \n",
       "2           10.010       7.300  \n",
       "3           15.461       7.811  \n",
       "4           20.398       7.600  "
      ]
     },
     "execution_count": 659,
     "metadata": {},
     "output_type": "execute_result"
    }
   ],
   "source": [
    "df.head(5)"
   ]
  },
  {
   "cell_type": "code",
   "execution_count": 661,
   "id": "454861c4-2561-49e5-b4f0-860d814d990a",
   "metadata": {
    "tags": []
   },
   "outputs": [
    {
     "data": {
      "text/plain": [
       "5850"
      ]
     },
     "execution_count": 661,
     "metadata": {},
     "output_type": "execute_result"
    }
   ],
   "source": [
    "len(df)"
   ]
  },
  {
   "cell_type": "markdown",
   "id": "0f02e98f-5b5e-4a24-99ba-6b23ad581a62",
   "metadata": {
    "jp-MarkdownHeadingCollapsed": true,
    "tags": []
   },
   "source": [
    "## Step 2 : Data formatting"
   ]
  },
  {
   "cell_type": "code",
   "execution_count": 663,
   "id": "f8286849-b233-407f-b6f7-2244243d2dc7",
   "metadata": {
    "tags": []
   },
   "outputs": [],
   "source": [
    "# Filter out TV shows and unecessary columns\n",
    "df = df[df['type']=='MOVIE'].drop(['type','seasons','age_certification','imdb_id'], axis=1).reset_index(drop=True)"
   ]
  },
  {
   "cell_type": "code",
   "execution_count": 665,
   "id": "53c11034-18b7-4aad-9115-ae83d1292ae2",
   "metadata": {
    "tags": []
   },
   "outputs": [
    {
     "data": {
      "text/html": [
       "<div>\n",
       "<style scoped>\n",
       "    .dataframe tbody tr th:only-of-type {\n",
       "        vertical-align: middle;\n",
       "    }\n",
       "\n",
       "    .dataframe tbody tr th {\n",
       "        vertical-align: top;\n",
       "    }\n",
       "\n",
       "    .dataframe thead th {\n",
       "        text-align: right;\n",
       "    }\n",
       "</style>\n",
       "<table border=\"1\" class=\"dataframe\">\n",
       "  <thead>\n",
       "    <tr style=\"text-align: right;\">\n",
       "      <th></th>\n",
       "      <th>id</th>\n",
       "      <th>title</th>\n",
       "      <th>description</th>\n",
       "      <th>release_year</th>\n",
       "      <th>runtime</th>\n",
       "      <th>genres</th>\n",
       "      <th>production_countries</th>\n",
       "      <th>imdb_score</th>\n",
       "      <th>imdb_votes</th>\n",
       "      <th>tmdb_popularity</th>\n",
       "      <th>tmdb_score</th>\n",
       "    </tr>\n",
       "  </thead>\n",
       "  <tbody>\n",
       "    <tr>\n",
       "      <th>0</th>\n",
       "      <td>tm84618</td>\n",
       "      <td>Taxi Driver</td>\n",
       "      <td>A mentally unstable Vietnam War veteran works ...</td>\n",
       "      <td>1976</td>\n",
       "      <td>114</td>\n",
       "      <td>['drama', 'crime']</td>\n",
       "      <td>['US']</td>\n",
       "      <td>8.2</td>\n",
       "      <td>808582.0</td>\n",
       "      <td>40.965</td>\n",
       "      <td>8.179</td>\n",
       "    </tr>\n",
       "    <tr>\n",
       "      <th>1</th>\n",
       "      <td>tm154986</td>\n",
       "      <td>Deliverance</td>\n",
       "      <td>Intent on seeing the Cahulawassee River before...</td>\n",
       "      <td>1972</td>\n",
       "      <td>109</td>\n",
       "      <td>['drama', 'action', 'thriller', 'european']</td>\n",
       "      <td>['US']</td>\n",
       "      <td>7.7</td>\n",
       "      <td>107673.0</td>\n",
       "      <td>10.010</td>\n",
       "      <td>7.300</td>\n",
       "    </tr>\n",
       "    <tr>\n",
       "      <th>2</th>\n",
       "      <td>tm127384</td>\n",
       "      <td>Monty Python and the Holy Grail</td>\n",
       "      <td>King Arthur, accompanied by his squire, recrui...</td>\n",
       "      <td>1975</td>\n",
       "      <td>91</td>\n",
       "      <td>['fantasy', 'action', 'comedy']</td>\n",
       "      <td>['GB']</td>\n",
       "      <td>8.2</td>\n",
       "      <td>534486.0</td>\n",
       "      <td>15.461</td>\n",
       "      <td>7.811</td>\n",
       "    </tr>\n",
       "  </tbody>\n",
       "</table>\n",
       "</div>"
      ],
      "text/plain": [
       "         id                            title  \\\n",
       "0   tm84618                      Taxi Driver   \n",
       "1  tm154986                      Deliverance   \n",
       "2  tm127384  Monty Python and the Holy Grail   \n",
       "\n",
       "                                         description  release_year  runtime  \\\n",
       "0  A mentally unstable Vietnam War veteran works ...          1976      114   \n",
       "1  Intent on seeing the Cahulawassee River before...          1972      109   \n",
       "2  King Arthur, accompanied by his squire, recrui...          1975       91   \n",
       "\n",
       "                                        genres production_countries  \\\n",
       "0                           ['drama', 'crime']               ['US']   \n",
       "1  ['drama', 'action', 'thriller', 'european']               ['US']   \n",
       "2              ['fantasy', 'action', 'comedy']               ['GB']   \n",
       "\n",
       "   imdb_score  imdb_votes  tmdb_popularity  tmdb_score  \n",
       "0         8.2    808582.0           40.965       8.179  \n",
       "1         7.7    107673.0           10.010       7.300  \n",
       "2         8.2    534486.0           15.461       7.811  "
      ]
     },
     "execution_count": 665,
     "metadata": {},
     "output_type": "execute_result"
    }
   ],
   "source": [
    "df.head(3)"
   ]
  },
  {
   "cell_type": "code",
   "execution_count": 667,
   "id": "2e58b33f-a7bf-431d-a435-39fd92b3cecf",
   "metadata": {
    "tags": []
   },
   "outputs": [
    {
     "data": {
      "text/plain": [
       "3744"
      ]
     },
     "execution_count": 667,
     "metadata": {},
     "output_type": "execute_result"
    }
   ],
   "source": [
    "len(df)"
   ]
  },
  {
   "cell_type": "code",
   "execution_count": 669,
   "id": "b3af7993-1401-4916-950d-be62d127892b",
   "metadata": {
    "tags": []
   },
   "outputs": [],
   "source": [
    "#Extract genres\n",
    "def extract_genres(genre_str):\n",
    "    genre_list = ast.literal_eval(genre_str)\n",
    "    first_genre = genre_list[0] if len(genre_list) > 0 else np.nan\n",
    "    second_genre = genre_list[1] if len(genre_list) > 1 else \"no_second-genre\"\n",
    "    return first_genre, second_genre"
   ]
  },
  {
   "cell_type": "code",
   "execution_count": 671,
   "id": "095787d1-4972-4431-a1c3-3d8c4ce8c849",
   "metadata": {
    "tags": []
   },
   "outputs": [],
   "source": [
    "df[['first_genre', 'second_genre']] = df['genres'].apply(lambda x: pd.Series(extract_genres(x)))"
   ]
  },
  {
   "cell_type": "code",
   "execution_count": 673,
   "id": "51290834-588c-44ec-a6db-6887658f8f4c",
   "metadata": {
    "tags": []
   },
   "outputs": [],
   "source": [
    "df = df.drop('genres', axis=1)"
   ]
  },
  {
   "cell_type": "code",
   "execution_count": 675,
   "id": "92c378d0-05bd-4dce-8965-9d49538889da",
   "metadata": {
    "tags": []
   },
   "outputs": [],
   "source": [
    "#Extract main production country\n",
    "def extract_country(country_str):\n",
    "    country_list = ast.literal_eval(country_str)\n",
    "    country = country_list[0] if len(country_list) > 0 else np.nan\n",
    "    return country"
   ]
  },
  {
   "cell_type": "code",
   "execution_count": 677,
   "id": "ed302ef7-d6fc-4ebb-9d82-3b3a56604b5f",
   "metadata": {
    "tags": []
   },
   "outputs": [],
   "source": [
    "df[\"country\"] = df[\"production_countries\"].apply(extract_country)"
   ]
  },
  {
   "cell_type": "code",
   "execution_count": 679,
   "id": "9232e160-5847-49a9-b45b-8d806acffc41",
   "metadata": {
    "tags": []
   },
   "outputs": [],
   "source": [
    "df = df.drop('production_countries', axis=1)"
   ]
  },
  {
   "cell_type": "markdown",
   "id": "b9b7cd1e-e5b1-4ffb-b2e6-3c0ba0d75710",
   "metadata": {
    "jp-MarkdownHeadingCollapsed": true,
    "tags": []
   },
   "source": [
    "## Step 3 : Missing values"
   ]
  },
  {
   "cell_type": "markdown",
   "id": "5916a8ce-ff14-49f0-83d8-d65c0be86bae",
   "metadata": {
    "jp-MarkdownHeadingCollapsed": true,
    "tags": []
   },
   "source": [
    "### General"
   ]
  },
  {
   "cell_type": "code",
   "execution_count": 681,
   "id": "a7eca4f8-ece3-4b1c-862d-7998409f12f2",
   "metadata": {
    "tags": []
   },
   "outputs": [],
   "source": [
    "def percent_missing(df):\n",
    "    per_nan = 100*df.isnull().sum() /len(df)\n",
    "    per_nan = per_nan[per_nan >0].sort_values()    \n",
    "    return per_nan"
   ]
  },
  {
   "cell_type": "code",
   "execution_count": 683,
   "id": "2471e1a8-381a-4b65-84a8-564e235c2788",
   "metadata": {
    "tags": []
   },
   "outputs": [
    {
     "data": {
      "text/plain": [
       "title              0.026709\n",
       "description        0.240385\n",
       "first_genre        0.908120\n",
       "tmdb_popularity    1.655983\n",
       "country            4.300214\n",
       "tmdb_score         5.208333\n",
       "imdb_score         8.413462\n",
       "imdb_votes         8.840812\n",
       "dtype: float64"
      ]
     },
     "execution_count": 683,
     "metadata": {},
     "output_type": "execute_result"
    }
   ],
   "source": [
    "percent_missing(df)"
   ]
  },
  {
   "cell_type": "code",
   "execution_count": 685,
   "id": "c11d300c-bc61-4443-81f7-a01e471e993d",
   "metadata": {
    "tags": []
   },
   "outputs": [],
   "source": [
    "df = df.dropna(subset=['title', 'description'])"
   ]
  },
  {
   "cell_type": "code",
   "execution_count": 687,
   "id": "774fe18f-6ace-47f2-a4ff-5819dc03bbc9",
   "metadata": {
    "tags": []
   },
   "outputs": [],
   "source": [
    "missing_value_line = df[df.isnull().sum(axis=1) >3]"
   ]
  },
  {
   "cell_type": "code",
   "execution_count": 689,
   "id": "5a8ddd29-1cf1-4116-aecf-7e2af1ed359e",
   "metadata": {
    "tags": []
   },
   "outputs": [],
   "source": [
    "df = df.drop(missing_value_line.index)"
   ]
  },
  {
   "cell_type": "code",
   "execution_count": 691,
   "id": "ad8c870b-576f-435d-a3f5-d2b3d3ee8681",
   "metadata": {
    "tags": []
   },
   "outputs": [
    {
     "data": {
      "text/plain": [
       "first_genre        0.350783\n",
       "tmdb_popularity    1.241230\n",
       "country            3.642742\n",
       "tmdb_score         4.533189\n",
       "imdb_score         7.609282\n",
       "imdb_votes         7.987048\n",
       "dtype: float64"
      ]
     },
     "execution_count": 691,
     "metadata": {},
     "output_type": "execute_result"
    }
   ],
   "source": [
    "percent_missing(df)"
   ]
  },
  {
   "cell_type": "markdown",
   "id": "d275f5b3-c328-498e-97f8-7bcf356a3338",
   "metadata": {
    "jp-MarkdownHeadingCollapsed": true,
    "tags": []
   },
   "source": [
    "### tmdb_score and imdb_score"
   ]
  },
  {
   "cell_type": "code",
   "execution_count": 693,
   "id": "7ecce58b-9342-43c1-9eae-a3e763926278",
   "metadata": {
    "tags": []
   },
   "outputs": [
    {
     "data": {
      "text/plain": [
       "<Axes: xlabel='tmdb_score', ylabel='imdb_score'>"
      ]
     },
     "execution_count": 693,
     "metadata": {},
     "output_type": "execute_result"
    },
    {
     "data": {
      "image/png": "[encoded data removed]",
      "text/plain": [
       "<Figure size 1600x400 with 3 Axes>"
      ]
     },
     "metadata": {},
     "output_type": "display_data"
    }
   ],
   "source": [
    "#plot distribution and corelation\n",
    "fig,axes = plt.subplots(nrows=1,ncols=3, figsize=(16,4))\n",
    "sns.histplot(df.tmdb_score, ax = axes[0])\n",
    "sns.histplot(df.imdb_score, ax = axes[1])\n",
    "sns.scatterplot(data=df, x ='tmdb_score',y='imdb_score')"
   ]
  },
  {
   "cell_type": "code",
   "execution_count": 695,
   "id": "4d0cecbe-b59e-49f9-9577-666817531b90",
   "metadata": {
    "tags": []
   },
   "outputs": [],
   "source": [
    "# Filling missing values with each other\n",
    "df['tmdb_score'] = df['tmdb_score'].fillna(df['imdb_score'])\n",
    "df['imdb_score'] = df['imdb_score'].fillna(df['tmdb_score'])"
   ]
  },
  {
   "cell_type": "code",
   "execution_count": 697,
   "id": "096ccc03-1623-433a-ac55-c597206c3ed6",
   "metadata": {
    "tags": []
   },
   "outputs": [],
   "source": [
    "# Drop down if the 2 are empty\n",
    "drop_line = df[(df['imdb_score'].isnull())&(df['tmdb_score'].isnull())]\n",
    "df = df.drop(drop_line.index)"
   ]
  },
  {
   "cell_type": "code",
   "execution_count": 699,
   "id": "9967fdd7-2c81-47b1-b231-8de48be0ab20",
   "metadata": {
    "tags": []
   },
   "outputs": [
    {
     "data": {
      "text/plain": [
       "first_genre        0.353453\n",
       "tmdb_popularity    1.250680\n",
       "country            3.670473\n",
       "imdb_votes         7.286569\n",
       "dtype: float64"
      ]
     },
     "execution_count": 699,
     "metadata": {},
     "output_type": "execute_result"
    }
   ],
   "source": [
    "percent_missing(df)"
   ]
  },
  {
   "cell_type": "markdown",
   "id": "6e16540f-ab5d-486f-9151-bbae18626313",
   "metadata": {
    "jp-MarkdownHeadingCollapsed": true,
    "tags": []
   },
   "source": [
    "### genre missing values"
   ]
  },
  {
   "cell_type": "code",
   "execution_count": 701,
   "id": "b03159d2-3d2e-4bc3-99fa-77f8fc65a0ee",
   "metadata": {
    "tags": []
   },
   "outputs": [],
   "source": [
    "missing_first_genre_indices = df[df['first_genre'].isnull()].index"
   ]
  },
  {
   "cell_type": "code",
   "execution_count": 703,
   "id": "a1d5be90-8fce-427a-b922-6e5e1fb67f83",
   "metadata": {
    "tags": []
   },
   "outputs": [],
   "source": [
    "df.loc[missing_first_genre_indices[0], 'first_genre'] = 'drama'\n",
    "df.loc[missing_first_genre_indices[1], 'first_genre'] = 'drama'\n",
    "df.loc[missing_first_genre_indices[2], 'first_genre'] = 'animation'\n",
    "df.loc[missing_first_genre_indices[3], 'first_genre'] = 'animation'\n",
    "df.loc[missing_first_genre_indices[4], 'first_genre'] = 'animation'\n",
    "df.loc[missing_first_genre_indices[5], 'first_genre'] = 'thriller'\n",
    "df.loc[missing_first_genre_indices[6], 'first_genre'] = 'comedy'\n",
    "df.loc[missing_first_genre_indices[8], 'first_genre'] = 'documentation'\n",
    "df.loc[missing_first_genre_indices[9], 'first_genre'] = 'documentation'\n",
    "df.loc[missing_first_genre_indices[10], 'first_genre'] = 'documentation'\n",
    "df.loc[missing_first_genre_indices[11], 'first_genre'] = 'documentation'\n",
    "df.loc[missing_first_genre_indices[12], 'first_genre'] = 'documentation'"
   ]
  },
  {
   "cell_type": "code",
   "execution_count": 705,
   "id": "41a88cda-0729-45ec-83f2-66f359b9a018",
   "metadata": {
    "tags": []
   },
   "outputs": [],
   "source": [
    "df = df.dropna(subset=['first_genre'])"
   ]
  },
  {
   "cell_type": "code",
   "execution_count": 707,
   "id": "155d9621-13de-44c9-8d34-1ab7ac78739b",
   "metadata": {
    "tags": []
   },
   "outputs": [
    {
     "data": {
      "text/plain": [
       "tmdb_popularity    1.251020\n",
       "country            3.671471\n",
       "imdb_votes         7.261354\n",
       "dtype: float64"
      ]
     },
     "execution_count": 707,
     "metadata": {},
     "output_type": "execute_result"
    }
   ],
   "source": [
    "percent_missing(df)"
   ]
  },
  {
   "cell_type": "markdown",
   "id": "2999b0ff-6aa8-4673-9da2-cdfe30651d79",
   "metadata": {
    "jp-MarkdownHeadingCollapsed": true,
    "tags": []
   },
   "source": [
    "### Country missing values"
   ]
  },
  {
   "cell_type": "code",
   "execution_count": 709,
   "id": "cc0854cf-5513-49d7-82e0-7988820d06d8",
   "metadata": {
    "tags": []
   },
   "outputs": [],
   "source": [
    "df['country'].fillna('unknown_country', inplace=True)"
   ]
  },
  {
   "cell_type": "code",
   "execution_count": 711,
   "id": "26308497-b705-4454-932f-a0829d91b05e",
   "metadata": {
    "tags": []
   },
   "outputs": [
    {
     "data": {
      "text/plain": [
       "tmdb_popularity    1.251020\n",
       "imdb_votes         7.261354\n",
       "dtype: float64"
      ]
     },
     "execution_count": 711,
     "metadata": {},
     "output_type": "execute_result"
    }
   ],
   "source": [
    "percent_missing(df)"
   ]
  },
  {
   "cell_type": "markdown",
   "id": "030e63a0-7fc2-4dc4-8060-f64f2f11f98d",
   "metadata": {
    "jp-MarkdownHeadingCollapsed": true,
    "tags": []
   },
   "source": [
    "### imdb_votes and tmdb_popularity missing values"
   ]
  },
  {
   "cell_type": "code",
   "execution_count": 713,
   "id": "91219b33-ca2b-48ca-a58d-10ee87ca7fe4",
   "metadata": {
    "tags": []
   },
   "outputs": [
    {
     "data": {
      "text/plain": [
       "267"
      ]
     },
     "execution_count": 713,
     "metadata": {},
     "output_type": "execute_result"
    }
   ],
   "source": [
    "len(df[df['imdb_votes'].isnull()])"
   ]
  },
  {
   "cell_type": "code",
   "execution_count": 715,
   "id": "d389ae95-5dc7-4bb0-b3fd-db76715c7b14",
   "metadata": {
    "tags": []
   },
   "outputs": [
    {
     "data": {
      "text/plain": [
       "<seaborn.axisgrid.PairGrid at 0x1d96273ae10>"
      ]
     },
     "execution_count": 715,
     "metadata": {},
     "output_type": "execute_result"
    },
    {
     "data": {
      "image/png": "[encoded data removed]",
      "text/plain": [
       "<Figure size 1000x1000 with 14 Axes>"
      ]
     },
     "metadata": {},
     "output_type": "display_data"
    }
   ],
   "source": [
    "# pairplot numerical value tmdb et imdb\n",
    "subset = df[['tmdb_popularity', 'tmdb_score', 'imdb_votes', 'imdb_score']]\n",
    "sns.pairplot(subset, corner=True)"
   ]
  },
  {
   "cell_type": "code",
   "execution_count": 721,
   "id": "d0a672d8-5206-41fd-a105-6327d16cbd6a",
   "metadata": {
    "tags": []
   },
   "outputs": [],
   "source": [
    "# prediction with machine learning\n",
    "def predict_missing_values(df, target_column):\n",
    "    df_model = df[[\"release_year\", \"runtime\", \"first_genre\", \"country\", \"imdb_score\", \"tmdb_score\", target_column]]\n",
    "    df_model_obj = df_model[['first_genre', 'country']]\n",
    "    df_model_dummies = pd.get_dummies(df_model_obj, drop_first=True)\n",
    "    df_model_num = df_model.select_dtypes('number')\n",
    "    df_model = pd.concat([df_model_num, df_model_dummies], axis=1)\n",
    "\n",
    "    train_data = df_model.dropna(subset=[target_column])\n",
    "    test_data = df_model[df_model[target_column].isnull()]\n",
    "    X_train = train_data.drop(target_column, axis=1)\n",
    "    y_train = train_data[target_column]\n",
    "\n",
    "    model = RandomForestRegressor(n_estimators=100, random_state=0)\n",
    "    model.fit(X_train, y_train)\n",
    "\n",
    "    X_test = test_data.drop(target_column, axis=1)\n",
    "    predictions = model.predict(X_test)\n",
    "\n",
    "    df.loc[df[target_column].isnull(), target_column] = predictions"
   ]
  },
  {
   "cell_type": "code",
   "execution_count": 723,
   "id": "8587f8c3-ffae-473c-9bc7-678081786fc3",
   "metadata": {
    "tags": []
   },
   "outputs": [
    {
     "name": "stdout",
     "output_type": "stream",
     "text": [
      "count    3677.000000\n",
      "mean       20.414589\n",
      "std        78.108725\n",
      "min         0.055091\n",
      "25%         2.565000\n",
      "50%         5.960000\n",
      "75%        14.843000\n",
      "max      2274.044000\n",
      "Name: tmdb_popularity, dtype: float64\n"
     ]
    }
   ],
   "source": [
    "predict_missing_values(df, 'tmdb_popularity')\n",
    "df.tmdb_popularity.describe()"
   ]
  },
  {
   "cell_type": "code",
   "execution_count": 725,
   "id": "8bfd770a-0eee-4521-8ee4-206f14feb5ce",
   "metadata": {
    "tags": []
   },
   "outputs": [
    {
     "data": {
      "text/plain": [
       "count    3.677000e+03\n",
       "mean     2.726892e+04\n",
       "std      1.098950e+05\n",
       "min      5.000000e+00\n",
       "25%      6.100000e+02\n",
       "50%      2.594000e+03\n",
       "75%      1.169300e+04\n",
       "max      2.294231e+06\n",
       "Name: imdb_votes, dtype: float64"
      ]
     },
     "execution_count": 725,
     "metadata": {},
     "output_type": "execute_result"
    }
   ],
   "source": [
    "predict_missing_values(df, 'imdb_votes')\n",
    "df.imdb_votes.describe()"
   ]
  },
  {
   "cell_type": "markdown",
   "id": "ea0b983d-4287-464e-8d02-8b99d8fed235",
   "metadata": {
    "jp-MarkdownHeadingCollapsed": true,
    "tags": []
   },
   "source": [
    "## Keywords Extractions"
   ]
  },
  {
   "cell_type": "markdown",
   "id": "9d9f0183-dc2f-4660-aaa6-ff15165a2d77",
   "metadata": {},
   "source": [
    "ref article : https://www.analyticsvidhya.com/blog/2022/01/four-of-the-easiest-and-most-effective-methods-of-keyword-extraction-from-a-single-text-using-python/  \n",
    "Yake: Campos, Ricardo, et al. “YAKE! Keyword extraction from single documents using multiple local features.” Information Sciences 509 (2020): 257-289."
   ]
  },
  {
   "cell_type": "code",
   "execution_count": null,
   "id": "f8f5a368-64d4-4b96-9fcc-3598cabbb29b",
   "metadata": {
    "tags": []
   },
   "outputs": [],
   "source": [
    "pip install git+https://github.com/LIAAD/yake"
   ]
  },
  {
   "cell_type": "code",
   "execution_count": 570,
   "id": "e6116b1f-b693-43d4-95e1-3bb07b6baa3f",
   "metadata": {
    "tags": []
   },
   "outputs": [],
   "source": [
    "import yake"
   ]
  },
  {
   "cell_type": "code",
   "execution_count": 578,
   "id": "957e4458-9553-4364-bb9e-919c8c67ccee",
   "metadata": {
    "tags": []
   },
   "outputs": [],
   "source": [
    "def extract_keywords(title, text):\n",
    "    combined_text = title + \" \" + text\n",
    "    kw_extractor = yake.KeywordExtractor(top=3, stopwords=None, n=1)\n",
    "    keywords = kw_extractor.extract_keywords(combined_text)\n",
    "    # Extraire seulement les mots-clés, ignorer les scores\n",
    "    return [kw for kw, v in keywords]"
   ]
  },
  {
   "cell_type": "code",
   "execution_count": 580,
   "id": "e34e4d16-04db-4162-bd7b-52cac0560f2c",
   "metadata": {
    "tags": []
   },
   "outputs": [],
   "source": [
    "df['keywords'] = df.apply(lambda row: extract_keywords(row['title'], row['description']), axis=1)"
   ]
  },
  {
   "cell_type": "code",
   "execution_count": 598,
   "id": "a0784ec4-e24f-403a-ac9e-6fb7e49ceaee",
   "metadata": {
    "tags": []
   },
   "outputs": [
    {
     "name": "stdout",
     "output_type": "stream",
     "text": [
      "<class 'pandas.core.series.Series'>\n",
      "Index: 3677 entries, 0 to 3743\n",
      "Series name: keywords\n",
      "Non-Null Count  Dtype \n",
      "--------------  ----- \n",
      "3677 non-null   object\n",
      "dtypes: object(1)\n",
      "memory usage: 186.5+ KB\n"
     ]
    }
   ],
   "source": [
    "df['keywords'].info()"
   ]
  },
  {
   "cell_type": "code",
   "execution_count": 612,
   "id": "24368980-2dce-42fe-adc0-bf939447ec8d",
   "metadata": {
    "tags": []
   },
   "outputs": [],
   "source": [
    "def formatting_keywords(keywords):\n",
    "    #keywords_list = ast.literal_eval(keywords_str)\n",
    "    first_keyword = keywords[0] if len(keywords) > 0 else np.nan\n",
    "    second_keyword = keywords[1] if len(keywords) > 1 else np.nan\n",
    "    third_keyword = keywords[2] if len(keywords) > 2 else 'no_third_keywords'\n",
    "    return first_keyword, second_keyword,third_keyword"
   ]
  },
  {
   "cell_type": "code",
   "execution_count": 614,
   "id": "715e3b97-244e-4c7b-a19d-415c8479ce6a",
   "metadata": {
    "tags": []
   },
   "outputs": [],
   "source": [
    "df[['first_keyword', 'second_keyword', 'third_keyword']] = df['keywords'].apply(lambda x: pd.Series(formatting_keywords(x)))"
   ]
  },
  {
   "cell_type": "code",
   "execution_count": 616,
   "id": "5271c6e9-c358-4db3-864f-df85a081998f",
   "metadata": {
    "tags": []
   },
   "outputs": [
    {
     "data": {
      "text/html": [
       "<div>\n",
       "<style scoped>\n",
       "    .dataframe tbody tr th:only-of-type {\n",
       "        vertical-align: middle;\n",
       "    }\n",
       "\n",
       "    .dataframe tbody tr th {\n",
       "        vertical-align: top;\n",
       "    }\n",
       "\n",
       "    .dataframe thead th {\n",
       "        text-align: right;\n",
       "    }\n",
       "</style>\n",
       "<table border=\"1\" class=\"dataframe\">\n",
       "  <thead>\n",
       "    <tr style=\"text-align: right;\">\n",
       "      <th></th>\n",
       "      <th>title</th>\n",
       "      <th>description</th>\n",
       "      <th>release_year</th>\n",
       "      <th>runtime</th>\n",
       "      <th>imdb_score</th>\n",
       "      <th>imdb_votes</th>\n",
       "      <th>tmdb_popularity</th>\n",
       "      <th>tmdb_score</th>\n",
       "      <th>first_genre</th>\n",
       "      <th>second_genre</th>\n",
       "      <th>country</th>\n",
       "      <th>keywords</th>\n",
       "      <th>first_keyword</th>\n",
       "      <th>second_keyword</th>\n",
       "      <th>third_keyword</th>\n",
       "    </tr>\n",
       "  </thead>\n",
       "  <tbody>\n",
       "    <tr>\n",
       "      <th>0</th>\n",
       "      <td>Taxi Driver</td>\n",
       "      <td>A mentally unstable Vietnam War veteran works ...</td>\n",
       "      <td>1976</td>\n",
       "      <td>114</td>\n",
       "      <td>8.2</td>\n",
       "      <td>808582.0</td>\n",
       "      <td>40.965</td>\n",
       "      <td>8.179</td>\n",
       "      <td>drama</td>\n",
       "      <td>crime</td>\n",
       "      <td>US</td>\n",
       "      <td>[Driver, Vietnam, War]</td>\n",
       "      <td>Driver</td>\n",
       "      <td>Vietnam</td>\n",
       "      <td>War</td>\n",
       "    </tr>\n",
       "    <tr>\n",
       "      <th>1</th>\n",
       "      <td>Deliverance</td>\n",
       "      <td>Intent on seeing the Cahulawassee River before...</td>\n",
       "      <td>1972</td>\n",
       "      <td>109</td>\n",
       "      <td>7.7</td>\n",
       "      <td>107673.0</td>\n",
       "      <td>10.010</td>\n",
       "      <td>7.300</td>\n",
       "      <td>drama</td>\n",
       "      <td>action</td>\n",
       "      <td>US</td>\n",
       "      <td>[Intent, Cahulawassee, River]</td>\n",
       "      <td>Intent</td>\n",
       "      <td>Cahulawassee</td>\n",
       "      <td>River</td>\n",
       "    </tr>\n",
       "    <tr>\n",
       "      <th>2</th>\n",
       "      <td>Monty Python and the Holy Grail</td>\n",
       "      <td>King Arthur, accompanied by his squire, recrui...</td>\n",
       "      <td>1975</td>\n",
       "      <td>91</td>\n",
       "      <td>8.2</td>\n",
       "      <td>534486.0</td>\n",
       "      <td>15.461</td>\n",
       "      <td>7.811</td>\n",
       "      <td>fantasy</td>\n",
       "      <td>action</td>\n",
       "      <td>GB</td>\n",
       "      <td>[Sir, Arthur, Table]</td>\n",
       "      <td>Sir</td>\n",
       "      <td>Arthur</td>\n",
       "      <td>Table</td>\n",
       "    </tr>\n",
       "    <tr>\n",
       "      <th>3</th>\n",
       "      <td>The Dirty Dozen</td>\n",
       "      <td>12 American military prisoners in World War II...</td>\n",
       "      <td>1967</td>\n",
       "      <td>150</td>\n",
       "      <td>7.7</td>\n",
       "      <td>72662.0</td>\n",
       "      <td>20.398</td>\n",
       "      <td>7.600</td>\n",
       "      <td>war</td>\n",
       "      <td>action</td>\n",
       "      <td>GB</td>\n",
       "      <td>[Dozen, American, Dirty]</td>\n",
       "      <td>Dozen</td>\n",
       "      <td>American</td>\n",
       "      <td>Dirty</td>\n",
       "    </tr>\n",
       "    <tr>\n",
       "      <th>4</th>\n",
       "      <td>Life of Brian</td>\n",
       "      <td>Brian Cohen is an average young Jewish man, bu...</td>\n",
       "      <td>1979</td>\n",
       "      <td>94</td>\n",
       "      <td>8.0</td>\n",
       "      <td>395024.0</td>\n",
       "      <td>17.770</td>\n",
       "      <td>7.800</td>\n",
       "      <td>comedy</td>\n",
       "      <td>no_second-genre</td>\n",
       "      <td>GB</td>\n",
       "      <td>[Messiah, Brian, Cohen]</td>\n",
       "      <td>Messiah</td>\n",
       "      <td>Brian</td>\n",
       "      <td>Cohen</td>\n",
       "    </tr>\n",
       "  </tbody>\n",
       "</table>\n",
       "</div>"
      ],
      "text/plain": [
       "                             title  \\\n",
       "0                      Taxi Driver   \n",
       "1                      Deliverance   \n",
       "2  Monty Python and the Holy Grail   \n",
       "3                  The Dirty Dozen   \n",
       "4                    Life of Brian   \n",
       "\n",
       "                                         description  release_year  runtime  \\\n",
       "0  A mentally unstable Vietnam War veteran works ...          1976      114   \n",
       "1  Intent on seeing the Cahulawassee River before...          1972      109   \n",
       "2  King Arthur, accompanied by his squire, recrui...          1975       91   \n",
       "3  12 American military prisoners in World War II...          1967      150   \n",
       "4  Brian Cohen is an average young Jewish man, bu...          1979       94   \n",
       "\n",
       "   imdb_score  imdb_votes  tmdb_popularity  tmdb_score first_genre  \\\n",
       "0         8.2    808582.0           40.965       8.179       drama   \n",
       "1         7.7    107673.0           10.010       7.300       drama   \n",
       "2         8.2    534486.0           15.461       7.811     fantasy   \n",
       "3         7.7     72662.0           20.398       7.600         war   \n",
       "4         8.0    395024.0           17.770       7.800      comedy   \n",
       "\n",
       "      second_genre country                       keywords first_keyword  \\\n",
       "0            crime      US         [Driver, Vietnam, War]        Driver   \n",
       "1           action      US  [Intent, Cahulawassee, River]        Intent   \n",
       "2           action      GB           [Sir, Arthur, Table]           Sir   \n",
       "3           action      GB       [Dozen, American, Dirty]         Dozen   \n",
       "4  no_second-genre      GB        [Messiah, Brian, Cohen]       Messiah   \n",
       "\n",
       "  second_keyword third_keyword  \n",
       "0        Vietnam           War  \n",
       "1   Cahulawassee         River  \n",
       "2         Arthur         Table  \n",
       "3       American         Dirty  \n",
       "4          Brian         Cohen  "
      ]
     },
     "execution_count": 616,
     "metadata": {},
     "output_type": "execute_result"
    }
   ],
   "source": [
    "df.head(5)"
   ]
  },
  {
   "cell_type": "code",
   "execution_count": 618,
   "id": "18219ecd-2e45-4815-9db0-0347aff0566b",
   "metadata": {
    "tags": []
   },
   "outputs": [
    {
     "data": {
      "text/plain": [
       "Series([], dtype: float64)"
      ]
     },
     "execution_count": 618,
     "metadata": {},
     "output_type": "execute_result"
    }
   ],
   "source": [
    "percent_missing(df)"
   ]
  },
  {
   "cell_type": "code",
   "execution_count": 622,
   "id": "55554eb8-b869-465b-a675-c92360ac498d",
   "metadata": {
    "tags": []
   },
   "outputs": [],
   "source": [
    "df = df.drop('keywords', axis=1)\n",
    "df = df.reset_index(drop=True)"
   ]
  },
  {
   "cell_type": "markdown",
   "id": "deaefd59-d1b9-4cbd-a606-cb51c3e1a239",
   "metadata": {},
   "source": [
    "## Common score"
   ]
  },
  {
   "cell_type": "code",
   "execution_count": 820,
   "id": "e64fe222-4e63-4104-b815-3bfdaf4f136f",
   "metadata": {
    "tags": []
   },
   "outputs": [],
   "source": [
    "df['tmdb_popularity_norm'] = (df['tmdb_popularity'] - df['tmdb_popularity'].min()) / (df['tmdb_popularity'].max() - df['tmdb_popularity'].min())\n",
    "df['imdb_votes_norm'] = (df['imdb_votes'] - df['imdb_votes'].min()) / (df['imdb_votes'].max() - df['imdb_votes'].min())"
   ]
  },
  {
   "cell_type": "code",
   "execution_count": 826,
   "id": "b8433f96-631a-41e1-a1db-6cea5f1ff57c",
   "metadata": {
    "tags": []
   },
   "outputs": [],
   "source": [
    "df['weighted_imdb_score'] = df['imdb_score'] * df['imdb_votes_norm']\n",
    "df['weighted_tmdb_score'] = df['tmdb_score'] * df['tmdb_popularity_norm']"
   ]
  },
  {
   "cell_type": "code",
   "execution_count": 830,
   "id": "1318daf9-522b-4b22-a773-d257401d2ba4",
   "metadata": {
    "tags": []
   },
   "outputs": [],
   "source": [
    "df['my_rating'] = (df['weighted_imdb_score'] + df['weighted_tmdb_score']) / (df['imdb_votes_norm'] + df['tmdb_popularity_norm'])"
   ]
  },
  {
   "cell_type": "code",
   "execution_count": 836,
   "id": "f93b1d67-d8cc-493a-80e2-725f44767398",
   "metadata": {
    "tags": []
   },
   "outputs": [],
   "source": [
    "df = df[[\"id\",\"title\",\"description\",\"release_year\",\"runtime\",\"first_genre\",\"second_genre\",\"country\",\"my_rating\"]]"
   ]
  },
  {
   "cell_type": "code",
   "execution_count": 838,
   "id": "c662d6ae-68b0-4e60-ac3f-df197cb7a05d",
   "metadata": {
    "tags": []
   },
   "outputs": [
    {
     "data": {
      "text/html": [
       "<div>\n",
       "<style scoped>\n",
       "    .dataframe tbody tr th:only-of-type {\n",
       "        vertical-align: middle;\n",
       "    }\n",
       "\n",
       "    .dataframe tbody tr th {\n",
       "        vertical-align: top;\n",
       "    }\n",
       "\n",
       "    .dataframe thead th {\n",
       "        text-align: right;\n",
       "    }\n",
       "</style>\n",
       "<table border=\"1\" class=\"dataframe\">\n",
       "  <thead>\n",
       "    <tr style=\"text-align: right;\">\n",
       "      <th></th>\n",
       "      <th>id</th>\n",
       "      <th>title</th>\n",
       "      <th>description</th>\n",
       "      <th>release_year</th>\n",
       "      <th>runtime</th>\n",
       "      <th>first_genre</th>\n",
       "      <th>second_genre</th>\n",
       "      <th>country</th>\n",
       "      <th>my_rating</th>\n",
       "    </tr>\n",
       "  </thead>\n",
       "  <tbody>\n",
       "    <tr>\n",
       "      <th>0</th>\n",
       "      <td>tm84618</td>\n",
       "      <td>Taxi Driver</td>\n",
       "      <td>A mentally unstable Vietnam War veteran works ...</td>\n",
       "      <td>1976</td>\n",
       "      <td>114</td>\n",
       "      <td>drama</td>\n",
       "      <td>crime</td>\n",
       "      <td>US</td>\n",
       "      <td>8.198980</td>\n",
       "    </tr>\n",
       "    <tr>\n",
       "      <th>1</th>\n",
       "      <td>tm154986</td>\n",
       "      <td>Deliverance</td>\n",
       "      <td>Intent on seeing the Cahulawassee River before...</td>\n",
       "      <td>1972</td>\n",
       "      <td>109</td>\n",
       "      <td>drama</td>\n",
       "      <td>action</td>\n",
       "      <td>US</td>\n",
       "      <td>7.665871</td>\n",
       "    </tr>\n",
       "    <tr>\n",
       "      <th>2</th>\n",
       "      <td>tm127384</td>\n",
       "      <td>Monty Python and the Holy Grail</td>\n",
       "      <td>King Arthur, accompanied by his squire, recrui...</td>\n",
       "      <td>1975</td>\n",
       "      <td>91</td>\n",
       "      <td>fantasy</td>\n",
       "      <td>action</td>\n",
       "      <td>GB</td>\n",
       "      <td>8.189007</td>\n",
       "    </tr>\n",
       "  </tbody>\n",
       "</table>\n",
       "</div>"
      ],
      "text/plain": [
       "         id                            title  \\\n",
       "0   tm84618                      Taxi Driver   \n",
       "1  tm154986                      Deliverance   \n",
       "2  tm127384  Monty Python and the Holy Grail   \n",
       "\n",
       "                                         description  release_year  runtime  \\\n",
       "0  A mentally unstable Vietnam War veteran works ...          1976      114   \n",
       "1  Intent on seeing the Cahulawassee River before...          1972      109   \n",
       "2  King Arthur, accompanied by his squire, recrui...          1975       91   \n",
       "\n",
       "  first_genre second_genre country  my_rating  \n",
       "0       drama        crime      US   8.198980  \n",
       "1       drama       action      US   7.665871  \n",
       "2     fantasy       action      GB   8.189007  "
      ]
     },
     "execution_count": 838,
     "metadata": {},
     "output_type": "execute_result"
    }
   ],
   "source": [
    "df.head(3)"
   ]
  },
  {
   "cell_type": "code",
   "execution_count": 840,
   "id": "862db0cb-7c67-4c69-9a20-9d9311e7dec3",
   "metadata": {
    "tags": []
   },
   "outputs": [
    {
     "data": {
      "text/plain": [
       "<Axes: xlabel='my_rating', ylabel='Count'>"
      ]
     },
     "execution_count": 840,
     "metadata": {},
     "output_type": "execute_result"
    },
    {
     "data": {
      "image/png": "[encoded data removed]",
      "text/plain": [
       "<Figure size 640x480 with 1 Axes>"
      ]
     },
     "metadata": {},
     "output_type": "display_data"
    }
   ],
   "source": [
    "sns.histplot(df, x='my_rating')"
   ]
  },
  {
   "cell_type": "markdown",
   "id": "539b2272-3a58-4d66-88fe-cc0d50afe036",
   "metadata": {},
   "source": [
    "## Save"
   ]
  },
  {
   "cell_type": "code",
   "execution_count": 842,
   "id": "de365a83-8e28-4f7e-8e90-137be53d1197",
   "metadata": {
    "tags": []
   },
   "outputs": [],
   "source": [
    "df.to_csv(\"movie_recom_pandas.csv\", index=False)"
   ]
  },
  {
   "cell_type": "code",
   "execution_count": 35,
   "id": "1beadc9f-371a-49a3-9102-6fa8fed29be0",
   "metadata": {
    "tags": []
   },
   "outputs": [
    {
     "data": {
      "text/html": [
       "<div>\n",
       "<style scoped>\n",
       "    .dataframe tbody tr th:only-of-type {\n",
       "        vertical-align: middle;\n",
       "    }\n",
       "\n",
       "    .dataframe tbody tr th {\n",
       "        vertical-align: top;\n",
       "    }\n",
       "\n",
       "    .dataframe thead th {\n",
       "        text-align: right;\n",
       "    }\n",
       "</style>\n",
       "<table border=\"1\" class=\"dataframe\">\n",
       "  <thead>\n",
       "    <tr style=\"text-align: right;\">\n",
       "      <th></th>\n",
       "      <th>Rating</th>\n",
       "      <th>Movie_Id</th>\n",
       "      <th>Year</th>\n",
       "    </tr>\n",
       "  </thead>\n",
       "  <tbody>\n",
       "    <tr>\n",
       "      <th>count</th>\n",
       "      <td>9.876119e+07</td>\n",
       "      <td>9.876119e+07</td>\n",
       "      <td>9.876119e+07</td>\n",
       "    </tr>\n",
       "    <tr>\n",
       "      <th>mean</th>\n",
       "      <td>3.610411e+00</td>\n",
       "      <td>2.216522e+03</td>\n",
       "      <td>1.990519e+03</td>\n",
       "    </tr>\n",
       "    <tr>\n",
       "      <th>std</th>\n",
       "      <td>1.081735e+00</td>\n",
       "      <td>1.269288e+03</td>\n",
       "      <td>1.663832e+01</td>\n",
       "    </tr>\n",
       "    <tr>\n",
       "      <th>min</th>\n",
       "      <td>1.000000e+00</td>\n",
       "      <td>3.000000e+00</td>\n",
       "      <td>1.915000e+03</td>\n",
       "    </tr>\n",
       "    <tr>\n",
       "      <th>25%</th>\n",
       "      <td>3.000000e+00</td>\n",
       "      <td>1.149000e+03</td>\n",
       "      <td>1.994000e+03</td>\n",
       "    </tr>\n",
       "    <tr>\n",
       "      <th>50%</th>\n",
       "      <td>4.000000e+00</td>\n",
       "      <td>2.193000e+03</td>\n",
       "      <td>2.000000e+03</td>\n",
       "    </tr>\n",
       "    <tr>\n",
       "      <th>75%</th>\n",
       "      <td>5.000000e+00</td>\n",
       "      <td>3.329000e+03</td>\n",
       "      <td>2.003000e+03</td>\n",
       "    </tr>\n",
       "    <tr>\n",
       "      <th>max</th>\n",
       "      <td>5.000000e+00</td>\n",
       "      <td>4.709000e+03</td>\n",
       "      <td>2.005000e+03</td>\n",
       "    </tr>\n",
       "  </tbody>\n",
       "</table>\n",
       "</div>"
      ],
      "text/plain": [
       "             Rating      Movie_Id          Year\n",
       "count  9.876119e+07  9.876119e+07  9.876119e+07\n",
       "mean   3.610411e+00  2.216522e+03  1.990519e+03\n",
       "std    1.081735e+00  1.269288e+03  1.663832e+01\n",
       "min    1.000000e+00  3.000000e+00  1.915000e+03\n",
       "25%    3.000000e+00  1.149000e+03  1.994000e+03\n",
       "50%    4.000000e+00  2.193000e+03  2.000000e+03\n",
       "75%    5.000000e+00  3.329000e+03  2.003000e+03\n",
       "max    5.000000e+00  4.709000e+03  2.005000e+03"
      ]
     },
     "execution_count": 35,
     "metadata": {},
     "output_type": "execute_result"
    }
   ],
   "source": [
    "df_combine_describe = df_combined.describe().compute()\n",
    "df_combine_describe"
   ]
  },
  {
   "cell_type": "code",
   "execution_count": 81,
   "id": "f258c000-a623-4614-a632-ca4505067092",
   "metadata": {
    "tags": []
   },
   "outputs": [],
   "source": [
    "#distribution des notes\n",
    "rating_counts = df_combined['Rating'].value_counts().compute()\n",
    "rating_counts_df = rating_counts.reset_index()\n",
    "rating_counts_df.columns = ['Rating', 'Count']\n",
    "# Calculer les pourcentages\n",
    "total_count = rating_counts_df['Count'].sum()\n",
    "rating_counts_df['Percentage'] = (rating_counts_df['Count'] / total_count) * 100\n",
    "# Trier les valeurs pour que les barres correspondent\n",
    "rating_counts_df = rating_counts_df.sort_values('Rating')"
   ]
  },
  {
   "cell_type": "code",
   "execution_count": 79,
   "id": "41c4035a-27fe-440a-ad4d-4c61256e3262",
   "metadata": {
    "tags": []
   },
   "outputs": [
    {
     "data": {
      "image/png": "[encoded data removed]",
      "text/plain": [
       "<Figure size 1000x600 with 1 Axes>"
      ]
     },
     "metadata": {},
     "output_type": "display_data"
    }
   ],
   "source": [
    "# Tracer un barplot avec les données agrégées\n",
    "plt.figure(figsize=(10, 6))\n",
    "barplot = sns.barplot(data=rating_counts_df, x='Rating', y='Count')\n",
    "\n",
    "# Ajouter les pourcentages sur chaque barre\n",
    "for index, row in rating_counts_df.iterrows():\n",
    "    bar = barplot.patches[index]\n",
    "    barplot.text(bar.get_x() + bar.get_width() / 2, bar.get_height(),\n",
    "        f\"{row['Percentage']:.2f}%\",\n",
    "        color='black',\n",
    "        ha=\"center\",\n",
    "        va=\"bottom\"\n",
    "    )\n"
   ]
  },
  {
   "cell_type": "code",
   "execution_count": 477,
   "id": "3590c730-e19d-4a89-8107-25ce2ff0f0c2",
   "metadata": {
    "tags": []
   },
   "outputs": [
    {
     "data": {
      "text/plain": [
       "Title\n",
       "Damn the Defiant                                 4.645549\n",
       "Night of the Hunted                              4.568930\n",
       "Tank Girl                                        4.548398\n",
       "Irreversible                                     4.531854\n",
       "Dirty Tiger                                      4.500427\n",
       "Boys Life 4: Four Play                           4.488026\n",
       "Tales of Terror                                  4.484326\n",
       "The Simpsons: Season 6                           4.483073\n",
       "Walt Disney's Timeless Tales: Vol. 2             4.462211\n",
       "Lord of the Rings: The Fellowship of the Ring    4.442368\n",
       "Name: Rating, dtype: float64"
      ]
     },
     "execution_count": 477,
     "metadata": {},
     "output_type": "execute_result"
    }
   ],
   "source": [
    "top_movies = df_combined.groupby('Title')['Rating'].mean().nlargest(10).compute()\n",
    "top_movies"
   ]
  },
  {
   "cell_type": "code",
   "execution_count": 481,
   "id": "2a0c430d-bc6c-420b-939b-aeeb5678d028",
   "metadata": {
    "tags": []
   },
   "outputs": [
    {
     "data": {
      "text/plain": [
       "Title\n",
       "Logan's Run                    304284\n",
       "Cadfael: The Potter's Field    257782\n",
       "Braveheart                     232480\n",
       "The Testament of Dr. Mabuse    223819\n",
       "The Lord of the Rings          222497\n",
       "Kickboxer                      215799\n",
       "The Toy                        215000\n",
       "Sex and the Teenage Mind       207776\n",
       "Two's Company: Series 1        205831\n",
       "About Schmidt                  202132\n",
       "Name: Rating, dtype: int64"
      ]
     },
     "execution_count": 481,
     "metadata": {},
     "output_type": "execute_result"
    }
   ],
   "source": [
    "ratings_count = df_combined.groupby('Title')['Rating'].count().nlargest(10).compute()\n",
    "ratings_count"
   ]
  },
  {
   "cell_type": "markdown",
   "id": "4660d535-a2f1-4041-815b-b2294f75aec7",
   "metadata": {},
   "source": [
    "## Recommendation : search for similarity"
   ]
  },
  {
   "cell_type": "code",
   "execution_count": 807,
   "id": "5c686fe5-0d4e-4a3a-ace0-ccc2a84fde16",
   "metadata": {
    "tags": []
   },
   "outputs": [],
   "source": [
    "def recommend_movies(user_preferences, df):\n",
    "    # fetch user input\n",
    "    favorite_genre = user_preferences['favorite_genres']\n",
    "    likes_old_movies = user_preferences['likes_old_movies']\n",
    "    available_time = user_preferences['preferred_duration']\n",
    "    \n",
    "    # filter genre\n",
    "    genre_filter = df['first_genre'].isin(favorite_genre) | df['second_genre'].isin(favorite_genre)\n",
    "    recommended_movies = df[genre_filter]\n",
    "    \n",
    "    # filter date release\n",
    "    if likes_old_movies == 'avant 2000': \n",
    "        recommended_movies = recommended_movies[recommended_movies['release_year'] < 2000]\n",
    "    elif likes_old_movies == 'apres 2000': \n",
    "        recommended_movies = recommended_movies[recommended_movies['release_year'] >= 2000]\n",
    "        \n",
    "    # filter available time\n",
    "    if available_time == '60-90' :\n",
    "        recommended_movies = recommended_movies[recommended_movies['runtime'] <= 90]\n",
    "    elif available_time == '90-120':\n",
    "        recommended_movies = recommended_movies[(recommended_movies['runtime'] > 90) & (recommended_movies['runtime'] <= 120)]\n",
    "    else:\n",
    "        recommended_movies = recommended_movies[recommended_movies['runtime'] > 120]\n",
    "        \n",
    "    # si aucun film trouvé : film similaire\n",
    "    if recommended_movies.empty:\n",
    "        print(\"recherche de film similaire\")\n",
    "        \n",
    "    return recommended_movies"
   ]
  },
  {
   "cell_type": "code",
   "execution_count": 813,
   "id": "41639385-caa5-4700-bc08-82c8e62f5bae",
   "metadata": {
    "tags": []
   },
   "outputs": [],
   "source": [
    "# Exemple de préférences utilisateur\n",
    "user_preferences = {\n",
    "    'favorite_genres': ['action'],\n",
    "    'likes_old_movies': 'indifferent',\n",
    "    'preferred_duration': '90-120'\n",
    "}"
   ]
  },
  {
   "cell_type": "code",
   "execution_count": 815,
   "id": "42edccb4-60db-41aa-ae2b-dd0e6a29a6f4",
   "metadata": {
    "tags": []
   },
   "outputs": [],
   "source": [
    "recommended_movies = recommend_movies(user_preferences, df)"
   ]
  },
  {
   "cell_type": "code",
   "execution_count": 817,
   "id": "d2f8fcbe-e0ab-4708-88a7-218ae387da6c",
   "metadata": {
    "tags": []
   },
   "outputs": [
    {
     "data": {
      "text/html": [
       "<div>\n",
       "<style scoped>\n",
       "    .dataframe tbody tr th:only-of-type {\n",
       "        vertical-align: middle;\n",
       "    }\n",
       "\n",
       "    .dataframe tbody tr th {\n",
       "        vertical-align: top;\n",
       "    }\n",
       "\n",
       "    .dataframe thead th {\n",
       "        text-align: right;\n",
       "    }\n",
       "</style>\n",
       "<table border=\"1\" class=\"dataframe\">\n",
       "  <thead>\n",
       "    <tr style=\"text-align: right;\">\n",
       "      <th></th>\n",
       "      <th>id</th>\n",
       "      <th>title</th>\n",
       "      <th>description</th>\n",
       "      <th>release_year</th>\n",
       "      <th>runtime</th>\n",
       "      <th>imdb_score</th>\n",
       "      <th>imdb_votes</th>\n",
       "      <th>tmdb_popularity</th>\n",
       "      <th>tmdb_score</th>\n",
       "      <th>first_genre</th>\n",
       "      <th>second_genre</th>\n",
       "      <th>country</th>\n",
       "    </tr>\n",
       "  </thead>\n",
       "  <tbody>\n",
       "    <tr>\n",
       "      <th>1</th>\n",
       "      <td>tm154986</td>\n",
       "      <td>Deliverance</td>\n",
       "      <td>Intent on seeing the Cahulawassee River before...</td>\n",
       "      <td>1972</td>\n",
       "      <td>109</td>\n",
       "      <td>7.7</td>\n",
       "      <td>107673.0</td>\n",
       "      <td>10.010</td>\n",
       "      <td>7.300</td>\n",
       "      <td>drama</td>\n",
       "      <td>action</td>\n",
       "      <td>US</td>\n",
       "    </tr>\n",
       "    <tr>\n",
       "      <th>2</th>\n",
       "      <td>tm127384</td>\n",
       "      <td>Monty Python and the Holy Grail</td>\n",
       "      <td>King Arthur, accompanied by his squire, recrui...</td>\n",
       "      <td>1975</td>\n",
       "      <td>91</td>\n",
       "      <td>8.2</td>\n",
       "      <td>534486.0</td>\n",
       "      <td>15.461</td>\n",
       "      <td>7.811</td>\n",
       "      <td>fantasy</td>\n",
       "      <td>action</td>\n",
       "      <td>GB</td>\n",
       "    </tr>\n",
       "    <tr>\n",
       "      <th>5</th>\n",
       "      <td>tm14873</td>\n",
       "      <td>Dirty Harry</td>\n",
       "      <td>When a madman dubbed 'Scorpio' terrorizes San ...</td>\n",
       "      <td>1971</td>\n",
       "      <td>102</td>\n",
       "      <td>7.7</td>\n",
       "      <td>155051.0</td>\n",
       "      <td>12.817</td>\n",
       "      <td>7.500</td>\n",
       "      <td>thriller</td>\n",
       "      <td>action</td>\n",
       "      <td>US</td>\n",
       "    </tr>\n",
       "    <tr>\n",
       "      <th>7</th>\n",
       "      <td>tm98978</td>\n",
       "      <td>The Blue Lagoon</td>\n",
       "      <td>Two small children and a ship's cook survive a...</td>\n",
       "      <td>1980</td>\n",
       "      <td>104</td>\n",
       "      <td>5.8</td>\n",
       "      <td>69844.0</td>\n",
       "      <td>50.324</td>\n",
       "      <td>6.156</td>\n",
       "      <td>romance</td>\n",
       "      <td>action</td>\n",
       "      <td>US</td>\n",
       "    </tr>\n",
       "    <tr>\n",
       "      <th>9</th>\n",
       "      <td>tm67378</td>\n",
       "      <td>The Professionals</td>\n",
       "      <td>An arrogant Texas millionaire hires four adven...</td>\n",
       "      <td>1966</td>\n",
       "      <td>117</td>\n",
       "      <td>7.3</td>\n",
       "      <td>16446.0</td>\n",
       "      <td>13.123</td>\n",
       "      <td>7.100</td>\n",
       "      <td>western</td>\n",
       "      <td>action</td>\n",
       "      <td>US</td>\n",
       "    </tr>\n",
       "    <tr>\n",
       "      <th>...</th>\n",
       "      <td>...</td>\n",
       "      <td>...</td>\n",
       "      <td>...</td>\n",
       "      <td>...</td>\n",
       "      <td>...</td>\n",
       "      <td>...</td>\n",
       "      <td>...</td>\n",
       "      <td>...</td>\n",
       "      <td>...</td>\n",
       "      <td>...</td>\n",
       "      <td>...</td>\n",
       "      <td>...</td>\n",
       "    </tr>\n",
       "    <tr>\n",
       "      <th>3553</th>\n",
       "      <td>tm1000296</td>\n",
       "      <td>New Gods: Nezha Reborn</td>\n",
       "      <td>Three thousand years ago, the world was in tur...</td>\n",
       "      <td>2021</td>\n",
       "      <td>116</td>\n",
       "      <td>6.8</td>\n",
       "      <td>3150.0</td>\n",
       "      <td>3.078</td>\n",
       "      <td>8.200</td>\n",
       "      <td>animation</td>\n",
       "      <td>action</td>\n",
       "      <td>CN</td>\n",
       "    </tr>\n",
       "    <tr>\n",
       "      <th>3635</th>\n",
       "      <td>tm1068632</td>\n",
       "      <td>Bartkowiak</td>\n",
       "      <td>After his brother dies in a car crash, a disgr...</td>\n",
       "      <td>2021</td>\n",
       "      <td>91</td>\n",
       "      <td>5.1</td>\n",
       "      <td>1205.0</td>\n",
       "      <td>62.624</td>\n",
       "      <td>6.200</td>\n",
       "      <td>action</td>\n",
       "      <td>thriller</td>\n",
       "      <td>PL</td>\n",
       "    </tr>\n",
       "    <tr>\n",
       "      <th>3642</th>\n",
       "      <td>tm996996</td>\n",
       "      <td>The Misadventures of Hedi and Cokeman</td>\n",
       "      <td>In Paris, two dysfunctional dealers use family...</td>\n",
       "      <td>2021</td>\n",
       "      <td>99</td>\n",
       "      <td>4.4</td>\n",
       "      <td>641.0</td>\n",
       "      <td>19.908</td>\n",
       "      <td>4.400</td>\n",
       "      <td>action</td>\n",
       "      <td>crime</td>\n",
       "      <td>FR</td>\n",
       "    </tr>\n",
       "    <tr>\n",
       "      <th>3678</th>\n",
       "      <td>tm1098060</td>\n",
       "      <td>Shadow Parties</td>\n",
       "      <td>A family faces destruction in a long-running c...</td>\n",
       "      <td>2021</td>\n",
       "      <td>116</td>\n",
       "      <td>6.2</td>\n",
       "      <td>9.0</td>\n",
       "      <td>1.286</td>\n",
       "      <td>6.200</td>\n",
       "      <td>action</td>\n",
       "      <td>drama</td>\n",
       "      <td>NG</td>\n",
       "    </tr>\n",
       "    <tr>\n",
       "      <th>3697</th>\n",
       "      <td>tm986017</td>\n",
       "      <td>Gatao: The Last Stray</td>\n",
       "      <td>A Qing encounters the photographer Xiao Qi at ...</td>\n",
       "      <td>2021</td>\n",
       "      <td>120</td>\n",
       "      <td>5.9</td>\n",
       "      <td>266.0</td>\n",
       "      <td>3.141</td>\n",
       "      <td>4.900</td>\n",
       "      <td>action</td>\n",
       "      <td>crime</td>\n",
       "      <td>TW</td>\n",
       "    </tr>\n",
       "  </tbody>\n",
       "</table>\n",
       "<p>227 rows × 12 columns</p>\n",
       "</div>"
      ],
      "text/plain": [
       "             id                                  title  \\\n",
       "1      tm154986                            Deliverance   \n",
       "2      tm127384        Monty Python and the Holy Grail   \n",
       "5       tm14873                            Dirty Harry   \n",
       "7       tm98978                        The Blue Lagoon   \n",
       "9       tm67378                      The Professionals   \n",
       "...         ...                                    ...   \n",
       "3553  tm1000296                 New Gods: Nezha Reborn   \n",
       "3635  tm1068632                             Bartkowiak   \n",
       "3642   tm996996  The Misadventures of Hedi and Cokeman   \n",
       "3678  tm1098060                         Shadow Parties   \n",
       "3697   tm986017                  Gatao: The Last Stray   \n",
       "\n",
       "                                            description  release_year  \\\n",
       "1     Intent on seeing the Cahulawassee River before...          1972   \n",
       "2     King Arthur, accompanied by his squire, recrui...          1975   \n",
       "5     When a madman dubbed 'Scorpio' terrorizes San ...          1971   \n",
       "7     Two small children and a ship's cook survive a...          1980   \n",
       "9     An arrogant Texas millionaire hires four adven...          1966   \n",
       "...                                                 ...           ...   \n",
       "3553  Three thousand years ago, the world was in tur...          2021   \n",
       "3635  After his brother dies in a car crash, a disgr...          2021   \n",
       "3642  In Paris, two dysfunctional dealers use family...          2021   \n",
       "3678  A family faces destruction in a long-running c...          2021   \n",
       "3697  A Qing encounters the photographer Xiao Qi at ...          2021   \n",
       "\n",
       "      runtime  imdb_score  imdb_votes  tmdb_popularity  tmdb_score  \\\n",
       "1         109         7.7    107673.0           10.010       7.300   \n",
       "2          91         8.2    534486.0           15.461       7.811   \n",
       "5         102         7.7    155051.0           12.817       7.500   \n",
       "7         104         5.8     69844.0           50.324       6.156   \n",
       "9         117         7.3     16446.0           13.123       7.100   \n",
       "...       ...         ...         ...              ...         ...   \n",
       "3553      116         6.8      3150.0            3.078       8.200   \n",
       "3635       91         5.1      1205.0           62.624       6.200   \n",
       "3642       99         4.4       641.0           19.908       4.400   \n",
       "3678      116         6.2         9.0            1.286       6.200   \n",
       "3697      120         5.9       266.0            3.141       4.900   \n",
       "\n",
       "     first_genre second_genre country  \n",
       "1          drama       action      US  \n",
       "2        fantasy       action      GB  \n",
       "5       thriller       action      US  \n",
       "7        romance       action      US  \n",
       "9        western       action      US  \n",
       "...          ...          ...     ...  \n",
       "3553   animation       action      CN  \n",
       "3635      action     thriller      PL  \n",
       "3642      action        crime      FR  \n",
       "3678      action        drama      NG  \n",
       "3697      action        crime      TW  \n",
       "\n",
       "[227 rows x 12 columns]"
      ]
     },
     "execution_count": 817,
     "metadata": {},
     "output_type": "execute_result"
    }
   ],
   "source": [
    "recommended_movies"
   ]
  }
 ],
 "metadata": {
  "kernelspec": {
   "display_name": "Python 3 (ipykernel)",
   "language": "python",
   "name": "python3"
  },
  "language_info": {
   "codemirror_mode": {
    "name": "ipython",
    "version": 3
   },
   "file_extension": ".py",
   "mimetype": "text/x-python",
   "name": "python",
   "nbconvert_exporter": "python",
   "pygments_lexer": "ipython3",
   "version": "3.11.7"
  }
 },
 "nbformat": 4,
 "nbformat_minor": 5
}
