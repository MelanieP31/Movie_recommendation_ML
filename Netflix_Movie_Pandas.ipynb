{
 "cells": [
  {
   "cell_type": "markdown",
   "id": "5d5aeb35-bf23-4042-9f76-90662c5b1aee",
   "metadata": {
    "tags": []
   },
   "source": [
    "# Movie Recommendation Systeme"
   ]
  },
  {
   "cell_type": "markdown",
   "id": "9d83cf1f-bb6e-44f7-b45d-437e90d5b74a",
   "metadata": {},
   "source": [
    "This project aims to develop a movie recommendation system using a dataset of Netflix movies.  \n",
    "Source : https://www.kaggle.com/datasets/victorsoeiro/netflix-tv-shows-and-movies?select=titles.csv , Data collected from JustWatch.   \n",
    "The data includes various features such as titles, genres, release years, and user ratings.   \n",
    "\n",
    "The goal is to clean and preprocess the data, handle missing values, and build a recommendation engine that can suggest movies based on user preferences.   \n",
    "\n",
    "1. Data Loading and Preparation : Loading the dataset, filtering for movies, and drop unnecessary columns.  \n",
    "2. Data Transformation: Extracting genres and main production countries from the data.  \n",
    "3. Handling Missing Values: Identifying and filling missing values using techniques such as imputation and prediction.  \n",
    "4. Feature Engineering: Creating additional features like normalized scores and weighted ratings.  \n",
    "5. Keyword Extraction: Extracting keywords from movie titles and descriptions using the YAKE algorithm.  \n",
    "6. Visualization: Visualizing the distribution of movie ratings.  \n",
    "7. Recommendation System: Implementing a recommendation system using content-based filtering and machine learning algorithms.  \n",
    "\n",
    "Methods and Algorithms Used:\n",
    "* Data Cleaning and Preprocessing  \n",
    "* Feature Engineering\n",
    "* Missing Value Imputation using Random Forest Regressor\n",
    "* Keyword Extraction using YAKE (Yet Another Keyword Extractor)\n",
    "* Data Visualization with Matplotlib and Seaborn\n",
    "* Content-Based Filtering for Recommendations\n",
    "* Nearest Neighbors Algorithm for Finding Similar Movies"
   ]
  },
  {
   "cell_type": "code",
   "execution_count": 3,
   "id": "457172bc-1edd-470c-8b7d-b6b6968d5b83",
   "metadata": {},
   "outputs": [],
   "source": [
    "#pip install git+https://github.com/LIAAD/yake"
   ]
  },
  {
   "cell_type": "code",
   "execution_count": 4,
   "id": "5e93e38f-efcb-4331-820e-95ede58867ab",
   "metadata": {
    "tags": []
   },
   "outputs": [],
   "source": [
    "# Import necessary libraries\n",
    "import numpy as np\n",
    "import pandas as pd\n",
    "import matplotlib.pyplot as plt\n",
    "import seaborn as sns\n",
    "import ast\n",
    "from sklearn.model_selection import train_test_split, GridSearchCV\n",
    "from sklearn.neighbors import KNeighborsRegressor\n",
    "from sklearn.neighbors import NearestNeighbors\n",
    "from sklearn.metrics import confusion_matrix, classification_report\n",
    "from sklearn.ensemble import RandomForestRegressor\n",
    "import yake"
   ]
  },
  {
   "cell_type": "markdown",
   "id": "b73d9581-5422-47ef-adaf-8f10409d29a4",
   "metadata": {
    "jp-MarkdownHeadingCollapsed": true,
    "tags": []
   },
   "source": [
    "## Section 1 : Data Loading and Preparation"
   ]
  },
  {
   "cell_type": "code",
   "execution_count": 6,
   "id": "cb5d019a-7ed7-47e6-9d8f-c7f38af6e627",
   "metadata": {
    "tags": []
   },
   "outputs": [],
   "source": [
    "# Loading Data\n",
    "df = pd.read_csv('input/titles.csv')"
   ]
  },
  {
   "cell_type": "code",
   "execution_count": 7,
   "id": "e0eac2bf-2130-4275-b8d9-bbc7d118fbe0",
   "metadata": {
    "tags": []
   },
   "outputs": [
    {
     "data": {
      "text/html": [
       "<div>\n",
       "<style scoped>\n",
       "    .dataframe tbody tr th:only-of-type {\n",
       "        vertical-align: middle;\n",
       "    }\n",
       "\n",
       "    .dataframe tbody tr th {\n",
       "        vertical-align: top;\n",
       "    }\n",
       "\n",
       "    .dataframe thead th {\n",
       "        text-align: right;\n",
       "    }\n",
       "</style>\n",
       "<table border=\"1\" class=\"dataframe\">\n",
       "  <thead>\n",
       "    <tr style=\"text-align: right;\">\n",
       "      <th></th>\n",
       "      <th>id</th>\n",
       "      <th>title</th>\n",
       "      <th>type</th>\n",
       "      <th>description</th>\n",
       "      <th>release_year</th>\n",
       "      <th>age_certification</th>\n",
       "      <th>runtime</th>\n",
       "      <th>genres</th>\n",
       "      <th>production_countries</th>\n",
       "      <th>seasons</th>\n",
       "      <th>imdb_id</th>\n",
       "      <th>imdb_score</th>\n",
       "      <th>imdb_votes</th>\n",
       "      <th>tmdb_popularity</th>\n",
       "      <th>tmdb_score</th>\n",
       "    </tr>\n",
       "  </thead>\n",
       "  <tbody>\n",
       "    <tr>\n",
       "      <th>0</th>\n",
       "      <td>ts300399</td>\n",
       "      <td>Five Came Back: The Reference Films</td>\n",
       "      <td>SHOW</td>\n",
       "      <td>This collection includes 12 World War II-era p...</td>\n",
       "      <td>1945</td>\n",
       "      <td>TV-MA</td>\n",
       "      <td>51</td>\n",
       "      <td>['documentation']</td>\n",
       "      <td>['US']</td>\n",
       "      <td>1.0</td>\n",
       "      <td>NaN</td>\n",
       "      <td>NaN</td>\n",
       "      <td>NaN</td>\n",
       "      <td>0.600</td>\n",
       "      <td>NaN</td>\n",
       "    </tr>\n",
       "    <tr>\n",
       "      <th>1</th>\n",
       "      <td>tm84618</td>\n",
       "      <td>Taxi Driver</td>\n",
       "      <td>MOVIE</td>\n",
       "      <td>A mentally unstable Vietnam War veteran works ...</td>\n",
       "      <td>1976</td>\n",
       "      <td>R</td>\n",
       "      <td>114</td>\n",
       "      <td>['drama', 'crime']</td>\n",
       "      <td>['US']</td>\n",
       "      <td>NaN</td>\n",
       "      <td>tt0075314</td>\n",
       "      <td>8.2</td>\n",
       "      <td>808582.0</td>\n",
       "      <td>40.965</td>\n",
       "      <td>8.179</td>\n",
       "    </tr>\n",
       "    <tr>\n",
       "      <th>2</th>\n",
       "      <td>tm154986</td>\n",
       "      <td>Deliverance</td>\n",
       "      <td>MOVIE</td>\n",
       "      <td>Intent on seeing the Cahulawassee River before...</td>\n",
       "      <td>1972</td>\n",
       "      <td>R</td>\n",
       "      <td>109</td>\n",
       "      <td>['drama', 'action', 'thriller', 'european']</td>\n",
       "      <td>['US']</td>\n",
       "      <td>NaN</td>\n",
       "      <td>tt0068473</td>\n",
       "      <td>7.7</td>\n",
       "      <td>107673.0</td>\n",
       "      <td>10.010</td>\n",
       "      <td>7.300</td>\n",
       "    </tr>\n",
       "    <tr>\n",
       "      <th>3</th>\n",
       "      <td>tm127384</td>\n",
       "      <td>Monty Python and the Holy Grail</td>\n",
       "      <td>MOVIE</td>\n",
       "      <td>King Arthur, accompanied by his squire, recrui...</td>\n",
       "      <td>1975</td>\n",
       "      <td>PG</td>\n",
       "      <td>91</td>\n",
       "      <td>['fantasy', 'action', 'comedy']</td>\n",
       "      <td>['GB']</td>\n",
       "      <td>NaN</td>\n",
       "      <td>tt0071853</td>\n",
       "      <td>8.2</td>\n",
       "      <td>534486.0</td>\n",
       "      <td>15.461</td>\n",
       "      <td>7.811</td>\n",
       "    </tr>\n",
       "    <tr>\n",
       "      <th>4</th>\n",
       "      <td>tm120801</td>\n",
       "      <td>The Dirty Dozen</td>\n",
       "      <td>MOVIE</td>\n",
       "      <td>12 American military prisoners in World War II...</td>\n",
       "      <td>1967</td>\n",
       "      <td>NaN</td>\n",
       "      <td>150</td>\n",
       "      <td>['war', 'action']</td>\n",
       "      <td>['GB', 'US']</td>\n",
       "      <td>NaN</td>\n",
       "      <td>tt0061578</td>\n",
       "      <td>7.7</td>\n",
       "      <td>72662.0</td>\n",
       "      <td>20.398</td>\n",
       "      <td>7.600</td>\n",
       "    </tr>\n",
       "  </tbody>\n",
       "</table>\n",
       "</div>"
      ],
      "text/plain": [
       "         id                                title   type  \\\n",
       "0  ts300399  Five Came Back: The Reference Films   SHOW   \n",
       "1   tm84618                          Taxi Driver  MOVIE   \n",
       "2  tm154986                          Deliverance  MOVIE   \n",
       "3  tm127384      Monty Python and the Holy Grail  MOVIE   \n",
       "4  tm120801                      The Dirty Dozen  MOVIE   \n",
       "\n",
       "                                         description  release_year  \\\n",
       "0  This collection includes 12 World War II-era p...          1945   \n",
       "1  A mentally unstable Vietnam War veteran works ...          1976   \n",
       "2  Intent on seeing the Cahulawassee River before...          1972   \n",
       "3  King Arthur, accompanied by his squire, recrui...          1975   \n",
       "4  12 American military prisoners in World War II...          1967   \n",
       "\n",
       "  age_certification  runtime                                       genres  \\\n",
       "0             TV-MA       51                            ['documentation']   \n",
       "1                 R      114                           ['drama', 'crime']   \n",
       "2                 R      109  ['drama', 'action', 'thriller', 'european']   \n",
       "3                PG       91              ['fantasy', 'action', 'comedy']   \n",
       "4               NaN      150                            ['war', 'action']   \n",
       "\n",
       "  production_countries  seasons    imdb_id  imdb_score  imdb_votes  \\\n",
       "0               ['US']      1.0        NaN         NaN         NaN   \n",
       "1               ['US']      NaN  tt0075314         8.2    808582.0   \n",
       "2               ['US']      NaN  tt0068473         7.7    107673.0   \n",
       "3               ['GB']      NaN  tt0071853         8.2    534486.0   \n",
       "4         ['GB', 'US']      NaN  tt0061578         7.7     72662.0   \n",
       "\n",
       "   tmdb_popularity  tmdb_score  \n",
       "0            0.600         NaN  \n",
       "1           40.965       8.179  \n",
       "2           10.010       7.300  \n",
       "3           15.461       7.811  \n",
       "4           20.398       7.600  "
      ]
     },
     "execution_count": 7,
     "metadata": {},
     "output_type": "execute_result"
    }
   ],
   "source": [
    "df.head(5)"
   ]
  },
  {
   "cell_type": "code",
   "execution_count": 8,
   "id": "454861c4-2561-49e5-b4f0-860d814d990a",
   "metadata": {
    "tags": []
   },
   "outputs": [
    {
     "data": {
      "text/plain": [
       "5850"
      ]
     },
     "execution_count": 8,
     "metadata": {},
     "output_type": "execute_result"
    }
   ],
   "source": [
    "len(df)"
   ]
  },
  {
   "cell_type": "code",
   "execution_count": 9,
   "id": "f8286849-b233-407f-b6f7-2244243d2dc7",
   "metadata": {
    "tags": []
   },
   "outputs": [],
   "source": [
    "# Filtering Movies and Dropping Unnecessary Columns\n",
    "df = df[df['type']=='MOVIE'].drop(['type','seasons','age_certification','imdb_id'], axis=1).reset_index(drop=True)"
   ]
  },
  {
   "cell_type": "code",
   "execution_count": 10,
   "id": "53c11034-18b7-4aad-9115-ae83d1292ae2",
   "metadata": {
    "tags": []
   },
   "outputs": [
    {
     "data": {
      "text/html": [
       "<div>\n",
       "<style scoped>\n",
       "    .dataframe tbody tr th:only-of-type {\n",
       "        vertical-align: middle;\n",
       "    }\n",
       "\n",
       "    .dataframe tbody tr th {\n",
       "        vertical-align: top;\n",
       "    }\n",
       "\n",
       "    .dataframe thead th {\n",
       "        text-align: right;\n",
       "    }\n",
       "</style>\n",
       "<table border=\"1\" class=\"dataframe\">\n",
       "  <thead>\n",
       "    <tr style=\"text-align: right;\">\n",
       "      <th></th>\n",
       "      <th>id</th>\n",
       "      <th>title</th>\n",
       "      <th>description</th>\n",
       "      <th>release_year</th>\n",
       "      <th>runtime</th>\n",
       "      <th>genres</th>\n",
       "      <th>production_countries</th>\n",
       "      <th>imdb_score</th>\n",
       "      <th>imdb_votes</th>\n",
       "      <th>tmdb_popularity</th>\n",
       "      <th>tmdb_score</th>\n",
       "    </tr>\n",
       "  </thead>\n",
       "  <tbody>\n",
       "    <tr>\n",
       "      <th>0</th>\n",
       "      <td>tm84618</td>\n",
       "      <td>Taxi Driver</td>\n",
       "      <td>A mentally unstable Vietnam War veteran works ...</td>\n",
       "      <td>1976</td>\n",
       "      <td>114</td>\n",
       "      <td>['drama', 'crime']</td>\n",
       "      <td>['US']</td>\n",
       "      <td>8.2</td>\n",
       "      <td>808582.0</td>\n",
       "      <td>40.965</td>\n",
       "      <td>8.179</td>\n",
       "    </tr>\n",
       "    <tr>\n",
       "      <th>1</th>\n",
       "      <td>tm154986</td>\n",
       "      <td>Deliverance</td>\n",
       "      <td>Intent on seeing the Cahulawassee River before...</td>\n",
       "      <td>1972</td>\n",
       "      <td>109</td>\n",
       "      <td>['drama', 'action', 'thriller', 'european']</td>\n",
       "      <td>['US']</td>\n",
       "      <td>7.7</td>\n",
       "      <td>107673.0</td>\n",
       "      <td>10.010</td>\n",
       "      <td>7.300</td>\n",
       "    </tr>\n",
       "    <tr>\n",
       "      <th>2</th>\n",
       "      <td>tm127384</td>\n",
       "      <td>Monty Python and the Holy Grail</td>\n",
       "      <td>King Arthur, accompanied by his squire, recrui...</td>\n",
       "      <td>1975</td>\n",
       "      <td>91</td>\n",
       "      <td>['fantasy', 'action', 'comedy']</td>\n",
       "      <td>['GB']</td>\n",
       "      <td>8.2</td>\n",
       "      <td>534486.0</td>\n",
       "      <td>15.461</td>\n",
       "      <td>7.811</td>\n",
       "    </tr>\n",
       "  </tbody>\n",
       "</table>\n",
       "</div>"
      ],
      "text/plain": [
       "         id                            title  \\\n",
       "0   tm84618                      Taxi Driver   \n",
       "1  tm154986                      Deliverance   \n",
       "2  tm127384  Monty Python and the Holy Grail   \n",
       "\n",
       "                                         description  release_year  runtime  \\\n",
       "0  A mentally unstable Vietnam War veteran works ...          1976      114   \n",
       "1  Intent on seeing the Cahulawassee River before...          1972      109   \n",
       "2  King Arthur, accompanied by his squire, recrui...          1975       91   \n",
       "\n",
       "                                        genres production_countries  \\\n",
       "0                           ['drama', 'crime']               ['US']   \n",
       "1  ['drama', 'action', 'thriller', 'european']               ['US']   \n",
       "2              ['fantasy', 'action', 'comedy']               ['GB']   \n",
       "\n",
       "   imdb_score  imdb_votes  tmdb_popularity  tmdb_score  \n",
       "0         8.2    808582.0           40.965       8.179  \n",
       "1         7.7    107673.0           10.010       7.300  \n",
       "2         8.2    534486.0           15.461       7.811  "
      ]
     },
     "execution_count": 10,
     "metadata": {},
     "output_type": "execute_result"
    }
   ],
   "source": [
    "df.head(3)"
   ]
  },
  {
   "cell_type": "code",
   "execution_count": 11,
   "id": "2e58b33f-a7bf-431d-a435-39fd92b3cecf",
   "metadata": {
    "tags": []
   },
   "outputs": [
    {
     "data": {
      "text/plain": [
       "3744"
      ]
     },
     "execution_count": 11,
     "metadata": {},
     "output_type": "execute_result"
    }
   ],
   "source": [
    "len(df)"
   ]
  },
  {
   "cell_type": "markdown",
   "id": "8815b9ed-d69b-41b9-871d-71eaafe9ec29",
   "metadata": {
    "jp-MarkdownHeadingCollapsed": true,
    "tags": []
   },
   "source": [
    "## Section 2 : Data Transformation"
   ]
  },
  {
   "cell_type": "code",
   "execution_count": 13,
   "id": "b3af7993-1401-4916-950d-be62d127892b",
   "metadata": {
    "tags": []
   },
   "outputs": [],
   "source": [
    "# Extracting genres\n",
    "def extract_genres(genre_str):\n",
    "    genre_list = ast.literal_eval(genre_str)\n",
    "    first_genre = genre_list[0] if len(genre_list) > 0 else np.nan\n",
    "    second_genre = genre_list[1] if len(genre_list) > 1 else \"no_second-genre\"\n",
    "    return first_genre, second_genre"
   ]
  },
  {
   "cell_type": "code",
   "execution_count": 14,
   "id": "095787d1-4972-4431-a1c3-3d8c4ce8c849",
   "metadata": {
    "tags": []
   },
   "outputs": [],
   "source": [
    "df[['first_genre', 'second_genre']] = df['genres'].apply(lambda x: pd.Series(extract_genres(x)))"
   ]
  },
  {
   "cell_type": "code",
   "execution_count": 15,
   "id": "51290834-588c-44ec-a6db-6887658f8f4c",
   "metadata": {
    "tags": []
   },
   "outputs": [],
   "source": [
    "df = df.drop('genres', axis=1)"
   ]
  },
  {
   "cell_type": "code",
   "execution_count": 16,
   "id": "92c378d0-05bd-4dce-8965-9d49538889da",
   "metadata": {
    "tags": []
   },
   "outputs": [],
   "source": [
    "# Extracting main production country\n",
    "def extract_country(country_str):\n",
    "    country_list = ast.literal_eval(country_str)\n",
    "    country = country_list[0] if len(country_list) > 0 else np.nan\n",
    "    return country"
   ]
  },
  {
   "cell_type": "code",
   "execution_count": 17,
   "id": "ed302ef7-d6fc-4ebb-9d82-3b3a56604b5f",
   "metadata": {
    "tags": []
   },
   "outputs": [],
   "source": [
    "df[\"country\"] = df[\"production_countries\"].apply(extract_country)"
   ]
  },
  {
   "cell_type": "code",
   "execution_count": 18,
   "id": "9232e160-5847-49a9-b45b-8d806acffc41",
   "metadata": {
    "tags": []
   },
   "outputs": [],
   "source": [
    "df = df.drop('production_countries', axis=1)"
   ]
  },
  {
   "cell_type": "markdown",
   "id": "b9b7cd1e-e5b1-4ffb-b2e6-3c0ba0d75710",
   "metadata": {
    "jp-MarkdownHeadingCollapsed": true,
    "tags": []
   },
   "source": [
    "## Section 3 : Handling Missing values"
   ]
  },
  {
   "cell_type": "markdown",
   "id": "5916a8ce-ff14-49f0-83d8-d65c0be86bae",
   "metadata": {
    "jp-MarkdownHeadingCollapsed": true,
    "tags": []
   },
   "source": [
    "### Checking for Missing Values"
   ]
  },
  {
   "cell_type": "code",
   "execution_count": 21,
   "id": "a7eca4f8-ece3-4b1c-862d-7998409f12f2",
   "metadata": {
    "tags": []
   },
   "outputs": [],
   "source": [
    "def percent_missing(df):\n",
    "    per_nan = 100*df.isnull().sum() /len(df)\n",
    "    per_nan = per_nan[per_nan >0].sort_values()    \n",
    "    return per_nan"
   ]
  },
  {
   "cell_type": "code",
   "execution_count": 22,
   "id": "2471e1a8-381a-4b65-84a8-564e235c2788",
   "metadata": {
    "tags": []
   },
   "outputs": [
    {
     "data": {
      "text/plain": [
       "title              0.026709\n",
       "description        0.240385\n",
       "first_genre        0.908120\n",
       "tmdb_popularity    1.655983\n",
       "country            4.300214\n",
       "tmdb_score         5.208333\n",
       "imdb_score         8.413462\n",
       "imdb_votes         8.840812\n",
       "dtype: float64"
      ]
     },
     "execution_count": 22,
     "metadata": {},
     "output_type": "execute_result"
    }
   ],
   "source": [
    "percent_missing(df)"
   ]
  },
  {
   "cell_type": "markdown",
   "id": "ee77fa05-af13-4b82-bb66-1b8cb235b60b",
   "metadata": {},
   "source": [
    "### Dropping rows with Missing Titles and Descriptions"
   ]
  },
  {
   "cell_type": "code",
   "execution_count": 24,
   "id": "c11d300c-bc61-4443-81f7-a01e471e993d",
   "metadata": {
    "tags": []
   },
   "outputs": [],
   "source": [
    "df = df.dropna(subset=['title', 'description'])"
   ]
  },
  {
   "cell_type": "code",
   "execution_count": 25,
   "id": "774fe18f-6ace-47f2-a4ff-5819dc03bbc9",
   "metadata": {
    "tags": []
   },
   "outputs": [],
   "source": [
    "missing_value_line = df[df.isnull().sum(axis=1) >3]"
   ]
  },
  {
   "cell_type": "code",
   "execution_count": 26,
   "id": "5a8ddd29-1cf1-4116-aecf-7e2af1ed359e",
   "metadata": {
    "tags": []
   },
   "outputs": [],
   "source": [
    "df = df.drop(missing_value_line.index)"
   ]
  },
  {
   "cell_type": "code",
   "execution_count": 27,
   "id": "ad8c870b-576f-435d-a3f5-d2b3d3ee8681",
   "metadata": {
    "tags": []
   },
   "outputs": [
    {
     "data": {
      "text/plain": [
       "first_genre        0.350783\n",
       "tmdb_popularity    1.241230\n",
       "country            3.642742\n",
       "tmdb_score         4.533189\n",
       "imdb_score         7.609282\n",
       "imdb_votes         7.987048\n",
       "dtype: float64"
      ]
     },
     "execution_count": 27,
     "metadata": {},
     "output_type": "execute_result"
    }
   ],
   "source": [
    "percent_missing(df)"
   ]
  },
  {
   "cell_type": "markdown",
   "id": "d275f5b3-c328-498e-97f8-7bcf356a3338",
   "metadata": {
    "tags": []
   },
   "source": [
    "### Filling Missing \"tmdb_score\" and \"imdb_score\""
   ]
  },
  {
   "cell_type": "code",
   "execution_count": 29,
   "id": "7ecce58b-9342-43c1-9eae-a3e763926278",
   "metadata": {
    "tags": []
   },
   "outputs": [
    {
     "data": {
      "text/plain": [
       "<Axes: xlabel='tmdb_score', ylabel='imdb_score'>"
      ]
     },
     "execution_count": 29,
     "metadata": {},
     "output_type": "execute_result"
    },
    {
     "data": {
      "image/png": "[encoded data removed]",
      "text/plain": [
       "<Figure size 1600x400 with 3 Axes>"
      ]
     },
     "metadata": {},
     "output_type": "display_data"
    }
   ],
   "source": [
    "#plot distribution and corelation\n",
    "fig,axes = plt.subplots(nrows=1,ncols=3, figsize=(16,4))\n",
    "sns.histplot(df.tmdb_score, ax = axes[0])\n",
    "sns.histplot(df.imdb_score, ax = axes[1])\n",
    "sns.scatterplot(data=df, x ='tmdb_score',y='imdb_score')"
   ]
  },
  {
   "cell_type": "code",
   "execution_count": 30,
   "id": "4d0cecbe-b59e-49f9-9577-666817531b90",
   "metadata": {
    "tags": []
   },
   "outputs": [],
   "source": [
    "# Filling missing values with each other\n",
    "df['tmdb_score'] = df['tmdb_score'].fillna(df['imdb_score'])\n",
    "df['imdb_score'] = df['imdb_score'].fillna(df['tmdb_score'])"
   ]
  },
  {
   "cell_type": "code",
   "execution_count": 31,
   "id": "096ccc03-1623-433a-ac55-c597206c3ed6",
   "metadata": {
    "tags": []
   },
   "outputs": [],
   "source": [
    "# Drop down if the 2 are empty\n",
    "drop_line = df[(df['imdb_score'].isnull())&(df['tmdb_score'].isnull())]\n",
    "df = df.drop(drop_line.index)"
   ]
  },
  {
   "cell_type": "code",
   "execution_count": 32,
   "id": "9967fdd7-2c81-47b1-b231-8de48be0ab20",
   "metadata": {
    "tags": []
   },
   "outputs": [
    {
     "data": {
      "text/plain": [
       "first_genre        0.353453\n",
       "tmdb_popularity    1.250680\n",
       "country            3.670473\n",
       "imdb_votes         7.286569\n",
       "dtype: float64"
      ]
     },
     "execution_count": 32,
     "metadata": {},
     "output_type": "execute_result"
    }
   ],
   "source": [
    "percent_missing(df)"
   ]
  },
  {
   "cell_type": "markdown",
   "id": "6e16540f-ab5d-486f-9151-bbae18626313",
   "metadata": {
    "tags": []
   },
   "source": [
    "### Filling Missing Genres"
   ]
  },
  {
   "cell_type": "code",
   "execution_count": 34,
   "id": "b03159d2-3d2e-4bc3-99fa-77f8fc65a0ee",
   "metadata": {
    "tags": []
   },
   "outputs": [],
   "source": [
    "missing_first_genre_indices = df[df['first_genre'].isnull()].index"
   ]
  },
  {
   "cell_type": "code",
   "execution_count": 35,
   "id": "346d2196-7cb3-4cb9-996a-06b3000e104e",
   "metadata": {},
   "outputs": [],
   "source": [
    "genres_to_fill = ['drama', 'drama', 'animation', 'animation', 'animation', 'thriller', 'comedy', 'documentation', 'documentation', 'documentation', 'documentation', 'documentation']\n",
    "for idx, genre in zip(missing_first_genre_indices, genres_to_fill):\n",
    "    df.loc[idx, 'first_genre'] = genre"
   ]
  },
  {
   "cell_type": "code",
   "execution_count": 36,
   "id": "41a88cda-0729-45ec-83f2-66f359b9a018",
   "metadata": {
    "tags": []
   },
   "outputs": [],
   "source": [
    "df = df.dropna(subset=['first_genre'])"
   ]
  },
  {
   "cell_type": "code",
   "execution_count": 37,
   "id": "155d9621-13de-44c9-8d34-1ab7ac78739b",
   "metadata": {
    "tags": []
   },
   "outputs": [
    {
     "data": {
      "text/plain": [
       "tmdb_popularity    1.251020\n",
       "country            3.671471\n",
       "imdb_votes         7.261354\n",
       "dtype: float64"
      ]
     },
     "execution_count": 37,
     "metadata": {},
     "output_type": "execute_result"
    }
   ],
   "source": [
    "percent_missing(df)"
   ]
  },
  {
   "cell_type": "markdown",
   "id": "2999b0ff-6aa8-4673-9da2-cdfe30651d79",
   "metadata": {
    "tags": []
   },
   "source": [
    "### Filling Missing Countries"
   ]
  },
  {
   "cell_type": "code",
   "execution_count": 39,
   "id": "cc0854cf-5513-49d7-82e0-7988820d06d8",
   "metadata": {
    "tags": []
   },
   "outputs": [],
   "source": [
    "df['country'].fillna('unknown_country', inplace=True)"
   ]
  },
  {
   "cell_type": "code",
   "execution_count": 40,
   "id": "26308497-b705-4454-932f-a0829d91b05e",
   "metadata": {
    "tags": []
   },
   "outputs": [
    {
     "data": {
      "text/plain": [
       "tmdb_popularity    1.251020\n",
       "imdb_votes         7.261354\n",
       "dtype: float64"
      ]
     },
     "execution_count": 40,
     "metadata": {},
     "output_type": "execute_result"
    }
   ],
   "source": [
    "percent_missing(df)"
   ]
  },
  {
   "cell_type": "markdown",
   "id": "030e63a0-7fc2-4dc4-8060-f64f2f11f98d",
   "metadata": {
    "tags": []
   },
   "source": [
    "### Filling \"imdb_votes\" and \"tmdb_popularity\" Missing Values"
   ]
  },
  {
   "cell_type": "markdown",
   "id": "a5af4ec6-4f2c-4525-bb1e-bdaf2d3f4704",
   "metadata": {},
   "source": [
    "Random Forest Regressor to predict the popularity of these movies"
   ]
  },
  {
   "cell_type": "code",
   "execution_count": 43,
   "id": "91219b33-ca2b-48ca-a58d-10ee87ca7fe4",
   "metadata": {
    "tags": []
   },
   "outputs": [
    {
     "data": {
      "text/plain": [
       "267"
      ]
     },
     "execution_count": 43,
     "metadata": {},
     "output_type": "execute_result"
    }
   ],
   "source": [
    "len(df[df['imdb_votes'].isnull()])"
   ]
  },
  {
   "cell_type": "code",
   "execution_count": 44,
   "id": "d0a672d8-5206-41fd-a105-6327d16cbd6a",
   "metadata": {
    "tags": []
   },
   "outputs": [],
   "source": [
    "# prediction with machine learning\n",
    "def predict_missing_values(df, target_column):\n",
    "    df_model = df[[\"release_year\", \"runtime\", \"first_genre\", \"country\", \"imdb_score\", \"tmdb_score\", target_column]]\n",
    "    df_model_obj = df_model[['first_genre', 'country']]\n",
    "    df_model_dummies = pd.get_dummies(df_model_obj, drop_first=True)\n",
    "    df_model_num = df_model.select_dtypes('number')\n",
    "    df_model = pd.concat([df_model_num, df_model_dummies], axis=1)\n",
    "\n",
    "    train_data = df_model.dropna(subset=[target_column])\n",
    "    test_data = df_model[df_model[target_column].isnull()]\n",
    "    X_train = train_data.drop(target_column, axis=1)\n",
    "    y_train = train_data[target_column]\n",
    "\n",
    "    model = RandomForestRegressor(n_estimators=100, random_state=0)\n",
    "    model.fit(X_train, y_train)\n",
    "\n",
    "    X_test = test_data.drop(target_column, axis=1)\n",
    "    predictions = model.predict(X_test)\n",
    "\n",
    "    df.loc[df[target_column].isnull(), target_column] = predictions"
   ]
  },
  {
   "cell_type": "code",
   "execution_count": 45,
   "id": "8587f8c3-ffae-473c-9bc7-678081786fc3",
   "metadata": {
    "tags": []
   },
   "outputs": [
    {
     "data": {
      "text/plain": [
       "count    3677.000000\n",
       "mean       20.416448\n",
       "std        78.109718\n",
       "min         0.055091\n",
       "25%         2.570000\n",
       "50%         5.960000\n",
       "75%        14.718000\n",
       "max      2274.044000\n",
       "Name: tmdb_popularity, dtype: float64"
      ]
     },
     "execution_count": 45,
     "metadata": {},
     "output_type": "execute_result"
    }
   ],
   "source": [
    "predict_missing_values(df, 'tmdb_popularity')\n",
    "df.tmdb_popularity.describe()"
   ]
  },
  {
   "cell_type": "code",
   "execution_count": 46,
   "id": "8bfd770a-0eee-4521-8ee4-206f14feb5ce",
   "metadata": {
    "tags": []
   },
   "outputs": [
    {
     "data": {
      "text/plain": [
       "count    3.677000e+03\n",
       "mean     2.713624e+04\n",
       "std      1.096305e+05\n",
       "min      5.000000e+00\n",
       "25%      6.100000e+02\n",
       "50%      2.594000e+03\n",
       "75%      1.165500e+04\n",
       "max      2.294231e+06\n",
       "Name: imdb_votes, dtype: float64"
      ]
     },
     "execution_count": 46,
     "metadata": {},
     "output_type": "execute_result"
    }
   ],
   "source": [
    "predict_missing_values(df, 'imdb_votes')\n",
    "df.imdb_votes.describe()"
   ]
  },
  {
   "cell_type": "markdown",
   "id": "ea0b983d-4287-464e-8d02-8b99d8fed235",
   "metadata": {
    "jp-MarkdownHeadingCollapsed": true,
    "tags": []
   },
   "source": [
    "## Section 4 : Keywords Extractions"
   ]
  },
  {
   "cell_type": "markdown",
   "id": "9d9f0183-dc2f-4660-aaa6-ff15165a2d77",
   "metadata": {},
   "source": [
    "ref article : https://www.analyticsvidhya.com/blog/2022/01/four-of-the-easiest-and-most-effective-methods-of-keyword-extraction-from-a-single-text-using-python/  \n",
    "Yake: Campos, Ricardo, et al. “YAKE! Keyword extraction from single documents using multiple local features.” Information Sciences 509 (2020): 257-289."
   ]
  },
  {
   "cell_type": "code",
   "execution_count": 49,
   "id": "957e4458-9553-4364-bb9e-919c8c67ccee",
   "metadata": {
    "tags": []
   },
   "outputs": [],
   "source": [
    "def extract_keywords(title, text):\n",
    "    combined_text = title + \" \" + text\n",
    "    kw_extractor = yake.KeywordExtractor(top=3, stopwords=None, n=1)\n",
    "    keywords = kw_extractor.extract_keywords(combined_text)\n",
    "    # Extraire seulement les mots-clés, ignorer les scores\n",
    "    return [kw for kw, v in keywords]"
   ]
  },
  {
   "cell_type": "code",
   "execution_count": 50,
   "id": "e34e4d16-04db-4162-bd7b-52cac0560f2c",
   "metadata": {
    "tags": []
   },
   "outputs": [],
   "source": [
    "df['keywords'] = df.apply(lambda row: extract_keywords(row['title'], row['description']), axis=1)"
   ]
  },
  {
   "cell_type": "code",
   "execution_count": 51,
   "id": "24368980-2dce-42fe-adc0-bf939447ec8d",
   "metadata": {
    "tags": []
   },
   "outputs": [],
   "source": [
    "# Formatting Keywords\n",
    "def formatting_keywords(keywords):\n",
    "    #keywords_list = ast.literal_eval(keywords_str)\n",
    "    first_keyword = keywords[0] if len(keywords) > 0 else np.nan\n",
    "    second_keyword = keywords[1] if len(keywords) > 1 else np.nan\n",
    "    third_keyword = keywords[2] if len(keywords) > 2 else 'no_third_keywords'\n",
    "    return first_keyword, second_keyword,third_keyword"
   ]
  },
  {
   "cell_type": "code",
   "execution_count": 52,
   "id": "715e3b97-244e-4c7b-a19d-415c8479ce6a",
   "metadata": {
    "tags": []
   },
   "outputs": [],
   "source": [
    "df[['first_keyword', 'second_keyword', 'third_keyword']] = df['keywords'].apply(lambda x: pd.Series(formatting_keywords(x)))"
   ]
  },
  {
   "cell_type": "code",
   "execution_count": 53,
   "id": "55554eb8-b869-465b-a675-c92360ac498d",
   "metadata": {
    "tags": []
   },
   "outputs": [],
   "source": [
    "df = df.drop('keywords', axis=1)\n",
    "df = df.reset_index(drop=True)"
   ]
  },
  {
   "cell_type": "code",
   "execution_count": 54,
   "id": "5271c6e9-c358-4db3-864f-df85a081998f",
   "metadata": {
    "tags": []
   },
   "outputs": [
    {
     "data": {
      "text/html": [
       "<div>\n",
       "<style scoped>\n",
       "    .dataframe tbody tr th:only-of-type {\n",
       "        vertical-align: middle;\n",
       "    }\n",
       "\n",
       "    .dataframe tbody tr th {\n",
       "        vertical-align: top;\n",
       "    }\n",
       "\n",
       "    .dataframe thead th {\n",
       "        text-align: right;\n",
       "    }\n",
       "</style>\n",
       "<table border=\"1\" class=\"dataframe\">\n",
       "  <thead>\n",
       "    <tr style=\"text-align: right;\">\n",
       "      <th></th>\n",
       "      <th>id</th>\n",
       "      <th>title</th>\n",
       "      <th>description</th>\n",
       "      <th>release_year</th>\n",
       "      <th>runtime</th>\n",
       "      <th>imdb_score</th>\n",
       "      <th>imdb_votes</th>\n",
       "      <th>tmdb_popularity</th>\n",
       "      <th>tmdb_score</th>\n",
       "      <th>first_genre</th>\n",
       "      <th>second_genre</th>\n",
       "      <th>country</th>\n",
       "      <th>first_keyword</th>\n",
       "      <th>second_keyword</th>\n",
       "      <th>third_keyword</th>\n",
       "    </tr>\n",
       "  </thead>\n",
       "  <tbody>\n",
       "    <tr>\n",
       "      <th>0</th>\n",
       "      <td>tm84618</td>\n",
       "      <td>Taxi Driver</td>\n",
       "      <td>A mentally unstable Vietnam War veteran works ...</td>\n",
       "      <td>1976</td>\n",
       "      <td>114</td>\n",
       "      <td>8.2</td>\n",
       "      <td>808582.0</td>\n",
       "      <td>40.965</td>\n",
       "      <td>8.179</td>\n",
       "      <td>drama</td>\n",
       "      <td>crime</td>\n",
       "      <td>US</td>\n",
       "      <td>Driver</td>\n",
       "      <td>Vietnam</td>\n",
       "      <td>War</td>\n",
       "    </tr>\n",
       "    <tr>\n",
       "      <th>1</th>\n",
       "      <td>tm154986</td>\n",
       "      <td>Deliverance</td>\n",
       "      <td>Intent on seeing the Cahulawassee River before...</td>\n",
       "      <td>1972</td>\n",
       "      <td>109</td>\n",
       "      <td>7.7</td>\n",
       "      <td>107673.0</td>\n",
       "      <td>10.010</td>\n",
       "      <td>7.300</td>\n",
       "      <td>drama</td>\n",
       "      <td>action</td>\n",
       "      <td>US</td>\n",
       "      <td>Intent</td>\n",
       "      <td>Cahulawassee</td>\n",
       "      <td>River</td>\n",
       "    </tr>\n",
       "    <tr>\n",
       "      <th>2</th>\n",
       "      <td>tm127384</td>\n",
       "      <td>Monty Python and the Holy Grail</td>\n",
       "      <td>King Arthur, accompanied by his squire, recrui...</td>\n",
       "      <td>1975</td>\n",
       "      <td>91</td>\n",
       "      <td>8.2</td>\n",
       "      <td>534486.0</td>\n",
       "      <td>15.461</td>\n",
       "      <td>7.811</td>\n",
       "      <td>fantasy</td>\n",
       "      <td>action</td>\n",
       "      <td>GB</td>\n",
       "      <td>Sir</td>\n",
       "      <td>Arthur</td>\n",
       "      <td>Table</td>\n",
       "    </tr>\n",
       "    <tr>\n",
       "      <th>3</th>\n",
       "      <td>tm120801</td>\n",
       "      <td>The Dirty Dozen</td>\n",
       "      <td>12 American military prisoners in World War II...</td>\n",
       "      <td>1967</td>\n",
       "      <td>150</td>\n",
       "      <td>7.7</td>\n",
       "      <td>72662.0</td>\n",
       "      <td>20.398</td>\n",
       "      <td>7.600</td>\n",
       "      <td>war</td>\n",
       "      <td>action</td>\n",
       "      <td>GB</td>\n",
       "      <td>Dozen</td>\n",
       "      <td>American</td>\n",
       "      <td>Dirty</td>\n",
       "    </tr>\n",
       "    <tr>\n",
       "      <th>4</th>\n",
       "      <td>tm70993</td>\n",
       "      <td>Life of Brian</td>\n",
       "      <td>Brian Cohen is an average young Jewish man, bu...</td>\n",
       "      <td>1979</td>\n",
       "      <td>94</td>\n",
       "      <td>8.0</td>\n",
       "      <td>395024.0</td>\n",
       "      <td>17.770</td>\n",
       "      <td>7.800</td>\n",
       "      <td>comedy</td>\n",
       "      <td>no_second-genre</td>\n",
       "      <td>GB</td>\n",
       "      <td>Messiah</td>\n",
       "      <td>Brian</td>\n",
       "      <td>Cohen</td>\n",
       "    </tr>\n",
       "  </tbody>\n",
       "</table>\n",
       "</div>"
      ],
      "text/plain": [
       "         id                            title  \\\n",
       "0   tm84618                      Taxi Driver   \n",
       "1  tm154986                      Deliverance   \n",
       "2  tm127384  Monty Python and the Holy Grail   \n",
       "3  tm120801                  The Dirty Dozen   \n",
       "4   tm70993                    Life of Brian   \n",
       "\n",
       "                                         description  release_year  runtime  \\\n",
       "0  A mentally unstable Vietnam War veteran works ...          1976      114   \n",
       "1  Intent on seeing the Cahulawassee River before...          1972      109   \n",
       "2  King Arthur, accompanied by his squire, recrui...          1975       91   \n",
       "3  12 American military prisoners in World War II...          1967      150   \n",
       "4  Brian Cohen is an average young Jewish man, bu...          1979       94   \n",
       "\n",
       "   imdb_score  imdb_votes  tmdb_popularity  tmdb_score first_genre  \\\n",
       "0         8.2    808582.0           40.965       8.179       drama   \n",
       "1         7.7    107673.0           10.010       7.300       drama   \n",
       "2         8.2    534486.0           15.461       7.811     fantasy   \n",
       "3         7.7     72662.0           20.398       7.600         war   \n",
       "4         8.0    395024.0           17.770       7.800      comedy   \n",
       "\n",
       "      second_genre country first_keyword second_keyword third_keyword  \n",
       "0            crime      US        Driver        Vietnam           War  \n",
       "1           action      US        Intent   Cahulawassee         River  \n",
       "2           action      GB           Sir         Arthur         Table  \n",
       "3           action      GB         Dozen       American         Dirty  \n",
       "4  no_second-genre      GB       Messiah          Brian         Cohen  "
      ]
     },
     "execution_count": 54,
     "metadata": {},
     "output_type": "execute_result"
    }
   ],
   "source": [
    "df.head(5)"
   ]
  },
  {
   "cell_type": "code",
   "execution_count": 55,
   "id": "18219ecd-2e45-4815-9db0-0347aff0566b",
   "metadata": {
    "tags": []
   },
   "outputs": [
    {
     "data": {
      "text/plain": [
       "Series([], dtype: float64)"
      ]
     },
     "execution_count": 55,
     "metadata": {},
     "output_type": "execute_result"
    }
   ],
   "source": [
    "percent_missing(df)"
   ]
  },
  {
   "cell_type": "markdown",
   "id": "deaefd59-d1b9-4cbd-a606-cb51c3e1a239",
   "metadata": {
    "jp-MarkdownHeadingCollapsed": true,
    "tags": []
   },
   "source": [
    "## Section 5 : Calculating Weighted Scores"
   ]
  },
  {
   "cell_type": "code",
   "execution_count": 57,
   "id": "e64fe222-4e63-4104-b815-3bfdaf4f136f",
   "metadata": {
    "tags": []
   },
   "outputs": [],
   "source": [
    "# Normalizing Scores\n",
    "df['tmdb_popularity_norm'] = (df['tmdb_popularity'] - df['tmdb_popularity'].min()) / (df['tmdb_popularity'].max() - df['tmdb_popularity'].min())\n",
    "df['imdb_votes_norm'] = (df['imdb_votes'] - df['imdb_votes'].min()) / (df['imdb_votes'].max() - df['imdb_votes'].min())"
   ]
  },
  {
   "cell_type": "code",
   "execution_count": 58,
   "id": "b8433f96-631a-41e1-a1db-6cea5f1ff57c",
   "metadata": {
    "tags": []
   },
   "outputs": [],
   "source": [
    "# Calculating Weighted Scores\n",
    "df['weighted_imdb_score'] = df['imdb_score'] * df['imdb_votes_norm']\n",
    "df['weighted_tmdb_score'] = df['tmdb_score'] * df['tmdb_popularity_norm']"
   ]
  },
  {
   "cell_type": "code",
   "execution_count": 59,
   "id": "1318daf9-522b-4b22-a773-d257401d2ba4",
   "metadata": {
    "tags": []
   },
   "outputs": [],
   "source": [
    "df['my_rating'] = (df['weighted_imdb_score'] + df['weighted_tmdb_score']) / (df['imdb_votes_norm'] + df['tmdb_popularity_norm'])"
   ]
  },
  {
   "cell_type": "code",
   "execution_count": 60,
   "id": "862db0cb-7c67-4c69-9a20-9d9311e7dec3",
   "metadata": {
    "tags": []
   },
   "outputs": [
    {
     "data": {
      "image/png": "[encoded data removed]",
      "text/plain": [
       "<Figure size 640x480 with 1 Axes>"
      ]
     },
     "metadata": {},
     "output_type": "display_data"
    }
   ],
   "source": [
    "# Visualization : Distribution of 'My Rating'\n",
    "sns.histplot(df['my_rating'])\n",
    "plt.xlabel('My Rating')\n",
    "plt.ylabel('Count')\n",
    "plt.title('Distribution of My Rating')\n",
    "plt.show()"
   ]
  },
  {
   "cell_type": "code",
   "execution_count": 61,
   "id": "c662d6ae-68b0-4e60-ac3f-df197cb7a05d",
   "metadata": {
    "tags": []
   },
   "outputs": [
    {
     "data": {
      "text/html": [
       "<div>\n",
       "<style scoped>\n",
       "    .dataframe tbody tr th:only-of-type {\n",
       "        vertical-align: middle;\n",
       "    }\n",
       "\n",
       "    .dataframe tbody tr th {\n",
       "        vertical-align: top;\n",
       "    }\n",
       "\n",
       "    .dataframe thead th {\n",
       "        text-align: right;\n",
       "    }\n",
       "</style>\n",
       "<table border=\"1\" class=\"dataframe\">\n",
       "  <thead>\n",
       "    <tr style=\"text-align: right;\">\n",
       "      <th></th>\n",
       "      <th>id</th>\n",
       "      <th>title</th>\n",
       "      <th>description</th>\n",
       "      <th>release_year</th>\n",
       "      <th>runtime</th>\n",
       "      <th>imdb_score</th>\n",
       "      <th>imdb_votes</th>\n",
       "      <th>tmdb_popularity</th>\n",
       "      <th>tmdb_score</th>\n",
       "      <th>first_genre</th>\n",
       "      <th>second_genre</th>\n",
       "      <th>country</th>\n",
       "      <th>first_keyword</th>\n",
       "      <th>second_keyword</th>\n",
       "      <th>third_keyword</th>\n",
       "      <th>tmdb_popularity_norm</th>\n",
       "      <th>imdb_votes_norm</th>\n",
       "      <th>weighted_imdb_score</th>\n",
       "      <th>weighted_tmdb_score</th>\n",
       "      <th>my_rating</th>\n",
       "    </tr>\n",
       "  </thead>\n",
       "  <tbody>\n",
       "    <tr>\n",
       "      <th>0</th>\n",
       "      <td>tm84618</td>\n",
       "      <td>Taxi Driver</td>\n",
       "      <td>A mentally unstable Vietnam War veteran works ...</td>\n",
       "      <td>1976</td>\n",
       "      <td>114</td>\n",
       "      <td>8.2</td>\n",
       "      <td>808582.0</td>\n",
       "      <td>40.965</td>\n",
       "      <td>8.179</td>\n",
       "      <td>drama</td>\n",
       "      <td>crime</td>\n",
       "      <td>US</td>\n",
       "      <td>Driver</td>\n",
       "      <td>Vietnam</td>\n",
       "      <td>War</td>\n",
       "      <td>0.017990</td>\n",
       "      <td>0.352440</td>\n",
       "      <td>2.890008</td>\n",
       "      <td>0.147143</td>\n",
       "      <td>8.198980</td>\n",
       "    </tr>\n",
       "    <tr>\n",
       "      <th>1</th>\n",
       "      <td>tm154986</td>\n",
       "      <td>Deliverance</td>\n",
       "      <td>Intent on seeing the Cahulawassee River before...</td>\n",
       "      <td>1972</td>\n",
       "      <td>109</td>\n",
       "      <td>7.7</td>\n",
       "      <td>107673.0</td>\n",
       "      <td>10.010</td>\n",
       "      <td>7.300</td>\n",
       "      <td>drama</td>\n",
       "      <td>action</td>\n",
       "      <td>US</td>\n",
       "      <td>Intent</td>\n",
       "      <td>Cahulawassee</td>\n",
       "      <td>River</td>\n",
       "      <td>0.004378</td>\n",
       "      <td>0.046930</td>\n",
       "      <td>0.361361</td>\n",
       "      <td>0.031957</td>\n",
       "      <td>7.665871</td>\n",
       "    </tr>\n",
       "    <tr>\n",
       "      <th>2</th>\n",
       "      <td>tm127384</td>\n",
       "      <td>Monty Python and the Holy Grail</td>\n",
       "      <td>King Arthur, accompanied by his squire, recrui...</td>\n",
       "      <td>1975</td>\n",
       "      <td>91</td>\n",
       "      <td>8.2</td>\n",
       "      <td>534486.0</td>\n",
       "      <td>15.461</td>\n",
       "      <td>7.811</td>\n",
       "      <td>fantasy</td>\n",
       "      <td>action</td>\n",
       "      <td>GB</td>\n",
       "      <td>Sir</td>\n",
       "      <td>Arthur</td>\n",
       "      <td>Table</td>\n",
       "      <td>0.006775</td>\n",
       "      <td>0.232968</td>\n",
       "      <td>1.910337</td>\n",
       "      <td>0.052918</td>\n",
       "      <td>8.189007</td>\n",
       "    </tr>\n",
       "  </tbody>\n",
       "</table>\n",
       "</div>"
      ],
      "text/plain": [
       "         id                            title  \\\n",
       "0   tm84618                      Taxi Driver   \n",
       "1  tm154986                      Deliverance   \n",
       "2  tm127384  Monty Python and the Holy Grail   \n",
       "\n",
       "                                         description  release_year  runtime  \\\n",
       "0  A mentally unstable Vietnam War veteran works ...          1976      114   \n",
       "1  Intent on seeing the Cahulawassee River before...          1972      109   \n",
       "2  King Arthur, accompanied by his squire, recrui...          1975       91   \n",
       "\n",
       "   imdb_score  imdb_votes  tmdb_popularity  tmdb_score first_genre  \\\n",
       "0         8.2    808582.0           40.965       8.179       drama   \n",
       "1         7.7    107673.0           10.010       7.300       drama   \n",
       "2         8.2    534486.0           15.461       7.811     fantasy   \n",
       "\n",
       "  second_genre country first_keyword second_keyword third_keyword  \\\n",
       "0        crime      US        Driver        Vietnam           War   \n",
       "1       action      US        Intent   Cahulawassee         River   \n",
       "2       action      GB           Sir         Arthur         Table   \n",
       "\n",
       "   tmdb_popularity_norm  imdb_votes_norm  weighted_imdb_score  \\\n",
       "0              0.017990         0.352440             2.890008   \n",
       "1              0.004378         0.046930             0.361361   \n",
       "2              0.006775         0.232968             1.910337   \n",
       "\n",
       "   weighted_tmdb_score  my_rating  \n",
       "0             0.147143   8.198980  \n",
       "1             0.031957   7.665871  \n",
       "2             0.052918   8.189007  "
      ]
     },
     "execution_count": 61,
     "metadata": {},
     "output_type": "execute_result"
    }
   ],
   "source": [
    "df.head(3)"
   ]
  },
  {
   "cell_type": "markdown",
   "id": "539b2272-3a58-4d66-88fe-cc0d50afe036",
   "metadata": {
    "jp-MarkdownHeadingCollapsed": true,
    "tags": []
   },
   "source": [
    "## Section 6 : Saving Cleaned Data"
   ]
  },
  {
   "cell_type": "code",
   "execution_count": 63,
   "id": "f89539bb-c7c7-4b39-a240-83a4d0da787e",
   "metadata": {
    "tags": []
   },
   "outputs": [],
   "source": [
    "df = df[['id', 'title', 'description', 'release_year', 'runtime', 'first_genre', 'second_genre', 'country', 'first_keyword', 'second_keyword', 'third_keyword', 'my_rating']] "
   ]
  },
  {
   "cell_type": "code",
   "execution_count": 64,
   "id": "335250f0-f023-4c08-84a0-ecdbec5f8a9c",
   "metadata": {
    "tags": []
   },
   "outputs": [
    {
     "name": "stdout",
     "output_type": "stream",
     "text": [
      "<class 'pandas.core.frame.DataFrame'>\n",
      "RangeIndex: 3677 entries, 0 to 3676\n",
      "Data columns (total 12 columns):\n",
      " #   Column          Non-Null Count  Dtype  \n",
      "---  ------          --------------  -----  \n",
      " 0   id              3677 non-null   object \n",
      " 1   title           3677 non-null   object \n",
      " 2   description     3677 non-null   object \n",
      " 3   release_year    3677 non-null   int64  \n",
      " 4   runtime         3677 non-null   int64  \n",
      " 5   first_genre     3677 non-null   object \n",
      " 6   second_genre    3677 non-null   object \n",
      " 7   country         3677 non-null   object \n",
      " 8   first_keyword   3677 non-null   object \n",
      " 9   second_keyword  3677 non-null   object \n",
      " 10  third_keyword   3677 non-null   object \n",
      " 11  my_rating       3677 non-null   float64\n",
      "dtypes: float64(1), int64(2), object(9)\n",
      "memory usage: 344.8+ KB\n"
     ]
    }
   ],
   "source": [
    "df.info()"
   ]
  },
  {
   "cell_type": "code",
   "execution_count": 65,
   "id": "de365a83-8e28-4f7e-8e90-137be53d1197",
   "metadata": {
    "tags": []
   },
   "outputs": [],
   "source": [
    "df.to_csv(\"input/movie_recom_pandas.csv\", index=False)"
   ]
  },
  {
   "cell_type": "code",
   "execution_count": 66,
   "id": "fe8501a1-fa66-4581-9565-7b1669747256",
   "metadata": {
    "tags": []
   },
   "outputs": [],
   "source": [
    "#df = pd.read_csv(\"movie_recom_pandas.csv\")"
   ]
  },
  {
   "cell_type": "markdown",
   "id": "c06adc5e-c587-43de-b69f-189a98ea8ad1",
   "metadata": {},
   "source": [
    "## Section 7 : Movie Recommendation System"
   ]
  },
  {
   "cell_type": "markdown",
   "id": "4660d535-a2f1-4041-815b-b2294f75aec7",
   "metadata": {
    "tags": []
   },
   "source": [
    "### Filtering Based Recommendation"
   ]
  },
  {
   "cell_type": "code",
   "execution_count": 69,
   "id": "5c686fe5-0d4e-4a3a-ace0-ccc2a84fde16",
   "metadata": {
    "tags": []
   },
   "outputs": [],
   "source": [
    "def recommend_movies(user_preferences, df):\n",
    "    # fetch user input\n",
    "    favorite_genre = user_preferences['favorite_genres']\n",
    "    likes_old_movies = user_preferences['likes_old_movies']\n",
    "    available_time = user_preferences['preferred_duration']\n",
    "    favorite_country = user_preferences['preferred_country']\n",
    "    \n",
    "    # filter genre\n",
    "    genre_filter = df['first_genre'].isin(favorite_genre) | df['second_genre'].isin(favorite_genre)\n",
    "    recommended_movies = df[genre_filter]\n",
    "    \n",
    "    # filter date release\n",
    "    if likes_old_movies == 'avant 2000': \n",
    "        recommended_movies = recommended_movies[recommended_movies['release_year'] < 2000]\n",
    "    elif likes_old_movies == 'apres 2000': \n",
    "        recommended_movies = recommended_movies[recommended_movies['release_year'] >= 2000]\n",
    "        \n",
    "    # filter available time\n",
    "    if available_time == '60-90' :\n",
    "        recommended_movies = recommended_movies[recommended_movies['runtime'] <= 90]\n",
    "    elif available_time == '90-120':\n",
    "        recommended_movies = recommended_movies[(recommended_movies['runtime'] > 90) & (recommended_movies['runtime'] <= 120)]\n",
    "    else:\n",
    "        recommended_movies = recommended_movies[recommended_movies['runtime'] > 120]\n",
    "        \n",
    "    #filter country\n",
    "    if favorite_country == 'US' :\n",
    "        recommended_movies = recommended_movies[recommended_movies['country'] == 'US']\n",
    "    elif favorite_country == 'GB' :\n",
    "        recommended_movies = recommended_movies[recommended_movies['country'] == 'GB']\n",
    "    elif favorite_country == 'FR' :\n",
    "        recommended_movies = recommended_movies[recommended_movies['country'] == 'FR']\n",
    "        \n",
    "    # si aucun film trouvé : film similaire\n",
    "    if recommended_movies.empty:\n",
    "        print(\"pas de recommendation correspondant à vos filtre\")\n",
    "        \n",
    "    return recommended_movies.sort_values('my_rating', ascending=False)"
   ]
  },
  {
   "cell_type": "code",
   "execution_count": 70,
   "id": "41639385-caa5-4700-bc08-82c8e62f5bae",
   "metadata": {
    "tags": []
   },
   "outputs": [],
   "source": [
    "# Exemple de préférences utilisateur\n",
    "user_preferences = {\n",
    "    'favorite_genres': ['action'],\n",
    "    'likes_old_movies': 'indifferent',\n",
    "    'preferred_duration': '90-120',\n",
    "    'preferred_country' : 'US'\n",
    "}"
   ]
  },
  {
   "cell_type": "code",
   "execution_count": 71,
   "id": "42edccb4-60db-41aa-ae2b-dd0e6a29a6f4",
   "metadata": {
    "tags": []
   },
   "outputs": [],
   "source": [
    "recommended_movies = recommend_movies(user_preferences, df)"
   ]
  },
  {
   "cell_type": "code",
   "execution_count": 72,
   "id": "d2f8fcbe-e0ab-4708-88a7-218ae387da6c",
   "metadata": {
    "tags": []
   },
   "outputs": [
    {
     "data": {
      "text/html": [
       "<div>\n",
       "<style scoped>\n",
       "    .dataframe tbody tr th:only-of-type {\n",
       "        vertical-align: middle;\n",
       "    }\n",
       "\n",
       "    .dataframe tbody tr th {\n",
       "        vertical-align: top;\n",
       "    }\n",
       "\n",
       "    .dataframe thead th {\n",
       "        text-align: right;\n",
       "    }\n",
       "</style>\n",
       "<table border=\"1\" class=\"dataframe\">\n",
       "  <thead>\n",
       "    <tr style=\"text-align: right;\">\n",
       "      <th></th>\n",
       "      <th>id</th>\n",
       "      <th>title</th>\n",
       "    </tr>\n",
       "  </thead>\n",
       "  <tbody>\n",
       "    <tr>\n",
       "      <th>186</th>\n",
       "      <td>tm997728</td>\n",
       "      <td>Blade Runner: The Final Cut</td>\n",
       "    </tr>\n",
       "    <tr>\n",
       "      <th>2020</th>\n",
       "      <td>tm441050</td>\n",
       "      <td>The Gentlemen</td>\n",
       "    </tr>\n",
       "    <tr>\n",
       "      <th>620</th>\n",
       "      <td>tm134967</td>\n",
       "      <td>How to Train Your Dragon 2</td>\n",
       "    </tr>\n",
       "    <tr>\n",
       "      <th>3371</th>\n",
       "      <td>tm963182</td>\n",
       "      <td>Trollhunters: Rise of the Titans</td>\n",
       "    </tr>\n",
       "    <tr>\n",
       "      <th>5</th>\n",
       "      <td>tm14873</td>\n",
       "      <td>Dirty Harry</td>\n",
       "    </tr>\n",
       "    <tr>\n",
       "      <th>...</th>\n",
       "      <td>...</td>\n",
       "      <td>...</td>\n",
       "    </tr>\n",
       "    <tr>\n",
       "      <th>2336</th>\n",
       "      <td>tm917822</td>\n",
       "      <td>The 2nd</td>\n",
       "    </tr>\n",
       "    <tr>\n",
       "      <th>2491</th>\n",
       "      <td>tm847623</td>\n",
       "      <td>Rogue Warfare: Death of a Nation</td>\n",
       "    </tr>\n",
       "    <tr>\n",
       "      <th>1561</th>\n",
       "      <td>tm427143</td>\n",
       "      <td>Edge of Fear</td>\n",
       "    </tr>\n",
       "    <tr>\n",
       "      <th>2128</th>\n",
       "      <td>tm411750</td>\n",
       "      <td>Doom: Annihilation</td>\n",
       "    </tr>\n",
       "    <tr>\n",
       "      <th>2334</th>\n",
       "      <td>tm917974</td>\n",
       "      <td>Hard Kill</td>\n",
       "    </tr>\n",
       "  </tbody>\n",
       "</table>\n",
       "<p>81 rows × 2 columns</p>\n",
       "</div>"
      ],
      "text/plain": [
       "            id                             title\n",
       "186   tm997728       Blade Runner: The Final Cut\n",
       "2020  tm441050                     The Gentlemen\n",
       "620   tm134967        How to Train Your Dragon 2\n",
       "3371  tm963182  Trollhunters: Rise of the Titans\n",
       "5      tm14873                       Dirty Harry\n",
       "...        ...                               ...\n",
       "2336  tm917822                           The 2nd\n",
       "2491  tm847623  Rogue Warfare: Death of a Nation\n",
       "1561  tm427143                      Edge of Fear\n",
       "2128  tm411750                Doom: Annihilation\n",
       "2334  tm917974                         Hard Kill\n",
       "\n",
       "[81 rows x 2 columns]"
      ]
     },
     "execution_count": 72,
     "metadata": {},
     "output_type": "execute_result"
    }
   ],
   "source": [
    "recommended_movies[['id','title']]"
   ]
  },
  {
   "cell_type": "markdown",
   "id": "6ae9cc25-36b1-4349-bb5b-9651f88068b9",
   "metadata": {
    "tags": []
   },
   "source": [
    "### Similarity-Based Recommendation"
   ]
  },
  {
   "cell_type": "markdown",
   "id": "7cc6a70a-dfb6-4370-971c-a9de94c126b3",
   "metadata": {
    "jp-MarkdownHeadingCollapsed": true,
    "tags": []
   },
   "source": [
    "#### Preprocessing : Vectorization Keywords"
   ]
  },
  {
   "cell_type": "code",
   "execution_count": 75,
   "id": "0f47dd9b-dc35-49ec-bd58-d73edfc096d4",
   "metadata": {},
   "outputs": [],
   "source": [
    "from gensim.models import Word2Vec\n",
    "from sklearn.cluster import KMeans"
   ]
  },
  {
   "cell_type": "code",
   "execution_count": 76,
   "id": "1ff0808c-bd59-4e81-86b2-fc91ba0e9595",
   "metadata": {},
   "outputs": [],
   "source": [
    "# Combine keywords in a single cells\n",
    "df['combined_keywords'] = df.apply(\n",
    "    lambda row: f\"{row['first_keyword']} {row['second_keyword']} {row['third_keyword']}\", axis=1)"
   ]
  },
  {
   "cell_type": "code",
   "execution_count": 77,
   "id": "613bc944-57f6-4ef8-aee2-4c001d7712c3",
   "metadata": {},
   "outputs": [],
   "source": [
    "sentences = df['combined_keywords'].tolist()"
   ]
  },
  {
   "cell_type": "code",
   "execution_count": 78,
   "id": "b6859187-cff8-4dd7-8a67-4e8d2230b22e",
   "metadata": {},
   "outputs": [],
   "source": [
    "word2vec_model = Word2Vec(sentences, vector_size=100, window=5, min_count=1, sg=1)"
   ]
  },
  {
   "cell_type": "code",
   "execution_count": 79,
   "id": "85467f69-8af5-47f6-a89d-5c91648cbdd7",
   "metadata": {
    "tags": []
   },
   "outputs": [],
   "source": [
    "# Calculating mean vectors for each movies\n",
    "def get_mean_vector(words):\n",
    "    words = [word for word in words if word in word2vec_model.wv]\n",
    "    if len(words) >= 1:\n",
    "        return np.mean(word2vec_model.wv[words], axis=0)\n",
    "    else:\n",
    "        return np.zeros(word2vec_model.vector_size)"
   ]
  },
  {
   "cell_type": "code",
   "execution_count": 80,
   "id": "89948501-8384-4ea5-9422-3c8645bf5db1",
   "metadata": {},
   "outputs": [],
   "source": [
    "df['vector'] = df['combined_keywords'].apply(get_mean_vector)"
   ]
  },
  {
   "cell_type": "markdown",
   "id": "65508c8a-b583-436e-94e6-8a3807cf684d",
   "metadata": {
    "jp-MarkdownHeadingCollapsed": true,
    "tags": []
   },
   "source": [
    "#### Preprocessing : Dummies and features"
   ]
  },
  {
   "cell_type": "code",
   "execution_count": 82,
   "id": "4684db59-7c7b-40fe-8866-795ad2c9c06c",
   "metadata": {},
   "outputs": [],
   "source": [
    "# Encoding genres and country\n",
    "df = pd.get_dummies(df, columns=['first_genre', 'second_genre', 'country'])"
   ]
  },
  {
   "cell_type": "code",
   "execution_count": 83,
   "id": "29689668-334c-40e8-b575-4365d5cb5ce5",
   "metadata": {},
   "outputs": [],
   "source": [
    "# Adding other features\n",
    "features = df[['release_year', 'runtime'] \n",
    "                     + list(df.columns[df.columns.str.startswith('first_genre_')]) \n",
    "                     + list(df.columns[df.columns.str.startswith('second_genre_')]) \n",
    "                     + list(df.columns[df.columns.str.startswith('country_')])]"
   ]
  },
  {
   "cell_type": "code",
   "execution_count": 84,
   "id": "1c84507d-ed71-4f07-b8a1-d0099376cdb6",
   "metadata": {},
   "outputs": [
    {
     "data": {
      "text/html": [
       "<div>\n",
       "<style scoped>\n",
       "    .dataframe tbody tr th:only-of-type {\n",
       "        vertical-align: middle;\n",
       "    }\n",
       "\n",
       "    .dataframe tbody tr th {\n",
       "        vertical-align: top;\n",
       "    }\n",
       "\n",
       "    .dataframe thead th {\n",
       "        text-align: right;\n",
       "    }\n",
       "</style>\n",
       "<table border=\"1\" class=\"dataframe\">\n",
       "  <thead>\n",
       "    <tr style=\"text-align: right;\">\n",
       "      <th></th>\n",
       "      <th>release_year</th>\n",
       "      <th>runtime</th>\n",
       "      <th>first_genre_action</th>\n",
       "      <th>first_genre_animation</th>\n",
       "      <th>first_genre_comedy</th>\n",
       "      <th>first_genre_crime</th>\n",
       "      <th>first_genre_documentation</th>\n",
       "      <th>first_genre_drama</th>\n",
       "      <th>first_genre_family</th>\n",
       "      <th>first_genre_fantasy</th>\n",
       "      <th>...</th>\n",
       "      <th>country_TZ</th>\n",
       "      <th>country_UA</th>\n",
       "      <th>country_US</th>\n",
       "      <th>country_UY</th>\n",
       "      <th>country_VE</th>\n",
       "      <th>country_VN</th>\n",
       "      <th>country_XX</th>\n",
       "      <th>country_ZA</th>\n",
       "      <th>country_ZW</th>\n",
       "      <th>country_unknown_country</th>\n",
       "    </tr>\n",
       "  </thead>\n",
       "  <tbody>\n",
       "    <tr>\n",
       "      <th>0</th>\n",
       "      <td>1976</td>\n",
       "      <td>114</td>\n",
       "      <td>False</td>\n",
       "      <td>False</td>\n",
       "      <td>False</td>\n",
       "      <td>False</td>\n",
       "      <td>False</td>\n",
       "      <td>True</td>\n",
       "      <td>False</td>\n",
       "      <td>False</td>\n",
       "      <td>...</td>\n",
       "      <td>False</td>\n",
       "      <td>False</td>\n",
       "      <td>True</td>\n",
       "      <td>False</td>\n",
       "      <td>False</td>\n",
       "      <td>False</td>\n",
       "      <td>False</td>\n",
       "      <td>False</td>\n",
       "      <td>False</td>\n",
       "      <td>False</td>\n",
       "    </tr>\n",
       "    <tr>\n",
       "      <th>1</th>\n",
       "      <td>1972</td>\n",
       "      <td>109</td>\n",
       "      <td>False</td>\n",
       "      <td>False</td>\n",
       "      <td>False</td>\n",
       "      <td>False</td>\n",
       "      <td>False</td>\n",
       "      <td>True</td>\n",
       "      <td>False</td>\n",
       "      <td>False</td>\n",
       "      <td>...</td>\n",
       "      <td>False</td>\n",
       "      <td>False</td>\n",
       "      <td>True</td>\n",
       "      <td>False</td>\n",
       "      <td>False</td>\n",
       "      <td>False</td>\n",
       "      <td>False</td>\n",
       "      <td>False</td>\n",
       "      <td>False</td>\n",
       "      <td>False</td>\n",
       "    </tr>\n",
       "    <tr>\n",
       "      <th>2</th>\n",
       "      <td>1975</td>\n",
       "      <td>91</td>\n",
       "      <td>False</td>\n",
       "      <td>False</td>\n",
       "      <td>False</td>\n",
       "      <td>False</td>\n",
       "      <td>False</td>\n",
       "      <td>False</td>\n",
       "      <td>False</td>\n",
       "      <td>True</td>\n",
       "      <td>...</td>\n",
       "      <td>False</td>\n",
       "      <td>False</td>\n",
       "      <td>False</td>\n",
       "      <td>False</td>\n",
       "      <td>False</td>\n",
       "      <td>False</td>\n",
       "      <td>False</td>\n",
       "      <td>False</td>\n",
       "      <td>False</td>\n",
       "      <td>False</td>\n",
       "    </tr>\n",
       "    <tr>\n",
       "      <th>3</th>\n",
       "      <td>1967</td>\n",
       "      <td>150</td>\n",
       "      <td>False</td>\n",
       "      <td>False</td>\n",
       "      <td>False</td>\n",
       "      <td>False</td>\n",
       "      <td>False</td>\n",
       "      <td>False</td>\n",
       "      <td>False</td>\n",
       "      <td>False</td>\n",
       "      <td>...</td>\n",
       "      <td>False</td>\n",
       "      <td>False</td>\n",
       "      <td>False</td>\n",
       "      <td>False</td>\n",
       "      <td>False</td>\n",
       "      <td>False</td>\n",
       "      <td>False</td>\n",
       "      <td>False</td>\n",
       "      <td>False</td>\n",
       "      <td>False</td>\n",
       "    </tr>\n",
       "    <tr>\n",
       "      <th>4</th>\n",
       "      <td>1979</td>\n",
       "      <td>94</td>\n",
       "      <td>False</td>\n",
       "      <td>False</td>\n",
       "      <td>True</td>\n",
       "      <td>False</td>\n",
       "      <td>False</td>\n",
       "      <td>False</td>\n",
       "      <td>False</td>\n",
       "      <td>False</td>\n",
       "      <td>...</td>\n",
       "      <td>False</td>\n",
       "      <td>False</td>\n",
       "      <td>False</td>\n",
       "      <td>False</td>\n",
       "      <td>False</td>\n",
       "      <td>False</td>\n",
       "      <td>False</td>\n",
       "      <td>False</td>\n",
       "      <td>False</td>\n",
       "      <td>False</td>\n",
       "    </tr>\n",
       "    <tr>\n",
       "      <th>...</th>\n",
       "      <td>...</td>\n",
       "      <td>...</td>\n",
       "      <td>...</td>\n",
       "      <td>...</td>\n",
       "      <td>...</td>\n",
       "      <td>...</td>\n",
       "      <td>...</td>\n",
       "      <td>...</td>\n",
       "      <td>...</td>\n",
       "      <td>...</td>\n",
       "      <td>...</td>\n",
       "      <td>...</td>\n",
       "      <td>...</td>\n",
       "      <td>...</td>\n",
       "      <td>...</td>\n",
       "      <td>...</td>\n",
       "      <td>...</td>\n",
       "      <td>...</td>\n",
       "      <td>...</td>\n",
       "      <td>...</td>\n",
       "      <td>...</td>\n",
       "    </tr>\n",
       "    <tr>\n",
       "      <th>3672</th>\n",
       "      <td>2021</td>\n",
       "      <td>25</td>\n",
       "      <td>False</td>\n",
       "      <td>True</td>\n",
       "      <td>False</td>\n",
       "      <td>False</td>\n",
       "      <td>False</td>\n",
       "      <td>False</td>\n",
       "      <td>False</td>\n",
       "      <td>False</td>\n",
       "      <td>...</td>\n",
       "      <td>False</td>\n",
       "      <td>False</td>\n",
       "      <td>False</td>\n",
       "      <td>False</td>\n",
       "      <td>False</td>\n",
       "      <td>False</td>\n",
       "      <td>False</td>\n",
       "      <td>False</td>\n",
       "      <td>False</td>\n",
       "      <td>True</td>\n",
       "    </tr>\n",
       "    <tr>\n",
       "      <th>3673</th>\n",
       "      <td>2021</td>\n",
       "      <td>93</td>\n",
       "      <td>False</td>\n",
       "      <td>False</td>\n",
       "      <td>False</td>\n",
       "      <td>False</td>\n",
       "      <td>False</td>\n",
       "      <td>False</td>\n",
       "      <td>False</td>\n",
       "      <td>False</td>\n",
       "      <td>...</td>\n",
       "      <td>False</td>\n",
       "      <td>False</td>\n",
       "      <td>False</td>\n",
       "      <td>False</td>\n",
       "      <td>False</td>\n",
       "      <td>False</td>\n",
       "      <td>False</td>\n",
       "      <td>False</td>\n",
       "      <td>False</td>\n",
       "      <td>False</td>\n",
       "    </tr>\n",
       "    <tr>\n",
       "      <th>3674</th>\n",
       "      <td>2021</td>\n",
       "      <td>100</td>\n",
       "      <td>False</td>\n",
       "      <td>False</td>\n",
       "      <td>False</td>\n",
       "      <td>False</td>\n",
       "      <td>False</td>\n",
       "      <td>False</td>\n",
       "      <td>False</td>\n",
       "      <td>False</td>\n",
       "      <td>...</td>\n",
       "      <td>False</td>\n",
       "      <td>False</td>\n",
       "      <td>False</td>\n",
       "      <td>False</td>\n",
       "      <td>False</td>\n",
       "      <td>False</td>\n",
       "      <td>False</td>\n",
       "      <td>False</td>\n",
       "      <td>False</td>\n",
       "      <td>False</td>\n",
       "    </tr>\n",
       "    <tr>\n",
       "      <th>3675</th>\n",
       "      <td>2021</td>\n",
       "      <td>134</td>\n",
       "      <td>False</td>\n",
       "      <td>False</td>\n",
       "      <td>False</td>\n",
       "      <td>False</td>\n",
       "      <td>False</td>\n",
       "      <td>True</td>\n",
       "      <td>False</td>\n",
       "      <td>False</td>\n",
       "      <td>...</td>\n",
       "      <td>False</td>\n",
       "      <td>False</td>\n",
       "      <td>False</td>\n",
       "      <td>False</td>\n",
       "      <td>False</td>\n",
       "      <td>False</td>\n",
       "      <td>False</td>\n",
       "      <td>False</td>\n",
       "      <td>False</td>\n",
       "      <td>True</td>\n",
       "    </tr>\n",
       "    <tr>\n",
       "      <th>3676</th>\n",
       "      <td>2021</td>\n",
       "      <td>90</td>\n",
       "      <td>False</td>\n",
       "      <td>False</td>\n",
       "      <td>True</td>\n",
       "      <td>False</td>\n",
       "      <td>False</td>\n",
       "      <td>False</td>\n",
       "      <td>False</td>\n",
       "      <td>False</td>\n",
       "      <td>...</td>\n",
       "      <td>False</td>\n",
       "      <td>False</td>\n",
       "      <td>False</td>\n",
       "      <td>False</td>\n",
       "      <td>False</td>\n",
       "      <td>False</td>\n",
       "      <td>False</td>\n",
       "      <td>False</td>\n",
       "      <td>False</td>\n",
       "      <td>False</td>\n",
       "    </tr>\n",
       "  </tbody>\n",
       "</table>\n",
       "<p>3677 rows × 133 columns</p>\n",
       "</div>"
      ],
      "text/plain": [
       "      release_year  runtime  first_genre_action  first_genre_animation  \\\n",
       "0             1976      114               False                  False   \n",
       "1             1972      109               False                  False   \n",
       "2             1975       91               False                  False   \n",
       "3             1967      150               False                  False   \n",
       "4             1979       94               False                  False   \n",
       "...            ...      ...                 ...                    ...   \n",
       "3672          2021       25               False                   True   \n",
       "3673          2021       93               False                  False   \n",
       "3674          2021      100               False                  False   \n",
       "3675          2021      134               False                  False   \n",
       "3676          2021       90               False                  False   \n",
       "\n",
       "      first_genre_comedy  first_genre_crime  first_genre_documentation  \\\n",
       "0                  False              False                      False   \n",
       "1                  False              False                      False   \n",
       "2                  False              False                      False   \n",
       "3                  False              False                      False   \n",
       "4                   True              False                      False   \n",
       "...                  ...                ...                        ...   \n",
       "3672               False              False                      False   \n",
       "3673               False              False                      False   \n",
       "3674               False              False                      False   \n",
       "3675               False              False                      False   \n",
       "3676                True              False                      False   \n",
       "\n",
       "      first_genre_drama  first_genre_family  first_genre_fantasy  ...  \\\n",
       "0                  True               False                False  ...   \n",
       "1                  True               False                False  ...   \n",
       "2                 False               False                 True  ...   \n",
       "3                 False               False                False  ...   \n",
       "4                 False               False                False  ...   \n",
       "...                 ...                 ...                  ...  ...   \n",
       "3672              False               False                False  ...   \n",
       "3673              False               False                False  ...   \n",
       "3674              False               False                False  ...   \n",
       "3675               True               False                False  ...   \n",
       "3676              False               False                False  ...   \n",
       "\n",
       "      country_TZ  country_UA  country_US  country_UY  country_VE  country_VN  \\\n",
       "0          False       False        True       False       False       False   \n",
       "1          False       False        True       False       False       False   \n",
       "2          False       False       False       False       False       False   \n",
       "3          False       False       False       False       False       False   \n",
       "4          False       False       False       False       False       False   \n",
       "...          ...         ...         ...         ...         ...         ...   \n",
       "3672       False       False       False       False       False       False   \n",
       "3673       False       False       False       False       False       False   \n",
       "3674       False       False       False       False       False       False   \n",
       "3675       False       False       False       False       False       False   \n",
       "3676       False       False       False       False       False       False   \n",
       "\n",
       "      country_XX  country_ZA  country_ZW  country_unknown_country  \n",
       "0          False       False       False                    False  \n",
       "1          False       False       False                    False  \n",
       "2          False       False       False                    False  \n",
       "3          False       False       False                    False  \n",
       "4          False       False       False                    False  \n",
       "...          ...         ...         ...                      ...  \n",
       "3672       False       False       False                     True  \n",
       "3673       False       False       False                    False  \n",
       "3674       False       False       False                    False  \n",
       "3675       False       False       False                     True  \n",
       "3676       False       False       False                    False  \n",
       "\n",
       "[3677 rows x 133 columns]"
      ]
     },
     "execution_count": 84,
     "metadata": {},
     "output_type": "execute_result"
    }
   ],
   "source": [
    "features"
   ]
  },
  {
   "cell_type": "markdown",
   "id": "97866d36-5f88-4997-8700-2f74db7fdc23",
   "metadata": {
    "jp-MarkdownHeadingCollapsed": true,
    "tags": []
   },
   "source": [
    "#### Preprocessing : Scaling and combined all features"
   ]
  },
  {
   "cell_type": "code",
   "execution_count": 86,
   "id": "30066bf4-1cb9-46d2-908e-69654aaf9b70",
   "metadata": {},
   "outputs": [],
   "source": [
    "# normalized / scale \n",
    "from sklearn.preprocessing import StandardScaler\n",
    "scaler = StandardScaler()\n",
    "features_scaled = scaler.fit_transform(features)"
   ]
  },
  {
   "cell_type": "code",
   "execution_count": 87,
   "id": "8f121526-e293-4ea3-b044-f9cbb69ac788",
   "metadata": {},
   "outputs": [],
   "source": [
    "# Adding the keywords vectors\n",
    "vectors = np.array(df['vector'].tolist())\n",
    "combined_features = np.hstack((vectors, features_scaled))"
   ]
  },
  {
   "cell_type": "markdown",
   "id": "a017ff22-4f56-4de9-9f9f-21ec8a932937",
   "metadata": {},
   "source": [
    "#### Implementing KNN"
   ]
  },
  {
   "cell_type": "code",
   "execution_count": 89,
   "id": "c601e959-9530-4602-b755-b7347581eec1",
   "metadata": {
    "tags": []
   },
   "outputs": [],
   "source": [
    "knn = NearestNeighbors(n_neighbors=10, metric='cosine').fit(combined_features)"
   ]
  },
  {
   "cell_type": "markdown",
   "id": "beb6743e-c010-4a43-83fe-c3a9133d3d97",
   "metadata": {},
   "source": [
    "## Section 8 : Testing Similarity-Based Recommendation"
   ]
  },
  {
   "cell_type": "code",
   "execution_count": 91,
   "id": "2255caea-4efb-4a70-ba1e-824372a9f3c4",
   "metadata": {},
   "outputs": [],
   "source": [
    "def recommend_movies(movie_id, n_recommendations=5):\n",
    "    movie_index = df.index[df['id'] == movie_id][0]\n",
    "    distances, indices = knn.kneighbors([combined_features[movie_index]])\n",
    "    recommended_movies = df.iloc[indices[0][1:n_recommendations+1]]\n",
    "    return recommended_movies[['id', 'title']]"
   ]
  },
  {
   "cell_type": "code",
   "execution_count": 92,
   "id": "6d5e4d00-bfdd-49d9-85a8-f6e2f27b834e",
   "metadata": {},
   "outputs": [],
   "source": [
    "movie_id = 'tm1097142'  # ID du film que l'utilisateur a aimé\n",
    "recommendations = recommend_movies(movie_id)"
   ]
  },
  {
   "cell_type": "code",
   "execution_count": 93,
   "id": "c83dedb2-3e05-4a14-8712-558f89b34209",
   "metadata": {},
   "outputs": [
    {
     "data": {
      "text/html": [
       "<div>\n",
       "<style scoped>\n",
       "    .dataframe tbody tr th:only-of-type {\n",
       "        vertical-align: middle;\n",
       "    }\n",
       "\n",
       "    .dataframe tbody tr th {\n",
       "        vertical-align: top;\n",
       "    }\n",
       "\n",
       "    .dataframe thead th {\n",
       "        text-align: right;\n",
       "    }\n",
       "</style>\n",
       "<table border=\"1\" class=\"dataframe\">\n",
       "  <thead>\n",
       "    <tr style=\"text-align: right;\">\n",
       "      <th></th>\n",
       "      <th>id</th>\n",
       "      <th>title</th>\n",
       "    </tr>\n",
       "  </thead>\n",
       "  <tbody>\n",
       "    <tr>\n",
       "      <th>1857</th>\n",
       "      <td>tm311193</td>\n",
       "      <td>Seeking a Man</td>\n",
       "    </tr>\n",
       "    <tr>\n",
       "      <th>1126</th>\n",
       "      <td>tm235232</td>\n",
       "      <td>Misunderstanding</td>\n",
       "    </tr>\n",
       "    <tr>\n",
       "      <th>2908</th>\n",
       "      <td>tm853091</td>\n",
       "      <td>The American Game</td>\n",
       "    </tr>\n",
       "    <tr>\n",
       "      <th>3001</th>\n",
       "      <td>tm815438</td>\n",
       "      <td>Sab el-Burumbah</td>\n",
       "    </tr>\n",
       "    <tr>\n",
       "      <th>2916</th>\n",
       "      <td>tm823848</td>\n",
       "      <td>Mohamed Hussein</td>\n",
       "    </tr>\n",
       "  </tbody>\n",
       "</table>\n",
       "</div>"
      ],
      "text/plain": [
       "            id              title\n",
       "1857  tm311193      Seeking a Man\n",
       "1126  tm235232   Misunderstanding\n",
       "2908  tm853091  The American Game\n",
       "3001  tm815438    Sab el-Burumbah\n",
       "2916  tm823848    Mohamed Hussein"
      ]
     },
     "execution_count": 93,
     "metadata": {},
     "output_type": "execute_result"
    }
   ],
   "source": [
    "recommendations"
   ]
  },
  {
   "cell_type": "code",
   "execution_count": 107,
   "id": "f1511759-dc23-4adb-bc0e-0e53d7a668a3",
   "metadata": {},
   "outputs": [],
   "source": [
    "def recommend_movies(liked_movie_ids, n_recommendations=5):\n",
    "    movie_indices = [df.index[df['id'] == movie_id][0] for movie_id in liked_movie_ids]\n",
    "    liked_movie_vectors = [combined_features[movie_index] for movie_index in movie_indices]\n",
    "    average_vector = np.mean(liked_movie_vectors, axis=0)\n",
    "    \n",
    "    distances, indices = knn.kneighbors([average_vector])\n",
    "    \n",
    "    # Exclude already liked movies from the recommendations\n",
    "    recommended_indices = []\n",
    "    for index in indices[0]:\n",
    "        movie_id = df.iloc[index]['id']\n",
    "        if movie_id not in liked_movie_ids:\n",
    "            recommended_indices.append(index)\n",
    "        if len(recommended_indices) == n_recommendations:\n",
    "            break\n",
    "    \n",
    "    recommended_movies = df.iloc[recommended_indices]\n",
    "    \n",
    "    \n",
    "    return recommended_movies[['id', 'title']]\n"
   ]
  },
  {
   "cell_type": "code",
   "execution_count": 121,
   "id": "33937360-9a1e-435d-b6aa-0e6ac242b0d0",
   "metadata": {
    "tags": []
   },
   "outputs": [],
   "source": [
    "liked_movie_ids = ['tm84618', 'tm15897', 'tm25947', 'tm70807']  # IDs of the movies the user liked\n"
   ]
  },
  {
   "cell_type": "code",
   "execution_count": 123,
   "id": "c2d4c9cc-b97d-4b1f-9c0d-0963ff8c865b",
   "metadata": {
    "tags": []
   },
   "outputs": [],
   "source": [
    "recommendations = recommend_movies(liked_movie_ids)"
   ]
  },
  {
   "cell_type": "code",
   "execution_count": 125,
   "id": "6a942a92-9c96-462b-b792-eb6c1eaebcac",
   "metadata": {
    "tags": []
   },
   "outputs": [
    {
     "data": {
      "text/html": [
       "<div>\n",
       "<style scoped>\n",
       "    .dataframe tbody tr th:only-of-type {\n",
       "        vertical-align: middle;\n",
       "    }\n",
       "\n",
       "    .dataframe tbody tr th {\n",
       "        vertical-align: top;\n",
       "    }\n",
       "\n",
       "    .dataframe thead th {\n",
       "        text-align: right;\n",
       "    }\n",
       "</style>\n",
       "<table border=\"1\" class=\"dataframe\">\n",
       "  <thead>\n",
       "    <tr style=\"text-align: right;\">\n",
       "      <th></th>\n",
       "      <th>id</th>\n",
       "      <th>title</th>\n",
       "    </tr>\n",
       "  </thead>\n",
       "  <tbody>\n",
       "    <tr>\n",
       "      <th>117</th>\n",
       "      <td>tm192431</td>\n",
       "      <td>The Devil's Own</td>\n",
       "    </tr>\n",
       "    <tr>\n",
       "      <th>38</th>\n",
       "      <td>tm177480</td>\n",
       "      <td>Police Academy</td>\n",
       "    </tr>\n",
       "    <tr>\n",
       "      <th>26</th>\n",
       "      <td>tm336403</td>\n",
       "      <td>Khoon Khoon</td>\n",
       "    </tr>\n",
       "    <tr>\n",
       "      <th>6</th>\n",
       "      <td>tm119281</td>\n",
       "      <td>Bonnie and Clyde</td>\n",
       "    </tr>\n",
       "    <tr>\n",
       "      <th>34</th>\n",
       "      <td>tm180542</td>\n",
       "      <td>Once Upon a Time in America</td>\n",
       "    </tr>\n",
       "  </tbody>\n",
       "</table>\n",
       "</div>"
      ],
      "text/plain": [
       "           id                        title\n",
       "117  tm192431              The Devil's Own\n",
       "38   tm177480               Police Academy\n",
       "26   tm336403                  Khoon Khoon\n",
       "6    tm119281             Bonnie and Clyde\n",
       "34   tm180542  Once Upon a Time in America"
      ]
     },
     "execution_count": 125,
     "metadata": {},
     "output_type": "execute_result"
    }
   ],
   "source": [
    "recommendations"
   ]
  }
 ],
 "metadata": {
  "kernelspec": {
   "display_name": "Python 3 (ipykernel)",
   "language": "python",
   "name": "python3"
  },
  "language_info": {
   "codemirror_mode": {
    "name": "ipython",
    "version": 3
   },
   "file_extension": ".py",
   "mimetype": "text/x-python",
   "name": "python",
   "nbconvert_exporter": "python",
   "pygments_lexer": "ipython3",
   "version": "3.11.7"
  }
 },
 "nbformat": 4,
 "nbformat_minor": 5
}
